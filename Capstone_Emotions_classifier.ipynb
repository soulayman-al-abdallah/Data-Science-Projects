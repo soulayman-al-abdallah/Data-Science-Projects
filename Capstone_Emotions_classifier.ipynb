{
  "cells": [
    {
      "cell_type": "markdown",
      "metadata": {
        "id": "view-in-github",
        "colab_type": "text"
      },
      "source": [
        "<a href=\"https://colab.research.google.com/github/soulayman-al-abdallah/Data-Science-Projects/blob/main/Capstone_Emotions_classifier.ipynb\" target=\"_parent\"><img src=\"https://colab.research.google.com/assets/colab-badge.svg\" alt=\"Open In Colab\"/></a>"
      ]
    },
    {
      "cell_type": "markdown",
      "source": [
        "**Mission: Creating a machine learning model that classifies the emotion of a voice segment**\n",
        "\n",
        "- Data download\n",
        "- Data Preparation\n",
        "- Audio decomposition code into sub-audios\n",
        "- Data preprocessing\n",
        "- Feature Engineering\n",
        "- Model design ( 4 useless models, the 5th is the used one)\n",
        "- Model testing\n",
        "- Deploying needs"
      ],
      "metadata": {
        "id": "KM6WP31ArDfs"
      }
    },
    {
      "cell_type": "markdown",
      "source": [
        "# Datasets Description"
      ],
      "metadata": {
        "id": "9PebfBdHyJBQ"
      }
    },
    {
      "cell_type": "markdown",
      "metadata": {
        "id": "YxwASkByGisD"
      },
      "source": [
        "**SAVEE dataset classes:**\n",
        "\n",
        "\n",
        "'a' = 'anger'\n",
        "\n",
        "'d' = 'disgust'\n",
        "\n",
        "'f' = 'fear'\n",
        "\n",
        "'h' = 'happiness'\n",
        "\n",
        "'n' = 'neutral'\n",
        "\n",
        "'sa' = 'sadness'\n",
        "\n",
        "'su' = 'surprise'\n",
        "\n",
        "male_neutral     120\n",
        "male_surprise     60\n",
        "male_sad          60\n",
        "male_disgust      60\n",
        "male_happy        60\n",
        "male_fear         60\n",
        "male_angry        60\n",
        "\n",
        "\n",
        "= 480\n"
      ]
    },
    {
      "cell_type": "markdown",
      "metadata": {
        "id": "se0row7HJYzp"
      },
      "source": [
        "**RAVDESS dataset classes:**\n",
        "\n",
        "Modality (01 = full-AV, 02 = video-only, 03 = audio-only).\n",
        "\n",
        "Vocal channel (01 = speech, 02 = song).\n",
        "\n",
        "Emotion (01 = neutral, 02 = calm, 03 = happy, 04 = sad, 05 = angry, 06 = fearful, 07 = disgust, 08 = surprised).\n",
        "\n",
        "Emotional intensity (01 = normal, 02 = strong). NOTE: There is no strong intensity for the 'neutral' emotion.\n",
        "\n",
        "Statement (01 = \"Kids are talking by the door\", 02 = \"Dogs are sitting by the door\").\n",
        "\n",
        "Repetition (01 = 1st repetition, 02 = 2nd repetition).\n",
        "\n",
        "Actor (01 to 24. Odd numbered actors are male, even numbered actors are female).\n",
        "So, here's an example of an audio filename. 02-01-06-01-02-01-12.mp4\n",
        "\n",
        "**This means the meta data for the audio file is:**\n",
        "\n",
        "Video-only (02)\n",
        "Speech (01)\n",
        "Fearful (06)\n",
        "Normal intensity (01)\n",
        "Statement \"dogs\" (02)\n",
        "1st Repetition (01)\n",
        "12th Actor (12) - Female (as the actor ID number is even)\n",
        "\n",
        "female_neutral     144\n",
        "male_neutral       144\n",
        "male_sad            96\n",
        "male_happy          96\n",
        "male_fear           96\n",
        "female_happy        96\n",
        "female_angry        96\n",
        "female_fear         96\n",
        "female_disgust      96\n",
        "male_disgust        96\n",
        "male_angry          96\n",
        "female_surprise     96\n",
        "male_surprise       96\n",
        "female_sad          96\n",
        "\n",
        "=1632"
      ]
    },
    {
      "cell_type": "markdown",
      "metadata": {
        "id": "TMTYPw9mJsxk"
      },
      "source": [
        "**TESS dataset classes**\n",
        "\n",
        "young female and an older female.\n",
        "\n",
        "\n",
        "'OAF_Fear',\n",
        " 'OAF_Pleasant_surprise',\n",
        " 'OAF_Sad',\n",
        " 'OAF_angry',\n",
        " 'OAF_disgust',\n",
        " 'OAF_happy',\n",
        " 'OAF_neutral',\n",
        " 'YAF_angry',\n",
        " 'YAF_disgust',\n",
        " 'YAF_fear',\n",
        " 'YAF_happy',\n",
        " 'YAF_neutral',\n",
        " 'YAF_pleasant_surprised',\n",
        " 'YAF_sad'\n",
        "\n",
        " female_neutral     400\n",
        "female_surprise    400\n",
        "female_happy       400\n",
        "female_angry       400\n",
        "female_fear        400\n",
        "female_disgust     400\n",
        "female_sad         400\n",
        "\n",
        "=2800"
      ]
    },
    {
      "cell_type": "markdown",
      "metadata": {
        "id": "fd9KEa6yL-T_"
      },
      "source": [
        "**CREMA-D dataset**\n",
        "\n",
        "male_angry        671\n",
        "male_happy        671\n",
        "male_fear         671\n",
        "male_sad          671\n",
        "male_disgust      671\n",
        "female_angry      600\n",
        "female_fear       600\n",
        "female_disgust    600\n",
        "female_happy      600\n",
        "female_sad        600\n",
        "male_neutral      575\n",
        "female_neutral    512\n",
        "\n",
        "=7442"
      ]
    },
    {
      "cell_type": "markdown",
      "metadata": {
        "id": "_Lk0v8SiSXeR"
      },
      "source": [
        "--------------------------------------------------"
      ]
    },
    {
      "cell_type": "markdown",
      "metadata": {
        "id": "wPtDfiEPkpTK"
      },
      "source": [
        "**Concatinating all data:**\n",
        "\n",
        "\n",
        "female_angry       1096\n",
        "\n",
        "female_fear        1096\n",
        "\n",
        "female_disgust     1096\n",
        "\n",
        "female_happy       1096\n",
        "\n",
        "female_sad         1096\n",
        "\n",
        "female_neutral     1056\n",
        "\n",
        "female_surprise     496\n",
        "\n",
        "male_neutral        839\n",
        "\n",
        "male_happy          827\n",
        "\n",
        "male_fear           827\n",
        "\n",
        "male_sad            827\n",
        "\n",
        "male_angry          827\n",
        "\n",
        "male_disgust        827\n",
        "\n",
        "male_surprise       156"
      ]
    },
    {
      "cell_type": "code",
      "execution_count": null,
      "metadata": {
        "id": "ideHHaJSTxep"
      },
      "outputs": [],
      "source": [
        "import shutil\n",
        "shutil.rmtree('/content/New_surprize')"
      ]
    },
    {
      "cell_type": "markdown",
      "source": [
        "Get from kaggle.com a kaggle.json file to be able to load datasets from there to this colab directly, and then upload it to the \"Files\" section of this colab"
      ],
      "metadata": {
        "id": "_5xOGfPnyxWN"
      }
    },
    {
      "cell_type": "code",
      "execution_count": null,
      "metadata": {
        "id": "icXR7Mf1SOTd",
        "colab": {
          "base_uri": "https://localhost:8080/"
        },
        "outputId": "2c0e0e05-8bb2-4915-ba13-83033030c1cc"
      },
      "outputs": [
        {
          "output_type": "stream",
          "name": "stdout",
          "text": [
            "mkdir: cannot create directory ‘/root/.kaggle’: File exists\n"
          ]
        }
      ],
      "source": [
        "! mkdir ~/.kaggle"
      ]
    },
    {
      "cell_type": "code",
      "execution_count": null,
      "metadata": {
        "id": "4HpE2AaGSP_g"
      },
      "outputs": [],
      "source": [
        "! cp kaggle.json ~/.kaggle/"
      ]
    },
    {
      "cell_type": "code",
      "execution_count": null,
      "metadata": {
        "id": "emMPVsPySROv"
      },
      "outputs": [],
      "source": [
        "! chmod 600 ~/.kaggle/kaggle.json"
      ]
    },
    {
      "cell_type": "code",
      "execution_count": null,
      "metadata": {
        "id": "aLs2Gw91SS2c"
      },
      "outputs": [],
      "source": [
        "#! kaggle datasets list"
      ]
    },
    {
      "cell_type": "markdown",
      "metadata": {
        "id": "UAFGVZ59ZQ7R"
      },
      "source": [
        "# Clone DataSets"
      ]
    },
    {
      "cell_type": "markdown",
      "metadata": {
        "id": "HwDOePo66f5z"
      },
      "source": [
        "## Cloning CREMA"
      ]
    },
    {
      "cell_type": "code",
      "execution_count": null,
      "metadata": {
        "colab": {
          "base_uri": "https://localhost:8080/"
        },
        "id": "9TKIUpXn57hr",
        "outputId": "97ff38a1-a485-4c2d-c737-6f6f92bb6cfa"
      },
      "outputs": [
        {
          "output_type": "stream",
          "name": "stdout",
          "text": [
            "Downloading cremad.zip to /content\n",
            "100% 451M/451M [00:08<00:00, 108MB/s] \n",
            "100% 451M/451M [00:08<00:00, 57.4MB/s]\n"
          ]
        }
      ],
      "source": [
        "!kaggle datasets download -d ejlok1/cremad"
      ]
    },
    {
      "cell_type": "code",
      "execution_count": null,
      "metadata": {
        "id": "ELb9EFoJ6izI"
      },
      "outputs": [],
      "source": [
        "! unzip cremad.zip -d crema"
      ]
    },
    {
      "cell_type": "markdown",
      "metadata": {
        "id": "-0Id2WWHUud0"
      },
      "source": [
        "## CLonning Kaggle ravdess"
      ]
    },
    {
      "cell_type": "code",
      "execution_count": null,
      "metadata": {
        "colab": {
          "base_uri": "https://localhost:8080/"
        },
        "id": "EMHjJEJ3SUuc",
        "outputId": "052dd22a-3dbd-4709-b96a-2d4dcd7bf4d4"
      },
      "outputs": [
        {
          "output_type": "stream",
          "name": "stdout",
          "text": [
            "Downloading ravdess-emotional-song-audio.zip to /content\n",
            " 99% 450M/456M [00:04<00:00, 109MB/s] \n",
            "100% 456M/456M [00:04<00:00, 106MB/s]\n"
          ]
        }
      ],
      "source": [
        "!kaggle datasets download -d uwrfkaggler/ravdess-emotional-song-audio"
      ]
    },
    {
      "cell_type": "code",
      "execution_count": null,
      "metadata": {
        "id": "lt7ChSdRSwzd"
      },
      "outputs": [],
      "source": [
        "! unzip ravdess-emotional-song-audio.zip -d ravdess-emotional"
      ]
    },
    {
      "cell_type": "markdown",
      "metadata": {
        "id": "UyTjdoYGVo1d"
      },
      "source": [
        "## Clonning SAVEE"
      ]
    },
    {
      "cell_type": "code",
      "execution_count": null,
      "metadata": {
        "id": "h4KJj63_U7UM",
        "colab": {
          "base_uri": "https://localhost:8080/"
        },
        "outputId": "f5842fef-7db5-4325-ca5a-f183139f34ac"
      },
      "outputs": [
        {
          "output_type": "stream",
          "name": "stdout",
          "text": [
            "Downloading surrey-audiovisual-expressed-emotion-savee.zip to /content\n",
            " 98% 105M/107M [00:02<00:00, 51.4MB/s] \n",
            "100% 107M/107M [00:02<00:00, 53.9MB/s]\n"
          ]
        }
      ],
      "source": [
        "!kaggle datasets download -d ejlok1/surrey-audiovisual-expressed-emotion-savee"
      ]
    },
    {
      "cell_type": "code",
      "execution_count": null,
      "metadata": {
        "id": "gYkEfEd7VeV-"
      },
      "outputs": [],
      "source": [
        "! unzip surrey-audiovisual-expressed-emotion-savee.zip -d surrey-audiovisual"
      ]
    },
    {
      "cell_type": "markdown",
      "metadata": {
        "id": "1jYPvoSBW_Dy"
      },
      "source": [
        "## Clonning Kaggle toronto"
      ]
    },
    {
      "cell_type": "code",
      "execution_count": null,
      "metadata": {
        "id": "zSLRwdbHquFp",
        "colab": {
          "base_uri": "https://localhost:8080/"
        },
        "outputId": "1878164a-a78c-4aaf-8107-be76ccdf6a4a"
      },
      "outputs": [
        {
          "output_type": "stream",
          "name": "stdout",
          "text": [
            "Downloading toronto-emotional-speech-set-tess.zip to /content\n",
            "100% 427M/428M [00:04<00:00, 129MB/s]\n",
            "100% 428M/428M [00:04<00:00, 106MB/s]\n"
          ]
        }
      ],
      "source": [
        "!kaggle datasets download -d ejlok1/toronto-emotional-speech-set-tess/OAF_S --force"
      ]
    },
    {
      "cell_type": "code",
      "execution_count": null,
      "metadata": {
        "id": "MGREvDaCWJwA"
      },
      "outputs": [],
      "source": [
        "!  unzip toronto-emotional-speech-set-tess.zip -d toronto"
      ]
    },
    {
      "cell_type": "markdown",
      "metadata": {
        "id": "7Ws_k93oly48"
      },
      "source": [
        "# Data Preprocessing"
      ]
    },
    {
      "cell_type": "code",
      "execution_count": null,
      "metadata": {
        "id": "0HUHb2X4FDNu"
      },
      "outputs": [],
      "source": [
        "# Import libraries \n",
        "\n",
        "\n",
        "import librosa\n",
        "import librosa.display\n",
        "import numpy as np\n",
        "import matplotlib.pyplot as plt\n",
        "import tensorflow as tf\n",
        "from matplotlib.pyplot import specgram\n",
        "import pandas as pd\n",
        "import glob \n",
        "from sklearn.metrics import confusion_matrix\n",
        "import IPython.display as ipd  # To play sound in the notebook\n",
        "import os\n",
        "import sys\n",
        "import warnings\n",
        "# ignore warnings \n",
        "if not sys.warnoptions:\n",
        "    warnings.simplefilter(\"ignore\")\n",
        "warnings.filterwarnings(\"ignore\", category=DeprecationWarning) "
      ]
    },
    {
      "cell_type": "code",
      "execution_count": null,
      "metadata": {
        "colab": {
          "base_uri": "https://localhost:8080/"
        },
        "id": "dM4DzJTmd8Fm",
        "outputId": "a60a8995-0d2f-41d1-edee-c8887a3c8b71"
      },
      "outputs": [
        {
          "output_type": "execute_result",
          "data": {
            "text/plain": [
              "['TESS Toronto emotional speech set data',\n",
              " 'tess toronto emotional speech set data']"
            ]
          },
          "metadata": {},
          "execution_count": 20
        }
      ],
      "source": [
        "os.listdir('/content/toronto')"
      ]
    },
    {
      "cell_type": "markdown",
      "metadata": {
        "id": "G8kG0Mvol6Ke"
      },
      "source": [
        "## Reshaping Ravdes Directory only"
      ]
    },
    {
      "cell_type": "code",
      "execution_count": null,
      "metadata": {
        "id": "i8GhlrQgf_P-"
      },
      "outputs": [],
      "source": [
        "import shutil\n",
        "import os\n",
        "ravades = '/content/ravdess-emotional'\n",
        "if 'ALL' not in os.listdir(ravades):\n",
        "    os.mkdir(ravades+'/'+'ALL')\n",
        "for actor in os.listdir(ravades):\n",
        "  if actor!='ALL' and actor != '.ipynb_checkpoints' and actor != 'audio_song_actors_01-24':\n",
        "\n",
        "    file_source = '/content/ravdess-emotional/'+actor+'/'\n",
        "    file_destination = '/content/ravdess-emotional/ALL'\n",
        "    \n",
        "    get_files = os.listdir(file_source)\n",
        "    for g in get_files:\n",
        "      shutil.move(file_source + g, file_destination)"
      ]
    },
    {
      "cell_type": "code",
      "execution_count": null,
      "metadata": {
        "id": "lynNFVi2hlU-"
      },
      "outputs": [],
      "source": [
        "import shutil\n",
        "for actor in os.listdir(ravades):\n",
        "  if actor != \"ALL\":\n",
        "    shutil.rmtree(ravades+'/'+actor)"
      ]
    },
    {
      "cell_type": "markdown",
      "metadata": {
        "id": "fyfG-D9NmAHR"
      },
      "source": [
        "## Renaming wav files only in df"
      ]
    },
    {
      "cell_type": "code",
      "execution_count": null,
      "metadata": {
        "colab": {
          "base_uri": "https://localhost:8080/"
        },
        "id": "PW-9YpJjHRD-",
        "outputId": "f0cf9158-f429-4ed1-f16f-b2ef6c3a092c"
      },
      "outputs": [
        {
          "output_type": "execute_result",
          "data": {
            "text/plain": [
              "['DC_su12.wav', 'JE_n14.wav', 'JE_sa08.wav', 'DC_su04.wav', 'DC_n27.wav']"
            ]
          },
          "metadata": {},
          "execution_count": 23
        }
      ],
      "source": [
        "TESS = \"/content/toronto/TESS Toronto emotional speech set data/\"\n",
        "RAV = \"/content/ravdess-emotional/ALL/\"\n",
        "SAVEE = \"/content/surrey-audiovisual/ALL/\"\n",
        "CREMA = \"/content/crema/AudioWAV/\"\n",
        "\n",
        "# Run one example \n",
        "dir_list = os.listdir(SAVEE)\n",
        "dir_list[0:5]"
      ]
    },
    {
      "cell_type": "code",
      "execution_count": null,
      "metadata": {
        "colab": {
          "base_uri": "https://localhost:8080/"
        },
        "id": "HRHm9BZNPsBz",
        "outputId": "5cc2149d-43e6-4106-ea80-c5567a62003f"
      },
      "outputs": [
        {
          "output_type": "execute_result",
          "data": {
            "text/plain": [
              "neutral     120\n",
              "surprise     60\n",
              "sad          60\n",
              "happy        60\n",
              "fear         60\n",
              "disgust      60\n",
              "angry        60\n",
              "Name: labels, dtype: int64"
            ]
          },
          "metadata": {},
          "execution_count": 24
        }
      ],
      "source": [
        "#SAVEE\n",
        "\n",
        "\n",
        "# Get the data location for SAVEE\n",
        "dir_list = os.listdir(SAVEE)\n",
        "\n",
        "# parse the filename to get the emotions\n",
        "emotion=[]\n",
        "path = []\n",
        "for i in dir_list:\n",
        "    if i[-8:-6]=='_a':\n",
        "        emotion.append('angry')\n",
        "    elif i[-8:-6]=='_d':\n",
        "        emotion.append('disgust')\n",
        "    elif i[-8:-6]=='_f':\n",
        "        emotion.append('fear')\n",
        "    elif i[-8:-6]=='_h':\n",
        "        emotion.append('happy')\n",
        "    elif i[-8:-6]=='_n':\n",
        "        emotion.append('neutral')\n",
        "    elif i[-8:-6]=='sa':\n",
        "        emotion.append('sad')\n",
        "    elif i[-8:-6]=='su':\n",
        "        emotion.append('surprise')\n",
        "    else:\n",
        "        emotion.append('error') \n",
        "    path.append(SAVEE + i)\n",
        "    \n",
        "# Now check out the label count distribution \n",
        "SAVEE_df = pd.DataFrame(emotion, columns = ['labels'])\n",
        "SAVEE_df['source'] = 'SAVEE'\n",
        "SAVEE_df = pd.concat([SAVEE_df, pd.DataFrame(path, columns = ['path'])], axis = 1)\n",
        "SAVEE_df.labels.value_counts()"
      ]
    },
    {
      "cell_type": "code",
      "execution_count": null,
      "metadata": {
        "colab": {
          "base_uri": "https://localhost:8080/"
        },
        "id": "inyJPpiDPzwX",
        "outputId": "3d067953-2ee2-44e3-82f1-6faa9506d98c"
      },
      "outputs": [
        {
          "output_type": "execute_result",
          "data": {
            "text/plain": [
              "neutral    276\n",
              "happy      184\n",
              "sad        184\n",
              "angry      184\n",
              "fear       184\n",
              "Name: labels, dtype: int64"
            ]
          },
          "metadata": {},
          "execution_count": 25
        }
      ],
      "source": [
        "#RAVEE\n",
        "\n",
        "dir_list = os.listdir(RAV)\n",
        "dir_list.sort()\n",
        "\n",
        "emotion = []\n",
        "gender = []\n",
        "path = []\n",
        "for audio in dir_list:\n",
        "    part = audio.split('.')[0].split('-')\n",
        "    emotion.append(int(part[2]))\n",
        "    path.append(RAV + audio)\n",
        "\n",
        "        \n",
        "RAV_df = pd.DataFrame(emotion)\n",
        "RAV_df = RAV_df.replace({1:'neutral', 2:'neutral', 3:'happy', 4:'sad', 5:'angry', 6:'fear', 7:'disgust', 8:'surprise'})\n",
        "\n",
        "RAV_df.columns = ['emotion']\n",
        "RAV_df['labels'] = RAV_df.emotion\n",
        "RAV_df['source'] = 'RAVDESS'  \n",
        "RAV_df = pd.concat([RAV_df,pd.DataFrame(path, columns = ['path'])],axis=1)\n",
        "\n",
        "RAV_df.labels.value_counts()"
      ]
    },
    {
      "cell_type": "code",
      "execution_count": null,
      "metadata": {
        "colab": {
          "base_uri": "https://localhost:8080/"
        },
        "id": "-6dEfPQYP5xO",
        "outputId": "f688d7b0-e84f-4c80-a602-19c8daa47318"
      },
      "outputs": [
        {
          "output_type": "execute_result",
          "data": {
            "text/plain": [
              "['OAF_Fear',\n",
              " 'OAF_Pleasant_surprise',\n",
              " 'OAF_Sad',\n",
              " 'OAF_angry',\n",
              " 'OAF_disgust',\n",
              " 'OAF_happy',\n",
              " 'OAF_neutral',\n",
              " 'YAF_angry',\n",
              " 'YAF_disgust',\n",
              " 'YAF_fear',\n",
              " 'YAF_happy',\n",
              " 'YAF_neutral',\n",
              " 'YAF_pleasant_surprised',\n",
              " 'YAF_sad']"
            ]
          },
          "metadata": {},
          "execution_count": 26
        }
      ],
      "source": [
        "dir_list = os.listdir(TESS)\n",
        "dir_list.sort()\n",
        "dir_list"
      ]
    },
    {
      "cell_type": "code",
      "execution_count": null,
      "metadata": {
        "colab": {
          "base_uri": "https://localhost:8080/"
        },
        "id": "gPdgbaRkP7wS",
        "outputId": "5b09a73c-0da3-4fc1-f3b7-1271418c12b7"
      },
      "outputs": [
        {
          "output_type": "execute_result",
          "data": {
            "text/plain": [
              "fear        400\n",
              "surprise    400\n",
              "sad         400\n",
              "angry       400\n",
              "disgust     400\n",
              "happy       400\n",
              "neutral     400\n",
              "Name: labels, dtype: int64"
            ]
          },
          "metadata": {},
          "execution_count": 27
        }
      ],
      "source": [
        "#TESS\n",
        "\n",
        "path = []\n",
        "emotion = []\n",
        "\n",
        "for i in dir_list:\n",
        "    fname = os.listdir(TESS + i)\n",
        "    for f in fname:\n",
        "        if i == 'OAF_angry' or i == 'YAF_angry':\n",
        "            emotion.append('angry')\n",
        "        elif i == 'OAF_disgust' or i == 'YAF_disgust':\n",
        "            emotion.append('disgust')\n",
        "        elif i == 'OAF_Fear' or i == 'YAF_fear':\n",
        "            emotion.append('fear')\n",
        "        elif i == 'OAF_happy' or i == 'YAF_happy':\n",
        "            emotion.append('happy')\n",
        "        elif i == 'OAF_neutral' or i == 'YAF_neutral':\n",
        "            emotion.append('neutral')                                \n",
        "        elif i == 'OAF_Pleasant_surprise' or i == 'YAF_pleasant_surprised':\n",
        "            emotion.append('surprise')               \n",
        "        elif i == 'OAF_Sad' or i == 'YAF_sad':\n",
        "            emotion.append('sad')\n",
        "        else:\n",
        "            emotion.append('Unknown')\n",
        "        path.append(TESS + i + \"/\" + f)\n",
        "\n",
        "TESS_df = pd.DataFrame(emotion, columns = ['labels'])\n",
        "TESS_df['source'] = 'TESS'\n",
        "TESS_df = pd.concat([TESS_df,pd.DataFrame(path, columns = ['path'])],axis=1)\n",
        "TESS_df.labels.value_counts()"
      ]
    },
    {
      "cell_type": "code",
      "execution_count": null,
      "metadata": {
        "colab": {
          "base_uri": "https://localhost:8080/"
        },
        "id": "zt_MMnblo5OH",
        "outputId": "46acb98b-d31f-4c89-f1ab-a2880183da2f"
      },
      "outputs": [
        {
          "output_type": "stream",
          "name": "stdout",
          "text": [
            "['1001_DFA_ANG_XX.wav', '1001_DFA_DIS_XX.wav', '1001_DFA_FEA_XX.wav', '1001_DFA_HAP_XX.wav', '1001_DFA_NEU_XX.wav', '1001_DFA_SAD_XX.wav', '1001_IEO_ANG_HI.wav', '1001_IEO_ANG_LO.wav', '1001_IEO_ANG_MD.wav', '1001_IEO_DIS_HI.wav']\n"
          ]
        }
      ],
      "source": [
        "#CREMA\n",
        "\n",
        "dir_list = os.listdir(CREMA)\n",
        "dir_list.sort()\n",
        "print(dir_list[0:10])"
      ]
    },
    {
      "cell_type": "code",
      "execution_count": null,
      "metadata": {
        "colab": {
          "base_uri": "https://localhost:8080/"
        },
        "id": "jPUSDf8BnW62",
        "outputId": "cb40ebbd-b74e-43c6-fb87-0ef890a502cd"
      },
      "outputs": [
        {
          "output_type": "execute_result",
          "data": {
            "text/plain": [
              "angry      1271\n",
              "disgust    1271\n",
              "fear       1271\n",
              "happy      1271\n",
              "sad        1271\n",
              "neutral    1087\n",
              "Name: labels, dtype: int64"
            ]
          },
          "metadata": {},
          "execution_count": 29
        }
      ],
      "source": [
        "emotion = []\n",
        "path = []\n",
        "\n",
        "for i in dir_list: \n",
        "    part = i.split('_')\n",
        "    if part[2] == 'SAD':\n",
        "        emotion.append('sad')\n",
        "    elif part[2] == 'ANG':\n",
        "        emotion.append('angry')\n",
        "    elif part[2] == 'DIS':\n",
        "        emotion.append('disgust')\n",
        "    elif part[2] == 'FEA':\n",
        "        emotion.append('fear')\n",
        "    elif part[2] == 'HAP':\n",
        "        emotion.append('happy')\n",
        "    elif part[2] == 'NEU':\n",
        "        emotion.append('neutral')\n",
        "    else:\n",
        "        emotion.append('Unknown')\n",
        "    path.append(CREMA + i)\n",
        "    \n",
        "CREMA_df = pd.DataFrame(emotion, columns = ['labels'])\n",
        "CREMA_df['source'] = 'CREMA'\n",
        "CREMA_df = pd.concat([CREMA_df,pd.DataFrame(path, columns = ['path'])],axis=1)\n",
        "CREMA_df.labels.value_counts()"
      ]
    },
    {
      "cell_type": "code",
      "execution_count": null,
      "metadata": {
        "colab": {
          "base_uri": "https://localhost:8080/"
        },
        "id": "ojcb_z5spIHS",
        "outputId": "1a6f0c21-d9b6-495f-da5d-12a9c7a90440"
      },
      "outputs": [
        {
          "output_type": "stream",
          "name": "stdout",
          "text": [
            "sad         1915\n",
            "happy       1915\n",
            "fear        1915\n",
            "angry       1915\n",
            "neutral     1883\n",
            "disgust     1731\n",
            "surprise     460\n",
            "Name: labels, dtype: int64\n"
          ]
        }
      ],
      "source": [
        "#Concatinating all dataframes before Augmentation\n",
        "\n",
        "df = pd.concat([SAVEE_df, RAV_df, TESS_df, CREMA_df], ignore_index = True, axis = 0)\n",
        "print(df.labels.value_counts())\n",
        "df.head()\n",
        "df.to_csv(\"Data_path.csv\",index=False)"
      ]
    },
    {
      "cell_type": "code",
      "execution_count": null,
      "metadata": {
        "colab": {
          "base_uri": "https://localhost:8080/",
          "height": 206
        },
        "id": "yyc-ZBF0pcOL",
        "outputId": "a3575a3c-ec9c-4346-b238-69809acdaaaa"
      },
      "outputs": [
        {
          "output_type": "execute_result",
          "data": {
            "text/plain": [
              "        labels source                                         path emotion\n",
              "11729  disgust  CREMA  /content/crema/AudioWAV/1091_WSI_DIS_XX.wav     NaN\n",
              "11730     fear  CREMA  /content/crema/AudioWAV/1091_WSI_FEA_XX.wav     NaN\n",
              "11731    happy  CREMA  /content/crema/AudioWAV/1091_WSI_HAP_XX.wav     NaN\n",
              "11732  neutral  CREMA  /content/crema/AudioWAV/1091_WSI_NEU_XX.wav     NaN\n",
              "11733      sad  CREMA  /content/crema/AudioWAV/1091_WSI_SAD_XX.wav     NaN"
            ],
            "text/html": [
              "\n",
              "  <div id=\"df-bca0769a-3023-4635-9fe1-f825d6e6a4e9\">\n",
              "    <div class=\"colab-df-container\">\n",
              "      <div>\n",
              "<style scoped>\n",
              "    .dataframe tbody tr th:only-of-type {\n",
              "        vertical-align: middle;\n",
              "    }\n",
              "\n",
              "    .dataframe tbody tr th {\n",
              "        vertical-align: top;\n",
              "    }\n",
              "\n",
              "    .dataframe thead th {\n",
              "        text-align: right;\n",
              "    }\n",
              "</style>\n",
              "<table border=\"1\" class=\"dataframe\">\n",
              "  <thead>\n",
              "    <tr style=\"text-align: right;\">\n",
              "      <th></th>\n",
              "      <th>labels</th>\n",
              "      <th>source</th>\n",
              "      <th>path</th>\n",
              "      <th>emotion</th>\n",
              "    </tr>\n",
              "  </thead>\n",
              "  <tbody>\n",
              "    <tr>\n",
              "      <th>11729</th>\n",
              "      <td>disgust</td>\n",
              "      <td>CREMA</td>\n",
              "      <td>/content/crema/AudioWAV/1091_WSI_DIS_XX.wav</td>\n",
              "      <td>NaN</td>\n",
              "    </tr>\n",
              "    <tr>\n",
              "      <th>11730</th>\n",
              "      <td>fear</td>\n",
              "      <td>CREMA</td>\n",
              "      <td>/content/crema/AudioWAV/1091_WSI_FEA_XX.wav</td>\n",
              "      <td>NaN</td>\n",
              "    </tr>\n",
              "    <tr>\n",
              "      <th>11731</th>\n",
              "      <td>happy</td>\n",
              "      <td>CREMA</td>\n",
              "      <td>/content/crema/AudioWAV/1091_WSI_HAP_XX.wav</td>\n",
              "      <td>NaN</td>\n",
              "    </tr>\n",
              "    <tr>\n",
              "      <th>11732</th>\n",
              "      <td>neutral</td>\n",
              "      <td>CREMA</td>\n",
              "      <td>/content/crema/AudioWAV/1091_WSI_NEU_XX.wav</td>\n",
              "      <td>NaN</td>\n",
              "    </tr>\n",
              "    <tr>\n",
              "      <th>11733</th>\n",
              "      <td>sad</td>\n",
              "      <td>CREMA</td>\n",
              "      <td>/content/crema/AudioWAV/1091_WSI_SAD_XX.wav</td>\n",
              "      <td>NaN</td>\n",
              "    </tr>\n",
              "  </tbody>\n",
              "</table>\n",
              "</div>\n",
              "      <button class=\"colab-df-convert\" onclick=\"convertToInteractive('df-bca0769a-3023-4635-9fe1-f825d6e6a4e9')\"\n",
              "              title=\"Convert this dataframe to an interactive table.\"\n",
              "              style=\"display:none;\">\n",
              "        \n",
              "  <svg xmlns=\"http://www.w3.org/2000/svg\" height=\"24px\"viewBox=\"0 0 24 24\"\n",
              "       width=\"24px\">\n",
              "    <path d=\"M0 0h24v24H0V0z\" fill=\"none\"/>\n",
              "    <path d=\"M18.56 5.44l.94 2.06.94-2.06 2.06-.94-2.06-.94-.94-2.06-.94 2.06-2.06.94zm-11 1L8.5 8.5l.94-2.06 2.06-.94-2.06-.94L8.5 2.5l-.94 2.06-2.06.94zm10 10l.94 2.06.94-2.06 2.06-.94-2.06-.94-.94-2.06-.94 2.06-2.06.94z\"/><path d=\"M17.41 7.96l-1.37-1.37c-.4-.4-.92-.59-1.43-.59-.52 0-1.04.2-1.43.59L10.3 9.45l-7.72 7.72c-.78.78-.78 2.05 0 2.83L4 21.41c.39.39.9.59 1.41.59.51 0 1.02-.2 1.41-.59l7.78-7.78 2.81-2.81c.8-.78.8-2.07 0-2.86zM5.41 20L4 18.59l7.72-7.72 1.47 1.35L5.41 20z\"/>\n",
              "  </svg>\n",
              "      </button>\n",
              "      \n",
              "  <style>\n",
              "    .colab-df-container {\n",
              "      display:flex;\n",
              "      flex-wrap:wrap;\n",
              "      gap: 12px;\n",
              "    }\n",
              "\n",
              "    .colab-df-convert {\n",
              "      background-color: #E8F0FE;\n",
              "      border: none;\n",
              "      border-radius: 50%;\n",
              "      cursor: pointer;\n",
              "      display: none;\n",
              "      fill: #1967D2;\n",
              "      height: 32px;\n",
              "      padding: 0 0 0 0;\n",
              "      width: 32px;\n",
              "    }\n",
              "\n",
              "    .colab-df-convert:hover {\n",
              "      background-color: #E2EBFA;\n",
              "      box-shadow: 0px 1px 2px rgba(60, 64, 67, 0.3), 0px 1px 3px 1px rgba(60, 64, 67, 0.15);\n",
              "      fill: #174EA6;\n",
              "    }\n",
              "\n",
              "    [theme=dark] .colab-df-convert {\n",
              "      background-color: #3B4455;\n",
              "      fill: #D2E3FC;\n",
              "    }\n",
              "\n",
              "    [theme=dark] .colab-df-convert:hover {\n",
              "      background-color: #434B5C;\n",
              "      box-shadow: 0px 1px 3px 1px rgba(0, 0, 0, 0.15);\n",
              "      filter: drop-shadow(0px 1px 2px rgba(0, 0, 0, 0.3));\n",
              "      fill: #FFFFFF;\n",
              "    }\n",
              "  </style>\n",
              "\n",
              "      <script>\n",
              "        const buttonEl =\n",
              "          document.querySelector('#df-bca0769a-3023-4635-9fe1-f825d6e6a4e9 button.colab-df-convert');\n",
              "        buttonEl.style.display =\n",
              "          google.colab.kernel.accessAllowed ? 'block' : 'none';\n",
              "\n",
              "        async function convertToInteractive(key) {\n",
              "          const element = document.querySelector('#df-bca0769a-3023-4635-9fe1-f825d6e6a4e9');\n",
              "          const dataTable =\n",
              "            await google.colab.kernel.invokeFunction('convertToInteractive',\n",
              "                                                     [key], {});\n",
              "          if (!dataTable) return;\n",
              "\n",
              "          const docLinkHtml = 'Like what you see? Visit the ' +\n",
              "            '<a target=\"_blank\" href=https://colab.research.google.com/notebooks/data_table.ipynb>data table notebook</a>'\n",
              "            + ' to learn more about interactive tables.';\n",
              "          element.innerHTML = '';\n",
              "          dataTable['output_type'] = 'display_data';\n",
              "          await google.colab.output.renderOutput(dataTable, element);\n",
              "          const docLink = document.createElement('div');\n",
              "          docLink.innerHTML = docLinkHtml;\n",
              "          element.appendChild(docLink);\n",
              "        }\n",
              "      </script>\n",
              "    </div>\n",
              "  </div>\n",
              "  "
            ]
          },
          "metadata": {},
          "execution_count": 31
        }
      ],
      "source": [
        "df.tail()"
      ]
    },
    {
      "cell_type": "markdown",
      "metadata": {
        "id": "Kd-QLKAocbdY"
      },
      "source": [
        "## Data Augmentation"
      ]
    },
    {
      "cell_type": "markdown",
      "source": [
        "**We need to oversample some classes since we have imbalanced data. ⌛**"
      ],
      "metadata": {
        "id": "SxTPhT3_1CHH"
      }
    },
    {
      "cell_type": "code",
      "execution_count": null,
      "metadata": {
        "id": "qhcaXz6AcoR8"
      },
      "outputs": [],
      "source": [
        "import librosa\n",
        "import librosa.display\n",
        "import numpy as np\n",
        "import matplotlib.pyplot as plt\n",
        "from matplotlib.pyplot import specgram\n",
        "import pandas as pd\n",
        "import os\n",
        "import IPython.display as ipd"
      ]
    },
    {
      "cell_type": "code",
      "execution_count": null,
      "metadata": {
        "id": "xyWoZHiDt8uU"
      },
      "outputs": [],
      "source": [
        "#cleaning the dataframe before adding the features\n",
        "df = df.drop('emotion', axis=1)"
      ]
    },
    {
      "cell_type": "code",
      "execution_count": null,
      "metadata": {
        "colab": {
          "base_uri": "https://localhost:8080/",
          "height": 206
        },
        "id": "8I6zpsKEuRLh",
        "outputId": "6cc882e7-c69a-4d54-ed60-f8b3cd50aa11"
      },
      "outputs": [
        {
          "output_type": "execute_result",
          "data": {
            "text/plain": [
              "     labels source                                         path\n",
              "0  surprise  SAVEE  /content/surrey-audiovisual/ALL/DC_su12.wav\n",
              "1   neutral  SAVEE   /content/surrey-audiovisual/ALL/JE_n14.wav\n",
              "2       sad  SAVEE  /content/surrey-audiovisual/ALL/JE_sa08.wav\n",
              "3  surprise  SAVEE  /content/surrey-audiovisual/ALL/DC_su04.wav\n",
              "4   neutral  SAVEE   /content/surrey-audiovisual/ALL/DC_n27.wav"
            ],
            "text/html": [
              "\n",
              "  <div id=\"df-320cd511-e5d0-4244-ae15-e8be849e1cc7\">\n",
              "    <div class=\"colab-df-container\">\n",
              "      <div>\n",
              "<style scoped>\n",
              "    .dataframe tbody tr th:only-of-type {\n",
              "        vertical-align: middle;\n",
              "    }\n",
              "\n",
              "    .dataframe tbody tr th {\n",
              "        vertical-align: top;\n",
              "    }\n",
              "\n",
              "    .dataframe thead th {\n",
              "        text-align: right;\n",
              "    }\n",
              "</style>\n",
              "<table border=\"1\" class=\"dataframe\">\n",
              "  <thead>\n",
              "    <tr style=\"text-align: right;\">\n",
              "      <th></th>\n",
              "      <th>labels</th>\n",
              "      <th>source</th>\n",
              "      <th>path</th>\n",
              "    </tr>\n",
              "  </thead>\n",
              "  <tbody>\n",
              "    <tr>\n",
              "      <th>0</th>\n",
              "      <td>surprise</td>\n",
              "      <td>SAVEE</td>\n",
              "      <td>/content/surrey-audiovisual/ALL/DC_su12.wav</td>\n",
              "    </tr>\n",
              "    <tr>\n",
              "      <th>1</th>\n",
              "      <td>neutral</td>\n",
              "      <td>SAVEE</td>\n",
              "      <td>/content/surrey-audiovisual/ALL/JE_n14.wav</td>\n",
              "    </tr>\n",
              "    <tr>\n",
              "      <th>2</th>\n",
              "      <td>sad</td>\n",
              "      <td>SAVEE</td>\n",
              "      <td>/content/surrey-audiovisual/ALL/JE_sa08.wav</td>\n",
              "    </tr>\n",
              "    <tr>\n",
              "      <th>3</th>\n",
              "      <td>surprise</td>\n",
              "      <td>SAVEE</td>\n",
              "      <td>/content/surrey-audiovisual/ALL/DC_su04.wav</td>\n",
              "    </tr>\n",
              "    <tr>\n",
              "      <th>4</th>\n",
              "      <td>neutral</td>\n",
              "      <td>SAVEE</td>\n",
              "      <td>/content/surrey-audiovisual/ALL/DC_n27.wav</td>\n",
              "    </tr>\n",
              "  </tbody>\n",
              "</table>\n",
              "</div>\n",
              "      <button class=\"colab-df-convert\" onclick=\"convertToInteractive('df-320cd511-e5d0-4244-ae15-e8be849e1cc7')\"\n",
              "              title=\"Convert this dataframe to an interactive table.\"\n",
              "              style=\"display:none;\">\n",
              "        \n",
              "  <svg xmlns=\"http://www.w3.org/2000/svg\" height=\"24px\"viewBox=\"0 0 24 24\"\n",
              "       width=\"24px\">\n",
              "    <path d=\"M0 0h24v24H0V0z\" fill=\"none\"/>\n",
              "    <path d=\"M18.56 5.44l.94 2.06.94-2.06 2.06-.94-2.06-.94-.94-2.06-.94 2.06-2.06.94zm-11 1L8.5 8.5l.94-2.06 2.06-.94-2.06-.94L8.5 2.5l-.94 2.06-2.06.94zm10 10l.94 2.06.94-2.06 2.06-.94-2.06-.94-.94-2.06-.94 2.06-2.06.94z\"/><path d=\"M17.41 7.96l-1.37-1.37c-.4-.4-.92-.59-1.43-.59-.52 0-1.04.2-1.43.59L10.3 9.45l-7.72 7.72c-.78.78-.78 2.05 0 2.83L4 21.41c.39.39.9.59 1.41.59.51 0 1.02-.2 1.41-.59l7.78-7.78 2.81-2.81c.8-.78.8-2.07 0-2.86zM5.41 20L4 18.59l7.72-7.72 1.47 1.35L5.41 20z\"/>\n",
              "  </svg>\n",
              "      </button>\n",
              "      \n",
              "  <style>\n",
              "    .colab-df-container {\n",
              "      display:flex;\n",
              "      flex-wrap:wrap;\n",
              "      gap: 12px;\n",
              "    }\n",
              "\n",
              "    .colab-df-convert {\n",
              "      background-color: #E8F0FE;\n",
              "      border: none;\n",
              "      border-radius: 50%;\n",
              "      cursor: pointer;\n",
              "      display: none;\n",
              "      fill: #1967D2;\n",
              "      height: 32px;\n",
              "      padding: 0 0 0 0;\n",
              "      width: 32px;\n",
              "    }\n",
              "\n",
              "    .colab-df-convert:hover {\n",
              "      background-color: #E2EBFA;\n",
              "      box-shadow: 0px 1px 2px rgba(60, 64, 67, 0.3), 0px 1px 3px 1px rgba(60, 64, 67, 0.15);\n",
              "      fill: #174EA6;\n",
              "    }\n",
              "\n",
              "    [theme=dark] .colab-df-convert {\n",
              "      background-color: #3B4455;\n",
              "      fill: #D2E3FC;\n",
              "    }\n",
              "\n",
              "    [theme=dark] .colab-df-convert:hover {\n",
              "      background-color: #434B5C;\n",
              "      box-shadow: 0px 1px 3px 1px rgba(0, 0, 0, 0.15);\n",
              "      filter: drop-shadow(0px 1px 2px rgba(0, 0, 0, 0.3));\n",
              "      fill: #FFFFFF;\n",
              "    }\n",
              "  </style>\n",
              "\n",
              "      <script>\n",
              "        const buttonEl =\n",
              "          document.querySelector('#df-320cd511-e5d0-4244-ae15-e8be849e1cc7 button.colab-df-convert');\n",
              "        buttonEl.style.display =\n",
              "          google.colab.kernel.accessAllowed ? 'block' : 'none';\n",
              "\n",
              "        async function convertToInteractive(key) {\n",
              "          const element = document.querySelector('#df-320cd511-e5d0-4244-ae15-e8be849e1cc7');\n",
              "          const dataTable =\n",
              "            await google.colab.kernel.invokeFunction('convertToInteractive',\n",
              "                                                     [key], {});\n",
              "          if (!dataTable) return;\n",
              "\n",
              "          const docLinkHtml = 'Like what you see? Visit the ' +\n",
              "            '<a target=\"_blank\" href=https://colab.research.google.com/notebooks/data_table.ipynb>data table notebook</a>'\n",
              "            + ' to learn more about interactive tables.';\n",
              "          element.innerHTML = '';\n",
              "          dataTable['output_type'] = 'display_data';\n",
              "          await google.colab.output.renderOutput(dataTable, element);\n",
              "          const docLink = document.createElement('div');\n",
              "          docLink.innerHTML = docLinkHtml;\n",
              "          element.appendChild(docLink);\n",
              "        }\n",
              "      </script>\n",
              "    </div>\n",
              "  </div>\n",
              "  "
            ]
          },
          "metadata": {},
          "execution_count": 34
        }
      ],
      "source": [
        "df.head()"
      ]
    },
    {
      "cell_type": "code",
      "execution_count": null,
      "metadata": {
        "id": "rLTX2B1817CE"
      },
      "outputs": [],
      "source": [
        "#########################\n",
        "# Augmentation methods\n",
        "#########################\n",
        "import soundfile as sf\n",
        "def noise(data_path,row_index,targeted_label):\n",
        "    \"\"\"\n",
        "    Adding White Noise.\n",
        "    \"\"\"\n",
        "\n",
        "    data,sr = librosa.load(data_path)\n",
        "    # you can take any distribution from https://docs.scipy.org/doc/numpy-1.13.0/reference/routines.random.html\n",
        "    noise_amp = 0.05*np.random.uniform()*np.amax(data)   # more noise reduce the value to 0.5\n",
        "    data = data.astype('float64') + noise_amp * np.random.normal(size=data.shape[0])\n",
        "\n",
        "    data_path = data_path.split('/')[-1]\n",
        "    audio_name = data_path.split('.wav')[0]\n",
        "\n",
        "    try:\n",
        "      os.mkdir(f'/content/New_{targeted_label}')\n",
        "    except:\n",
        "      print()\n",
        "      \n",
        "    data_new_path = sf.write(f'/content/New_{targeted_label}/{audio_name}_noise_{row_index}.wav', data, sr)\n",
        "    \n",
        "    data_new_name = f'/content/New_{targeted_label}/{audio_name}_noise_{row_index}.wav'\n",
        "\n",
        "    return data_new_name\n",
        "    \n",
        "def shift(data_path,row_index,targeted_label):\n",
        "    \"\"\"\n",
        "    Random Shifting.\n",
        "    \"\"\"\n",
        "    data,sr = librosa.load(data_path)\n",
        "    \n",
        "    s_range = int(np.random.uniform(low=-5, high = 5)*1000)  #default at 500\n",
        "    audio = np.roll(data, s_range)\n",
        "\n",
        "    data_path = data_path.split('/')[-1]\n",
        "    audio_name = data_path.split('.wav')[0]\n",
        "\n",
        "    try:\n",
        "      os.mkdir(f'/content/New_{targeted_label}')\n",
        "    except:\n",
        "      print()\n",
        "      \n",
        "    data_new_path = sf.write(f'/content/New_{targeted_label}/{audio_name}_shift_{row_index}.wav', data, sr)\n",
        "    \n",
        "    data_new_name = f'/content/New_{targeted_label}/{audio_name}_shift_{row_index}.wav'\n",
        "\n",
        "    return data_new_name\n",
        "    \n",
        "def stretch(data_path, row_index, targeted_label,rate=0.8):\n",
        "    \"\"\"\n",
        "    Streching the Sound. Note that this expands the dataset slightly\n",
        "    \"\"\"\n",
        "    data,sr = librosa.load(data_path)\n",
        "    data = librosa.effects.time_stretch(data, rate)\n",
        "\n",
        "    data_path = data_path.split('/')[-1]\n",
        "    audio_name = data_path.split('.wav')[0]\n",
        "\n",
        "    try:\n",
        "      os.mkdir(f'/content/New_{targeted_label}')\n",
        "    except:\n",
        "      print()\n",
        "      \n",
        "    data_new_path = sf.write(f'/content/New_{targeted_label}/{audio_name}_stretch_{row_index}.wav', data, sr)\n",
        "\n",
        "    data_new_name = f'/content/New_{targeted_label}/{audio_name}_stretch_{row_index}.wav'\n",
        "\n",
        "    return data_new_name\n",
        "    \n",
        "def pitch(data_path, row_index,targeted_label):\n",
        "    \"\"\"\n",
        "    Pitch Tuning.\n",
        "    \"\"\"\n",
        "    data,sr = librosa.load(data_path)\n",
        "\n",
        "    bins_per_octave = 12\n",
        "    pitch_pm = 2\n",
        "    pitch_change =  pitch_pm * 2*(np.random.uniform())   \n",
        "    data = librosa.effects.pitch_shift(data.astype('float64'), \n",
        "                                      sr, n_steps=pitch_change, \n",
        "                                      bins_per_octave=bins_per_octave)\n",
        "\n",
        "    data_path = data_path.split('/')[-1]\n",
        "    audio_name = data_path.split('.wav')[0]\n",
        "    \n",
        "    try:\n",
        "      os.mkdir(f'/content/New_{targeted_label}')\n",
        "    except:\n",
        "      print()\n",
        "      \n",
        "    data_new_path = sf.write(f'/content/New_{targeted_label}/{audio_name}_pitch_{row_index}.wav', data, sr)\n",
        "\n",
        "    data_new_name = f'/content/New_{targeted_label}/{audio_name}_pitch_{row_index}.wav'\n",
        "\n",
        "    return data_new_name\n",
        "    \n",
        "def dyn_change(data_path,row_index, targeted_label):\n",
        "    \"\"\"\n",
        "    Random Value Change.\n",
        "    \"\"\"\n",
        "    data,sr = librosa.load(data_path)\n",
        "\n",
        "    dyn_change = np.random.uniform(low=-0.5 ,high=7)  # default low = 1.5, high = 3\n",
        "    data = (data * dyn_change)\n",
        "\n",
        "\n",
        "    data_path = data_path.split('/')[-1]\n",
        "    audio_name = data_path.split('.wav')[0]\n",
        "    \n",
        "    try:\n",
        "      os.mkdir(f'/content/New_{targeted_label}')\n",
        "    except:\n",
        "      print()\n",
        "      \n",
        "    data_new_path = sf.write(f'/content/New_{targeted_label}/{audio_name}_dyn_change_{row_index}.wav', data, sr)\n",
        "    \n",
        "    data_new_name = f'/content/New_{targeted_label}/{audio_name}_dyn_change_{row_index}.wav'\n",
        "\n",
        "    return data_new_name\n",
        "    \n",
        "def speedNpitch(data_path,row_index,targeted_label):\n",
        "    \"\"\"\n",
        "    peed and Pitch Tuning.\n",
        "    \"\"\"\n",
        "    data,sr = librosa.load(data_path)\n",
        "\n",
        "    # you can change low and high here\n",
        "    length_change = np.random.uniform(low=0.8, high = 1)\n",
        "    speed_fac = 1.2  / length_change # try changing 1.0 to 2.0 ... =D\n",
        "    tmp = np.interp(np.arange(0,len(data),speed_fac),np.arange(0,len(data)),data)\n",
        "    minlen = min(data.shape[0], tmp.shape[0])\n",
        "    data *= 0\n",
        "    data[0:minlen] = tmp[0:minlen]\n",
        "\n",
        "    data_path = data_path.split('/')[-1]\n",
        "    audio_name = data_path.split('.wav')[0]\n",
        "    \n",
        "    try:\n",
        "      os.mkdir(f'/content/New_{targeted_label}')\n",
        "    except:\n",
        "      print()\n",
        "      \n",
        "    data_new_path = sf.write(f'/content/New_{targeted_label}/{audio_name}_speedNpitch_{row_index}.wav', data, sr)\n",
        "\n",
        "    data_new_name = f'/content/New_{targeted_label}/{audio_name}_speedNpitch_{row_index}.wav'\n",
        "\n",
        "    return data_new_name"
      ]
    },
    {
      "cell_type": "code",
      "execution_count": null,
      "metadata": {
        "id": "Lk5e-QiN2c7H"
      },
      "outputs": [],
      "source": [
        "df_sur = df[(df['labels']=='surprise')]"
      ]
    },
    {
      "cell_type": "code",
      "execution_count": null,
      "metadata": {
        "colab": {
          "base_uri": "https://localhost:8080/",
          "height": 206
        },
        "id": "WPgDBB3f3e4_",
        "outputId": "2b63e000-68be-4ec3-8a54-d5798c465c32"
      },
      "outputs": [
        {
          "output_type": "execute_result",
          "data": {
            "text/plain": [
              "      labels source                                         path\n",
              "0   surprise  SAVEE  /content/surrey-audiovisual/ALL/DC_su12.wav\n",
              "3   surprise  SAVEE  /content/surrey-audiovisual/ALL/DC_su04.wav\n",
              "7   surprise  SAVEE  /content/surrey-audiovisual/ALL/JK_su08.wav\n",
              "16  surprise  SAVEE  /content/surrey-audiovisual/ALL/JK_su11.wav\n",
              "19  surprise  SAVEE  /content/surrey-audiovisual/ALL/JE_su12.wav"
            ],
            "text/html": [
              "\n",
              "  <div id=\"df-1f2d5c3d-3a31-4cc0-8702-9ba6f98f8f60\">\n",
              "    <div class=\"colab-df-container\">\n",
              "      <div>\n",
              "<style scoped>\n",
              "    .dataframe tbody tr th:only-of-type {\n",
              "        vertical-align: middle;\n",
              "    }\n",
              "\n",
              "    .dataframe tbody tr th {\n",
              "        vertical-align: top;\n",
              "    }\n",
              "\n",
              "    .dataframe thead th {\n",
              "        text-align: right;\n",
              "    }\n",
              "</style>\n",
              "<table border=\"1\" class=\"dataframe\">\n",
              "  <thead>\n",
              "    <tr style=\"text-align: right;\">\n",
              "      <th></th>\n",
              "      <th>labels</th>\n",
              "      <th>source</th>\n",
              "      <th>path</th>\n",
              "    </tr>\n",
              "  </thead>\n",
              "  <tbody>\n",
              "    <tr>\n",
              "      <th>0</th>\n",
              "      <td>surprise</td>\n",
              "      <td>SAVEE</td>\n",
              "      <td>/content/surrey-audiovisual/ALL/DC_su12.wav</td>\n",
              "    </tr>\n",
              "    <tr>\n",
              "      <th>3</th>\n",
              "      <td>surprise</td>\n",
              "      <td>SAVEE</td>\n",
              "      <td>/content/surrey-audiovisual/ALL/DC_su04.wav</td>\n",
              "    </tr>\n",
              "    <tr>\n",
              "      <th>7</th>\n",
              "      <td>surprise</td>\n",
              "      <td>SAVEE</td>\n",
              "      <td>/content/surrey-audiovisual/ALL/JK_su08.wav</td>\n",
              "    </tr>\n",
              "    <tr>\n",
              "      <th>16</th>\n",
              "      <td>surprise</td>\n",
              "      <td>SAVEE</td>\n",
              "      <td>/content/surrey-audiovisual/ALL/JK_su11.wav</td>\n",
              "    </tr>\n",
              "    <tr>\n",
              "      <th>19</th>\n",
              "      <td>surprise</td>\n",
              "      <td>SAVEE</td>\n",
              "      <td>/content/surrey-audiovisual/ALL/JE_su12.wav</td>\n",
              "    </tr>\n",
              "  </tbody>\n",
              "</table>\n",
              "</div>\n",
              "      <button class=\"colab-df-convert\" onclick=\"convertToInteractive('df-1f2d5c3d-3a31-4cc0-8702-9ba6f98f8f60')\"\n",
              "              title=\"Convert this dataframe to an interactive table.\"\n",
              "              style=\"display:none;\">\n",
              "        \n",
              "  <svg xmlns=\"http://www.w3.org/2000/svg\" height=\"24px\"viewBox=\"0 0 24 24\"\n",
              "       width=\"24px\">\n",
              "    <path d=\"M0 0h24v24H0V0z\" fill=\"none\"/>\n",
              "    <path d=\"M18.56 5.44l.94 2.06.94-2.06 2.06-.94-2.06-.94-.94-2.06-.94 2.06-2.06.94zm-11 1L8.5 8.5l.94-2.06 2.06-.94-2.06-.94L8.5 2.5l-.94 2.06-2.06.94zm10 10l.94 2.06.94-2.06 2.06-.94-2.06-.94-.94-2.06-.94 2.06-2.06.94z\"/><path d=\"M17.41 7.96l-1.37-1.37c-.4-.4-.92-.59-1.43-.59-.52 0-1.04.2-1.43.59L10.3 9.45l-7.72 7.72c-.78.78-.78 2.05 0 2.83L4 21.41c.39.39.9.59 1.41.59.51 0 1.02-.2 1.41-.59l7.78-7.78 2.81-2.81c.8-.78.8-2.07 0-2.86zM5.41 20L4 18.59l7.72-7.72 1.47 1.35L5.41 20z\"/>\n",
              "  </svg>\n",
              "      </button>\n",
              "      \n",
              "  <style>\n",
              "    .colab-df-container {\n",
              "      display:flex;\n",
              "      flex-wrap:wrap;\n",
              "      gap: 12px;\n",
              "    }\n",
              "\n",
              "    .colab-df-convert {\n",
              "      background-color: #E8F0FE;\n",
              "      border: none;\n",
              "      border-radius: 50%;\n",
              "      cursor: pointer;\n",
              "      display: none;\n",
              "      fill: #1967D2;\n",
              "      height: 32px;\n",
              "      padding: 0 0 0 0;\n",
              "      width: 32px;\n",
              "    }\n",
              "\n",
              "    .colab-df-convert:hover {\n",
              "      background-color: #E2EBFA;\n",
              "      box-shadow: 0px 1px 2px rgba(60, 64, 67, 0.3), 0px 1px 3px 1px rgba(60, 64, 67, 0.15);\n",
              "      fill: #174EA6;\n",
              "    }\n",
              "\n",
              "    [theme=dark] .colab-df-convert {\n",
              "      background-color: #3B4455;\n",
              "      fill: #D2E3FC;\n",
              "    }\n",
              "\n",
              "    [theme=dark] .colab-df-convert:hover {\n",
              "      background-color: #434B5C;\n",
              "      box-shadow: 0px 1px 3px 1px rgba(0, 0, 0, 0.15);\n",
              "      filter: drop-shadow(0px 1px 2px rgba(0, 0, 0, 0.3));\n",
              "      fill: #FFFFFF;\n",
              "    }\n",
              "  </style>\n",
              "\n",
              "      <script>\n",
              "        const buttonEl =\n",
              "          document.querySelector('#df-1f2d5c3d-3a31-4cc0-8702-9ba6f98f8f60 button.colab-df-convert');\n",
              "        buttonEl.style.display =\n",
              "          google.colab.kernel.accessAllowed ? 'block' : 'none';\n",
              "\n",
              "        async function convertToInteractive(key) {\n",
              "          const element = document.querySelector('#df-1f2d5c3d-3a31-4cc0-8702-9ba6f98f8f60');\n",
              "          const dataTable =\n",
              "            await google.colab.kernel.invokeFunction('convertToInteractive',\n",
              "                                                     [key], {});\n",
              "          if (!dataTable) return;\n",
              "\n",
              "          const docLinkHtml = 'Like what you see? Visit the ' +\n",
              "            '<a target=\"_blank\" href=https://colab.research.google.com/notebooks/data_table.ipynb>data table notebook</a>'\n",
              "            + ' to learn more about interactive tables.';\n",
              "          element.innerHTML = '';\n",
              "          dataTable['output_type'] = 'display_data';\n",
              "          await google.colab.output.renderOutput(dataTable, element);\n",
              "          const docLink = document.createElement('div');\n",
              "          docLink.innerHTML = docLinkHtml;\n",
              "          element.appendChild(docLink);\n",
              "        }\n",
              "      </script>\n",
              "    </div>\n",
              "  </div>\n",
              "  "
            ]
          },
          "metadata": {},
          "execution_count": 37
        }
      ],
      "source": [
        "df_sur.head()"
      ]
    },
    {
      "cell_type": "code",
      "execution_count": null,
      "metadata": {
        "colab": {
          "base_uri": "https://localhost:8080/"
        },
        "id": "pF7ZMfvABXyP",
        "outputId": "3dba1ce3-ffa9-41db-c303-ae7aae7e99d4"
      },
      "outputs": [
        {
          "output_type": "execute_result",
          "data": {
            "text/plain": [
              "(460, 3)"
            ]
          },
          "metadata": {},
          "execution_count": 38
        }
      ],
      "source": [
        "df_sur.shape"
      ]
    },
    {
      "cell_type": "code",
      "execution_count": null,
      "metadata": {
        "id": "z_hQM79vEURf"
      },
      "outputs": [],
      "source": [
        "modpath = []\n",
        "for index,audio_path in enumerate(df_sur['path']): \n",
        "  modpath.append(shift(data_path = audio_path,row_index = index,targeted_label = 'surprize'))"
      ]
    },
    {
      "cell_type": "code",
      "execution_count": null,
      "metadata": {
        "id": "ObcVpRExIbLB"
      },
      "outputs": [],
      "source": [
        "for index,audio_path in enumerate(df_sur['path']): \n",
        "  modpath.append(stretch(data_path = audio_path, row_index = index, targeted_label = 'surprize',rate=0.8))"
      ]
    },
    {
      "cell_type": "code",
      "execution_count": null,
      "metadata": {
        "id": "1W4rpTySIqPt"
      },
      "outputs": [],
      "source": [
        "for index,audio_path in enumerate(df_sur['path']): \n",
        "  modpath.append(pitch(data_path = audio_path, row_index = index,targeted_label = 'surprize'))"
      ]
    },
    {
      "cell_type": "code",
      "execution_count": null,
      "metadata": {
        "colab": {
          "base_uri": "https://localhost:8080/"
        },
        "id": "Y8c0DK0IJMml",
        "outputId": "e74eb8e5-da64-47b5-8b0c-28270f26accd"
      },
      "outputs": [
        {
          "output_type": "execute_result",
          "data": {
            "text/plain": [
              "1380"
            ]
          },
          "metadata": {},
          "execution_count": 42
        }
      ],
      "source": [
        "len(os.listdir('/content/New_surprize'))"
      ]
    },
    {
      "cell_type": "code",
      "execution_count": null,
      "metadata": {
        "id": "CP-GqG_2L8D2"
      },
      "outputs": [],
      "source": [
        "modpath"
      ]
    },
    {
      "cell_type": "code",
      "execution_count": null,
      "metadata": {
        "id": "vehxiZIgJ2EV"
      },
      "outputs": [],
      "source": [
        "sur_label = ['surprise' for i in modpath]\n",
        "source = ['created' for i in modpath]\n",
        "\n",
        "dict = {'labels': sur_label, 'source': source, 'path': modpath} \n",
        "    \n",
        "sur_df_new = pd.DataFrame(dict)"
      ]
    },
    {
      "cell_type": "code",
      "execution_count": null,
      "metadata": {
        "colab": {
          "base_uri": "https://localhost:8080/",
          "height": 206
        },
        "id": "_ngZnmq3L1zW",
        "outputId": "5b09182f-edc8-4004-b705-cc6458333620"
      },
      "outputs": [
        {
          "output_type": "execute_result",
          "data": {
            "text/plain": [
              "     labels   source                                       path\n",
              "0  surprise  created  /content/New_surprize/DC_su12_shift_0.wav\n",
              "1  surprise  created  /content/New_surprize/DC_su04_shift_1.wav\n",
              "2  surprise  created  /content/New_surprize/JK_su08_shift_2.wav\n",
              "3  surprise  created  /content/New_surprize/JK_su11_shift_3.wav\n",
              "4  surprise  created  /content/New_surprize/JE_su12_shift_4.wav"
            ],
            "text/html": [
              "\n",
              "  <div id=\"df-acf79e39-48ec-4da7-a847-b03a6345234b\">\n",
              "    <div class=\"colab-df-container\">\n",
              "      <div>\n",
              "<style scoped>\n",
              "    .dataframe tbody tr th:only-of-type {\n",
              "        vertical-align: middle;\n",
              "    }\n",
              "\n",
              "    .dataframe tbody tr th {\n",
              "        vertical-align: top;\n",
              "    }\n",
              "\n",
              "    .dataframe thead th {\n",
              "        text-align: right;\n",
              "    }\n",
              "</style>\n",
              "<table border=\"1\" class=\"dataframe\">\n",
              "  <thead>\n",
              "    <tr style=\"text-align: right;\">\n",
              "      <th></th>\n",
              "      <th>labels</th>\n",
              "      <th>source</th>\n",
              "      <th>path</th>\n",
              "    </tr>\n",
              "  </thead>\n",
              "  <tbody>\n",
              "    <tr>\n",
              "      <th>0</th>\n",
              "      <td>surprise</td>\n",
              "      <td>created</td>\n",
              "      <td>/content/New_surprize/DC_su12_shift_0.wav</td>\n",
              "    </tr>\n",
              "    <tr>\n",
              "      <th>1</th>\n",
              "      <td>surprise</td>\n",
              "      <td>created</td>\n",
              "      <td>/content/New_surprize/DC_su04_shift_1.wav</td>\n",
              "    </tr>\n",
              "    <tr>\n",
              "      <th>2</th>\n",
              "      <td>surprise</td>\n",
              "      <td>created</td>\n",
              "      <td>/content/New_surprize/JK_su08_shift_2.wav</td>\n",
              "    </tr>\n",
              "    <tr>\n",
              "      <th>3</th>\n",
              "      <td>surprise</td>\n",
              "      <td>created</td>\n",
              "      <td>/content/New_surprize/JK_su11_shift_3.wav</td>\n",
              "    </tr>\n",
              "    <tr>\n",
              "      <th>4</th>\n",
              "      <td>surprise</td>\n",
              "      <td>created</td>\n",
              "      <td>/content/New_surprize/JE_su12_shift_4.wav</td>\n",
              "    </tr>\n",
              "  </tbody>\n",
              "</table>\n",
              "</div>\n",
              "      <button class=\"colab-df-convert\" onclick=\"convertToInteractive('df-acf79e39-48ec-4da7-a847-b03a6345234b')\"\n",
              "              title=\"Convert this dataframe to an interactive table.\"\n",
              "              style=\"display:none;\">\n",
              "        \n",
              "  <svg xmlns=\"http://www.w3.org/2000/svg\" height=\"24px\"viewBox=\"0 0 24 24\"\n",
              "       width=\"24px\">\n",
              "    <path d=\"M0 0h24v24H0V0z\" fill=\"none\"/>\n",
              "    <path d=\"M18.56 5.44l.94 2.06.94-2.06 2.06-.94-2.06-.94-.94-2.06-.94 2.06-2.06.94zm-11 1L8.5 8.5l.94-2.06 2.06-.94-2.06-.94L8.5 2.5l-.94 2.06-2.06.94zm10 10l.94 2.06.94-2.06 2.06-.94-2.06-.94-.94-2.06-.94 2.06-2.06.94z\"/><path d=\"M17.41 7.96l-1.37-1.37c-.4-.4-.92-.59-1.43-.59-.52 0-1.04.2-1.43.59L10.3 9.45l-7.72 7.72c-.78.78-.78 2.05 0 2.83L4 21.41c.39.39.9.59 1.41.59.51 0 1.02-.2 1.41-.59l7.78-7.78 2.81-2.81c.8-.78.8-2.07 0-2.86zM5.41 20L4 18.59l7.72-7.72 1.47 1.35L5.41 20z\"/>\n",
              "  </svg>\n",
              "      </button>\n",
              "      \n",
              "  <style>\n",
              "    .colab-df-container {\n",
              "      display:flex;\n",
              "      flex-wrap:wrap;\n",
              "      gap: 12px;\n",
              "    }\n",
              "\n",
              "    .colab-df-convert {\n",
              "      background-color: #E8F0FE;\n",
              "      border: none;\n",
              "      border-radius: 50%;\n",
              "      cursor: pointer;\n",
              "      display: none;\n",
              "      fill: #1967D2;\n",
              "      height: 32px;\n",
              "      padding: 0 0 0 0;\n",
              "      width: 32px;\n",
              "    }\n",
              "\n",
              "    .colab-df-convert:hover {\n",
              "      background-color: #E2EBFA;\n",
              "      box-shadow: 0px 1px 2px rgba(60, 64, 67, 0.3), 0px 1px 3px 1px rgba(60, 64, 67, 0.15);\n",
              "      fill: #174EA6;\n",
              "    }\n",
              "\n",
              "    [theme=dark] .colab-df-convert {\n",
              "      background-color: #3B4455;\n",
              "      fill: #D2E3FC;\n",
              "    }\n",
              "\n",
              "    [theme=dark] .colab-df-convert:hover {\n",
              "      background-color: #434B5C;\n",
              "      box-shadow: 0px 1px 3px 1px rgba(0, 0, 0, 0.15);\n",
              "      filter: drop-shadow(0px 1px 2px rgba(0, 0, 0, 0.3));\n",
              "      fill: #FFFFFF;\n",
              "    }\n",
              "  </style>\n",
              "\n",
              "      <script>\n",
              "        const buttonEl =\n",
              "          document.querySelector('#df-acf79e39-48ec-4da7-a847-b03a6345234b button.colab-df-convert');\n",
              "        buttonEl.style.display =\n",
              "          google.colab.kernel.accessAllowed ? 'block' : 'none';\n",
              "\n",
              "        async function convertToInteractive(key) {\n",
              "          const element = document.querySelector('#df-acf79e39-48ec-4da7-a847-b03a6345234b');\n",
              "          const dataTable =\n",
              "            await google.colab.kernel.invokeFunction('convertToInteractive',\n",
              "                                                     [key], {});\n",
              "          if (!dataTable) return;\n",
              "\n",
              "          const docLinkHtml = 'Like what you see? Visit the ' +\n",
              "            '<a target=\"_blank\" href=https://colab.research.google.com/notebooks/data_table.ipynb>data table notebook</a>'\n",
              "            + ' to learn more about interactive tables.';\n",
              "          element.innerHTML = '';\n",
              "          dataTable['output_type'] = 'display_data';\n",
              "          await google.colab.output.renderOutput(dataTable, element);\n",
              "          const docLink = document.createElement('div');\n",
              "          docLink.innerHTML = docLinkHtml;\n",
              "          element.appendChild(docLink);\n",
              "        }\n",
              "      </script>\n",
              "    </div>\n",
              "  </div>\n",
              "  "
            ]
          },
          "metadata": {},
          "execution_count": 45
        }
      ],
      "source": [
        "sur_df_new.head()"
      ]
    },
    {
      "cell_type": "code",
      "execution_count": null,
      "metadata": {
        "colab": {
          "base_uri": "https://localhost:8080/"
        },
        "id": "EP3zQhEgNzcj",
        "outputId": "5f712356-6199-48f1-dff7-bfc3b6888bd8"
      },
      "outputs": [
        {
          "output_type": "stream",
          "name": "stdout",
          "text": [
            "sad         1915\n",
            "happy       1915\n",
            "fear        1915\n",
            "angry       1915\n",
            "neutral     1883\n",
            "surprise    1840\n",
            "disgust     1731\n",
            "Name: labels, dtype: int64\n"
          ]
        }
      ],
      "source": [
        "df = pd.concat([df, sur_df_new], ignore_index = True, axis = 0)\n",
        "print(df.labels.value_counts())"
      ]
    },
    {
      "cell_type": "code",
      "execution_count": null,
      "metadata": {
        "colab": {
          "base_uri": "https://localhost:8080/",
          "height": 206
        },
        "id": "82EAv-XdPswx",
        "outputId": "fc2a48a0-d1cb-4f89-d30e-1bef64e865b7"
      },
      "outputs": [
        {
          "output_type": "execute_result",
          "data": {
            "text/plain": [
              "     labels source                                         path\n",
              "0  surprise  SAVEE  /content/surrey-audiovisual/ALL/DC_su12.wav\n",
              "1   neutral  SAVEE   /content/surrey-audiovisual/ALL/JE_n14.wav\n",
              "2       sad  SAVEE  /content/surrey-audiovisual/ALL/JE_sa08.wav\n",
              "3  surprise  SAVEE  /content/surrey-audiovisual/ALL/DC_su04.wav\n",
              "4   neutral  SAVEE   /content/surrey-audiovisual/ALL/DC_n27.wav"
            ],
            "text/html": [
              "\n",
              "  <div id=\"df-5a9a9e84-67d4-46e7-aee5-7e9d056e4c3a\">\n",
              "    <div class=\"colab-df-container\">\n",
              "      <div>\n",
              "<style scoped>\n",
              "    .dataframe tbody tr th:only-of-type {\n",
              "        vertical-align: middle;\n",
              "    }\n",
              "\n",
              "    .dataframe tbody tr th {\n",
              "        vertical-align: top;\n",
              "    }\n",
              "\n",
              "    .dataframe thead th {\n",
              "        text-align: right;\n",
              "    }\n",
              "</style>\n",
              "<table border=\"1\" class=\"dataframe\">\n",
              "  <thead>\n",
              "    <tr style=\"text-align: right;\">\n",
              "      <th></th>\n",
              "      <th>labels</th>\n",
              "      <th>source</th>\n",
              "      <th>path</th>\n",
              "    </tr>\n",
              "  </thead>\n",
              "  <tbody>\n",
              "    <tr>\n",
              "      <th>0</th>\n",
              "      <td>surprise</td>\n",
              "      <td>SAVEE</td>\n",
              "      <td>/content/surrey-audiovisual/ALL/DC_su12.wav</td>\n",
              "    </tr>\n",
              "    <tr>\n",
              "      <th>1</th>\n",
              "      <td>neutral</td>\n",
              "      <td>SAVEE</td>\n",
              "      <td>/content/surrey-audiovisual/ALL/JE_n14.wav</td>\n",
              "    </tr>\n",
              "    <tr>\n",
              "      <th>2</th>\n",
              "      <td>sad</td>\n",
              "      <td>SAVEE</td>\n",
              "      <td>/content/surrey-audiovisual/ALL/JE_sa08.wav</td>\n",
              "    </tr>\n",
              "    <tr>\n",
              "      <th>3</th>\n",
              "      <td>surprise</td>\n",
              "      <td>SAVEE</td>\n",
              "      <td>/content/surrey-audiovisual/ALL/DC_su04.wav</td>\n",
              "    </tr>\n",
              "    <tr>\n",
              "      <th>4</th>\n",
              "      <td>neutral</td>\n",
              "      <td>SAVEE</td>\n",
              "      <td>/content/surrey-audiovisual/ALL/DC_n27.wav</td>\n",
              "    </tr>\n",
              "  </tbody>\n",
              "</table>\n",
              "</div>\n",
              "      <button class=\"colab-df-convert\" onclick=\"convertToInteractive('df-5a9a9e84-67d4-46e7-aee5-7e9d056e4c3a')\"\n",
              "              title=\"Convert this dataframe to an interactive table.\"\n",
              "              style=\"display:none;\">\n",
              "        \n",
              "  <svg xmlns=\"http://www.w3.org/2000/svg\" height=\"24px\"viewBox=\"0 0 24 24\"\n",
              "       width=\"24px\">\n",
              "    <path d=\"M0 0h24v24H0V0z\" fill=\"none\"/>\n",
              "    <path d=\"M18.56 5.44l.94 2.06.94-2.06 2.06-.94-2.06-.94-.94-2.06-.94 2.06-2.06.94zm-11 1L8.5 8.5l.94-2.06 2.06-.94-2.06-.94L8.5 2.5l-.94 2.06-2.06.94zm10 10l.94 2.06.94-2.06 2.06-.94-2.06-.94-.94-2.06-.94 2.06-2.06.94z\"/><path d=\"M17.41 7.96l-1.37-1.37c-.4-.4-.92-.59-1.43-.59-.52 0-1.04.2-1.43.59L10.3 9.45l-7.72 7.72c-.78.78-.78 2.05 0 2.83L4 21.41c.39.39.9.59 1.41.59.51 0 1.02-.2 1.41-.59l7.78-7.78 2.81-2.81c.8-.78.8-2.07 0-2.86zM5.41 20L4 18.59l7.72-7.72 1.47 1.35L5.41 20z\"/>\n",
              "  </svg>\n",
              "      </button>\n",
              "      \n",
              "  <style>\n",
              "    .colab-df-container {\n",
              "      display:flex;\n",
              "      flex-wrap:wrap;\n",
              "      gap: 12px;\n",
              "    }\n",
              "\n",
              "    .colab-df-convert {\n",
              "      background-color: #E8F0FE;\n",
              "      border: none;\n",
              "      border-radius: 50%;\n",
              "      cursor: pointer;\n",
              "      display: none;\n",
              "      fill: #1967D2;\n",
              "      height: 32px;\n",
              "      padding: 0 0 0 0;\n",
              "      width: 32px;\n",
              "    }\n",
              "\n",
              "    .colab-df-convert:hover {\n",
              "      background-color: #E2EBFA;\n",
              "      box-shadow: 0px 1px 2px rgba(60, 64, 67, 0.3), 0px 1px 3px 1px rgba(60, 64, 67, 0.15);\n",
              "      fill: #174EA6;\n",
              "    }\n",
              "\n",
              "    [theme=dark] .colab-df-convert {\n",
              "      background-color: #3B4455;\n",
              "      fill: #D2E3FC;\n",
              "    }\n",
              "\n",
              "    [theme=dark] .colab-df-convert:hover {\n",
              "      background-color: #434B5C;\n",
              "      box-shadow: 0px 1px 3px 1px rgba(0, 0, 0, 0.15);\n",
              "      filter: drop-shadow(0px 1px 2px rgba(0, 0, 0, 0.3));\n",
              "      fill: #FFFFFF;\n",
              "    }\n",
              "  </style>\n",
              "\n",
              "      <script>\n",
              "        const buttonEl =\n",
              "          document.querySelector('#df-5a9a9e84-67d4-46e7-aee5-7e9d056e4c3a button.colab-df-convert');\n",
              "        buttonEl.style.display =\n",
              "          google.colab.kernel.accessAllowed ? 'block' : 'none';\n",
              "\n",
              "        async function convertToInteractive(key) {\n",
              "          const element = document.querySelector('#df-5a9a9e84-67d4-46e7-aee5-7e9d056e4c3a');\n",
              "          const dataTable =\n",
              "            await google.colab.kernel.invokeFunction('convertToInteractive',\n",
              "                                                     [key], {});\n",
              "          if (!dataTable) return;\n",
              "\n",
              "          const docLinkHtml = 'Like what you see? Visit the ' +\n",
              "            '<a target=\"_blank\" href=https://colab.research.google.com/notebooks/data_table.ipynb>data table notebook</a>'\n",
              "            + ' to learn more about interactive tables.';\n",
              "          element.innerHTML = '';\n",
              "          dataTable['output_type'] = 'display_data';\n",
              "          await google.colab.output.renderOutput(dataTable, element);\n",
              "          const docLink = document.createElement('div');\n",
              "          docLink.innerHTML = docLinkHtml;\n",
              "          element.appendChild(docLink);\n",
              "        }\n",
              "      </script>\n",
              "    </div>\n",
              "  </div>\n",
              "  "
            ]
          },
          "metadata": {},
          "execution_count": 47
        }
      ],
      "source": [
        "df.head()"
      ]
    },
    {
      "cell_type": "code",
      "execution_count": null,
      "metadata": {
        "colab": {
          "base_uri": "https://localhost:8080/",
          "height": 206
        },
        "id": "XZQVkWTNOMwM",
        "outputId": "281db2d2-5d41-4227-8004-716ce1e54f39"
      },
      "outputs": [
        {
          "output_type": "execute_result",
          "data": {
            "text/plain": [
              "         labels   source                                              path\n",
              "13109  surprise  created   /content/New_surprize/YAF_pick_ps_pitch_455.wav\n",
              "13110  surprise  created   /content/New_surprize/YAF_king_ps_pitch_456.wav\n",
              "13111  surprise  created   /content/New_surprize/YAF_lose_ps_pitch_457.wav\n",
              "13112  surprise  created   /content/New_surprize/YAF_road_ps_pitch_458.wav\n",
              "13113  surprise  created  /content/New_surprize/YAF_merge_ps_pitch_459.wav"
            ],
            "text/html": [
              "\n",
              "  <div id=\"df-e4d27bd3-03e5-4986-a1b9-4bf838f1f7af\">\n",
              "    <div class=\"colab-df-container\">\n",
              "      <div>\n",
              "<style scoped>\n",
              "    .dataframe tbody tr th:only-of-type {\n",
              "        vertical-align: middle;\n",
              "    }\n",
              "\n",
              "    .dataframe tbody tr th {\n",
              "        vertical-align: top;\n",
              "    }\n",
              "\n",
              "    .dataframe thead th {\n",
              "        text-align: right;\n",
              "    }\n",
              "</style>\n",
              "<table border=\"1\" class=\"dataframe\">\n",
              "  <thead>\n",
              "    <tr style=\"text-align: right;\">\n",
              "      <th></th>\n",
              "      <th>labels</th>\n",
              "      <th>source</th>\n",
              "      <th>path</th>\n",
              "    </tr>\n",
              "  </thead>\n",
              "  <tbody>\n",
              "    <tr>\n",
              "      <th>13109</th>\n",
              "      <td>surprise</td>\n",
              "      <td>created</td>\n",
              "      <td>/content/New_surprize/YAF_pick_ps_pitch_455.wav</td>\n",
              "    </tr>\n",
              "    <tr>\n",
              "      <th>13110</th>\n",
              "      <td>surprise</td>\n",
              "      <td>created</td>\n",
              "      <td>/content/New_surprize/YAF_king_ps_pitch_456.wav</td>\n",
              "    </tr>\n",
              "    <tr>\n",
              "      <th>13111</th>\n",
              "      <td>surprise</td>\n",
              "      <td>created</td>\n",
              "      <td>/content/New_surprize/YAF_lose_ps_pitch_457.wav</td>\n",
              "    </tr>\n",
              "    <tr>\n",
              "      <th>13112</th>\n",
              "      <td>surprise</td>\n",
              "      <td>created</td>\n",
              "      <td>/content/New_surprize/YAF_road_ps_pitch_458.wav</td>\n",
              "    </tr>\n",
              "    <tr>\n",
              "      <th>13113</th>\n",
              "      <td>surprise</td>\n",
              "      <td>created</td>\n",
              "      <td>/content/New_surprize/YAF_merge_ps_pitch_459.wav</td>\n",
              "    </tr>\n",
              "  </tbody>\n",
              "</table>\n",
              "</div>\n",
              "      <button class=\"colab-df-convert\" onclick=\"convertToInteractive('df-e4d27bd3-03e5-4986-a1b9-4bf838f1f7af')\"\n",
              "              title=\"Convert this dataframe to an interactive table.\"\n",
              "              style=\"display:none;\">\n",
              "        \n",
              "  <svg xmlns=\"http://www.w3.org/2000/svg\" height=\"24px\"viewBox=\"0 0 24 24\"\n",
              "       width=\"24px\">\n",
              "    <path d=\"M0 0h24v24H0V0z\" fill=\"none\"/>\n",
              "    <path d=\"M18.56 5.44l.94 2.06.94-2.06 2.06-.94-2.06-.94-.94-2.06-.94 2.06-2.06.94zm-11 1L8.5 8.5l.94-2.06 2.06-.94-2.06-.94L8.5 2.5l-.94 2.06-2.06.94zm10 10l.94 2.06.94-2.06 2.06-.94-2.06-.94-.94-2.06-.94 2.06-2.06.94z\"/><path d=\"M17.41 7.96l-1.37-1.37c-.4-.4-.92-.59-1.43-.59-.52 0-1.04.2-1.43.59L10.3 9.45l-7.72 7.72c-.78.78-.78 2.05 0 2.83L4 21.41c.39.39.9.59 1.41.59.51 0 1.02-.2 1.41-.59l7.78-7.78 2.81-2.81c.8-.78.8-2.07 0-2.86zM5.41 20L4 18.59l7.72-7.72 1.47 1.35L5.41 20z\"/>\n",
              "  </svg>\n",
              "      </button>\n",
              "      \n",
              "  <style>\n",
              "    .colab-df-container {\n",
              "      display:flex;\n",
              "      flex-wrap:wrap;\n",
              "      gap: 12px;\n",
              "    }\n",
              "\n",
              "    .colab-df-convert {\n",
              "      background-color: #E8F0FE;\n",
              "      border: none;\n",
              "      border-radius: 50%;\n",
              "      cursor: pointer;\n",
              "      display: none;\n",
              "      fill: #1967D2;\n",
              "      height: 32px;\n",
              "      padding: 0 0 0 0;\n",
              "      width: 32px;\n",
              "    }\n",
              "\n",
              "    .colab-df-convert:hover {\n",
              "      background-color: #E2EBFA;\n",
              "      box-shadow: 0px 1px 2px rgba(60, 64, 67, 0.3), 0px 1px 3px 1px rgba(60, 64, 67, 0.15);\n",
              "      fill: #174EA6;\n",
              "    }\n",
              "\n",
              "    [theme=dark] .colab-df-convert {\n",
              "      background-color: #3B4455;\n",
              "      fill: #D2E3FC;\n",
              "    }\n",
              "\n",
              "    [theme=dark] .colab-df-convert:hover {\n",
              "      background-color: #434B5C;\n",
              "      box-shadow: 0px 1px 3px 1px rgba(0, 0, 0, 0.15);\n",
              "      filter: drop-shadow(0px 1px 2px rgba(0, 0, 0, 0.3));\n",
              "      fill: #FFFFFF;\n",
              "    }\n",
              "  </style>\n",
              "\n",
              "      <script>\n",
              "        const buttonEl =\n",
              "          document.querySelector('#df-e4d27bd3-03e5-4986-a1b9-4bf838f1f7af button.colab-df-convert');\n",
              "        buttonEl.style.display =\n",
              "          google.colab.kernel.accessAllowed ? 'block' : 'none';\n",
              "\n",
              "        async function convertToInteractive(key) {\n",
              "          const element = document.querySelector('#df-e4d27bd3-03e5-4986-a1b9-4bf838f1f7af');\n",
              "          const dataTable =\n",
              "            await google.colab.kernel.invokeFunction('convertToInteractive',\n",
              "                                                     [key], {});\n",
              "          if (!dataTable) return;\n",
              "\n",
              "          const docLinkHtml = 'Like what you see? Visit the ' +\n",
              "            '<a target=\"_blank\" href=https://colab.research.google.com/notebooks/data_table.ipynb>data table notebook</a>'\n",
              "            + ' to learn more about interactive tables.';\n",
              "          element.innerHTML = '';\n",
              "          dataTable['output_type'] = 'display_data';\n",
              "          await google.colab.output.renderOutput(dataTable, element);\n",
              "          const docLink = document.createElement('div');\n",
              "          docLink.innerHTML = docLinkHtml;\n",
              "          element.appendChild(docLink);\n",
              "        }\n",
              "      </script>\n",
              "    </div>\n",
              "  </div>\n",
              "  "
            ]
          },
          "metadata": {},
          "execution_count": 48
        }
      ],
      "source": [
        "df.tail()"
      ]
    },
    {
      "cell_type": "code",
      "execution_count": null,
      "metadata": {
        "id": "R-UkhpyZyK8T"
      },
      "outputs": [],
      "source": [
        "df.to_csv('DF of all.csv')"
      ]
    },
    {
      "cell_type": "markdown",
      "source": [
        "You can skip the 4 useless modeling parts, which represent different trials of the modeling, but reached unsatisfying results in terms of accuracy. We solved the issue by simply increasing the training dataset. ✅\n",
        "\n",
        "\n"
      ],
      "metadata": {
        "id": "ag1te7974GMY"
      }
    },
    {
      "cell_type": "markdown",
      "metadata": {
        "id": "WR4FPmFydN6P"
      },
      "source": [
        "# --Useless 1st Modeling"
      ]
    },
    {
      "cell_type": "markdown",
      "metadata": {
        "id": "Xq1g90hteTGT"
      },
      "source": [
        "### Model Design"
      ]
    },
    {
      "cell_type": "code",
      "execution_count": null,
      "metadata": {
        "id": "o4vYjiZ2Ozmk"
      },
      "outputs": [],
      "source": [
        "# Keras\n",
        "import keras\n",
        "from keras import regularizers\n",
        "from keras.preprocessing import sequence\n",
        "from keras.preprocessing.text import Tokenizer\n",
        "from keras.preprocessing.sequence import pad_sequences\n",
        "from keras.models import Sequential, Model, model_from_json\n",
        "from keras.layers import Dense, Embedding, LSTM\n",
        "from keras.layers import Input, Flatten, Dropout, Activation, BatchNormalization\n",
        "from keras.layers import Conv1D, MaxPooling1D, AveragePooling1D\n",
        "from keras.utils import np_utils\n",
        "from keras.callbacks import ModelCheckpoint"
      ]
    },
    {
      "cell_type": "code",
      "execution_count": null,
      "metadata": {
        "id": "duXn-4ZdZ5t7"
      },
      "outputs": [],
      "source": [
        "from sklearn.model_selection import train_test_split\n",
        "X_train, X_test, y_train, y_test = train_test_split(x, y_codded, test_size=0.15\n",
        "                                                    , shuffle=True\n",
        "                                                    , random_state=42)"
      ]
    },
    {
      "cell_type": "code",
      "execution_count": null,
      "metadata": {
        "colab": {
          "base_uri": "https://localhost:8080/"
        },
        "id": "kPLsUF_iPDAM",
        "outputId": "b207d390-12ce-4869-e2ec-ba3ae86952db"
      },
      "outputs": [
        {
          "data": {
            "text/plain": [
              "((11146, 23, 1), (1968, 23, 1))"
            ]
          },
          "execution_count": 50,
          "metadata": {},
          "output_type": "execute_result"
        }
      ],
      "source": [
        "X_train.shape,X_test.shape"
      ]
    },
    {
      "cell_type": "code",
      "execution_count": null,
      "metadata": {
        "colab": {
          "base_uri": "https://localhost:8080/"
        },
        "id": "TbJ3O7QZPODL",
        "outputId": "badef0ca-82fb-4ed0-baea-d55c3fefcc5d"
      },
      "outputs": [
        {
          "name": "stdout",
          "output_type": "stream",
          "text": [
            "Model: \"sequential\"\n",
            "_________________________________________________________________\n",
            " Layer (type)                Output Shape              Param #   \n",
            "=================================================================\n",
            " conv1d (Conv1D)             (None, 23, 128)           1152      \n",
            "                                                                 \n",
            " activation (Activation)     (None, 23, 128)           0         \n",
            "                                                                 \n",
            " conv1d_1 (Conv1D)           (None, 23, 128)           131200    \n",
            "                                                                 \n",
            " batch_normalization (BatchN  (None, 23, 128)          512       \n",
            " ormalization)                                                   \n",
            "                                                                 \n",
            " activation_1 (Activation)   (None, 23, 128)           0         \n",
            "                                                                 \n",
            " dropout (Dropout)           (None, 23, 128)           0         \n",
            "                                                                 \n",
            " max_pooling1d (MaxPooling1D  (None, 2, 128)           0         \n",
            " )                                                               \n",
            "                                                                 \n",
            " conv1d_2 (Conv1D)           (None, 2, 64)             65600     \n",
            "                                                                 \n",
            " batch_normalization_1 (Batc  (None, 2, 64)            256       \n",
            " hNormalization)                                                 \n",
            "                                                                 \n",
            " activation_2 (Activation)   (None, 2, 64)             0         \n",
            "                                                                 \n",
            " dropout_1 (Dropout)         (None, 2, 64)             0         \n",
            "                                                                 \n",
            " conv1d_3 (Conv1D)           (None, 2, 32)             16416     \n",
            "                                                                 \n",
            " activation_3 (Activation)   (None, 2, 32)             0         \n",
            "                                                                 \n",
            " flatten (Flatten)           (None, 64)                0         \n",
            "                                                                 \n",
            " dense (Dense)               (None, 7)                 455       \n",
            "                                                                 \n",
            " activation_4 (Activation)   (None, 7)                 0         \n",
            "                                                                 \n",
            "=================================================================\n",
            "Total params: 215,591\n",
            "Trainable params: 215,207\n",
            "Non-trainable params: 384\n",
            "_________________________________________________________________\n"
          ]
        }
      ],
      "source": [
        "# New model\n",
        "model = Sequential()\n",
        "model.add(Conv1D(128, 8, padding='same',input_shape=(X_train.shape[1],1)))  # X_train.shape[1] = No. of Columns\n",
        "model.add(Activation('relu'))\n",
        "model.add(Conv1D(128, 8, padding='same'))\n",
        "model.add(BatchNormalization())\n",
        "model.add(Activation('relu'))\n",
        "model.add(Dropout(0.25))\n",
        "model.add(MaxPooling1D(pool_size=(8)))\n",
        "model.add(Conv1D(64, 8, padding='same'))\n",
        "model.add(BatchNormalization())\n",
        "model.add(Activation('relu'))\n",
        "model.add(Dropout(0.25))\n",
        "model.add(Conv1D(32, 8, padding='same'))\n",
        "model.add(Activation('relu'))\n",
        "model.add(Flatten())\n",
        "model.add(Dense(7)) # Target class number\n",
        "model.add(Activation('softmax'))\n",
        "\n",
        "model.summary()"
      ]
    },
    {
      "cell_type": "code",
      "execution_count": null,
      "metadata": {
        "id": "-1c7H_EKPN42"
      },
      "outputs": [],
      "source": [
        "model.compile(loss='categorical_crossentropy', optimizer='ADAM',metrics=['accuracy'])\n",
        "model_history=model.fit(X_train, y_train, batch_size=16, epochs=100, validation_data=(X_test, y_test))"
      ]
    },
    {
      "cell_type": "markdown",
      "source": [
        "Epoch 88/100\n",
        "697/697 [==============================] - 15s 21ms/step - loss: 0.6938 - accuracy: 0.7256 - val_loss: 0.9533 - val_accuracy: 0.6367\n",
        "\n",
        "Epoch 89/100\n",
        "697/697 [==============================] - 15s 21ms/step - loss: 0.6970 - accuracy: 0.7238 - val_loss: 0.8995 - val_accuracy: 0.6489\n",
        "\n",
        "Epoch 90/100\n",
        "697/697 [==============================] - 15s 21ms/step - loss: 0.6888 - accuracy: 0.7282 - val_loss: 0.9102 - val_accuracy: 0.6433\n",
        "\n",
        "Epoch 91/100\n",
        "697/697 [==============================] - 15s 21ms/step - loss: 0.6956 - accuracy: 0.7283 - val_loss: 0.9372 - val_accuracy: 0.6392\n",
        "\n",
        "Epoch 92/100\n",
        "697/697 [==============================] - 15s 21ms/step - loss: 0.6944 - accuracy: 0.7221 - val_loss: 0.8704 - val_accuracy: 0.6535\n",
        "\n",
        "Epoch 93/100\n",
        "697/697 [==============================] - 15s 21ms/step - loss: 0.6874 - accuracy: 0.7299 - val_loss: 0.8781 - val_accuracy: 0.6479\n",
        "\n",
        "Epoch 94/100\n",
        "697/697 [==============================] - 15s 21ms/step - loss: 0.6906 - accuracy: 0.7321 - val_loss: 0.9305 - val_accuracy: 0.6367\n",
        "\n",
        "Epoch 95/100\n",
        "697/697 [==============================] - 15s 21ms/step - loss: 0.6843 - accuracy: 0.7299 - val_loss: 0.8903 - val_accuracy: 0.6453\n",
        "\n",
        "Epoch 96/100\n",
        "697/697 [==============================] - 15s 21ms/step - loss: 0.6853 - accuracy: 0.7264 - val_loss: 0.8968 - val_accuracy: 0.6519\n",
        "\n",
        "Epoch 97/100\n",
        "697/697 [==============================] - 14s 21ms/step - loss: 0.6909 - accuracy: 0.7295 - val_loss: 0.9149 - val_accuracy: 0.6341\n",
        "\n",
        "Epoch 98/100\n",
        "697/697 [==============================] - 14s 21ms/step - loss: 0.6796 - accuracy: 0.7294 - val_loss: 0.8928 - val_accuracy: 0.6448\n",
        "\n",
        "Epoch 99/100\n",
        "697/697 [==============================] - 14s 21ms/step - loss: 0.6739 - accuracy: 0.7356 - val_loss: 0.9808 - val_accuracy: 0.6250\n",
        "\n",
        "Epoch 100/100\n",
        "697/697 [==============================] - 14s 21ms/step - loss: 0.6796 - accuracy: 0.7319 - val_loss: 0.9196 - val_accuracy: 0.6428"
      ],
      "metadata": {
        "id": "5LI_fb3k74GJ"
      }
    },
    {
      "cell_type": "markdown",
      "metadata": {
        "id": "OM_s5I9Keh0T"
      },
      "source": [
        "## Prediction & Confusion Matrix"
      ]
    },
    {
      "cell_type": "code",
      "execution_count": null,
      "metadata": {
        "id": "eySzrKq0PTL0"
      },
      "outputs": [],
      "source": [
        "y_pred = model.predict(X_test)"
      ]
    },
    {
      "cell_type": "code",
      "execution_count": null,
      "metadata": {
        "colab": {
          "base_uri": "https://localhost:8080/",
          "height": 295
        },
        "id": "95lyWDBoPdoU",
        "outputId": "cbe11fd8-6de6-4279-f762-49b2701a73fe"
      },
      "outputs": [
        {
          "data": {
            "image/png": "[encoded data removed]",
            "text/plain": [
              "<Figure size 432x288 with 2 Axes>"
            ]
          },
          "metadata": {},
          "output_type": "display_data"
        }
      ],
      "source": [
        "from sklearn.metrics import confusion_matrix\n",
        "labels = ['sad','happy','fear','angry','neutral','disgust','surprise']\n",
        "matrix = confusion_matrix(y_test.argmax(axis=1), y_pred.argmax(axis=1))\n",
        "\n",
        "\n",
        "import seaborn as sns\n",
        "import matplotlib.pyplot as plt     \n",
        "\n",
        "ax= plt.subplot()\n",
        "sns.heatmap(matrix, annot=True, fmt='g', ax=ax);  #annot=True to annotate cells, ftm='g' to disable scientific notation\n",
        "\n",
        "# labels, title and ticks\n",
        "ax.set_xlabel('Predicted labels');ax.set_ylabel('True labels'); \n",
        "ax.set_title('Confusion Matrix'); \n",
        "ax.xaxis.set_ticklabels(labels); ax.yaxis.set_ticklabels(labels);\n"
      ]
    },
    {
      "cell_type": "markdown",
      "metadata": {
        "id": "sF515LfMepqU"
      },
      "source": [
        "**-----------------------------------------------------------------------------------------------------------------------------------------------------------**"
      ]
    },
    {
      "cell_type": "markdown",
      "metadata": {
        "id": "QXuppP1VlaH9"
      },
      "source": [
        "# --Useless 2nd Modeling"
      ]
    },
    {
      "cell_type": "code",
      "execution_count": null,
      "metadata": {
        "id": "T34SIUZ5pQJf"
      },
      "outputs": [],
      "source": [
        "from sklearn.model_selection import train_test_split\n",
        "X_train, X_test, y_train, y_test = train_test_split(x, y_codded, test_size=0.15\n",
        "                                                    , shuffle=True\n",
        "                                                    , random_state=42)"
      ]
    },
    {
      "cell_type": "code",
      "execution_count": null,
      "metadata": {
        "colab": {
          "base_uri": "https://localhost:8080/"
        },
        "id": "JJ5mgGd4pZMi",
        "outputId": "52f5c250-461d-451e-990d-eaefa1e6566a"
      },
      "outputs": [
        {
          "name": "stdout",
          "output_type": "stream",
          "text": [
            "Model: \"sequential_2\"\n",
            "_________________________________________________________________\n",
            " Layer (type)                Output Shape              Param #   \n",
            "=================================================================\n",
            " conv1d_8 (Conv1D)           (None, 23, 128)           1152      \n",
            "                                                                 \n",
            " activation_10 (Activation)  (None, 23, 128)           0         \n",
            "                                                                 \n",
            " conv1d_9 (Conv1D)           (None, 23, 128)           131200    \n",
            "                                                                 \n",
            " batch_normalization_4 (Batc  (None, 23, 128)          512       \n",
            " hNormalization)                                                 \n",
            "                                                                 \n",
            " activation_11 (Activation)  (None, 23, 128)           0         \n",
            "                                                                 \n",
            " dropout_4 (Dropout)         (None, 23, 128)           0         \n",
            "                                                                 \n",
            " max_pooling1d_2 (MaxPooling  (None, 2, 128)           0         \n",
            " 1D)                                                             \n",
            "                                                                 \n",
            " conv1d_10 (Conv1D)          (None, 2, 64)             65600     \n",
            "                                                                 \n",
            " batch_normalization_5 (Batc  (None, 2, 64)            256       \n",
            " hNormalization)                                                 \n",
            "                                                                 \n",
            " activation_12 (Activation)  (None, 2, 64)             0         \n",
            "                                                                 \n",
            " dropout_5 (Dropout)         (None, 2, 64)             0         \n",
            "                                                                 \n",
            " conv1d_11 (Conv1D)          (None, 2, 32)             16416     \n",
            "                                                                 \n",
            " activation_13 (Activation)  (None, 2, 32)             0         \n",
            "                                                                 \n",
            " flatten_2 (Flatten)         (None, 64)                0         \n",
            "                                                                 \n",
            " dense_2 (Dense)             (None, 7)                 455       \n",
            "                                                                 \n",
            " activation_14 (Activation)  (None, 7)                 0         \n",
            "                                                                 \n",
            "=================================================================\n",
            "Total params: 215,591\n",
            "Trainable params: 215,207\n",
            "Non-trainable params: 384\n",
            "_________________________________________________________________\n"
          ]
        }
      ],
      "source": [
        "model = Sequential()\n",
        "model.add(Conv1D(128, 8, padding='same',input_shape=(X_train.shape[1],1)))  # X_train.shape[1] = No. of Columns\n",
        "model.add(Activation('relu'))\n",
        "model.add(Conv1D(128, 8, padding='same'))\n",
        "model.add(BatchNormalization())\n",
        "model.add(Activation('relu'))\n",
        "model.add(Dropout(0.15))\n",
        "model.add(MaxPooling1D(pool_size=(8)))\n",
        "model.add(Conv1D(64, 8, padding='same'))\n",
        "model.add(BatchNormalization())\n",
        "model.add(Activation('relu'))\n",
        "model.add(Dropout(0.15))\n",
        "model.add(Conv1D(32, 8, padding='same'))\n",
        "model.add(Activation('relu'))\n",
        "model.add(Flatten())\n",
        "model.add(Dense(7)) # Target class number\n",
        "model.add(Activation('softmax'))\n",
        "\n",
        "model.summary()"
      ]
    },
    {
      "cell_type": "code",
      "execution_count": null,
      "metadata": {
        "id": "8I2tyU7xptNz"
      },
      "outputs": [],
      "source": [
        "model.compile(loss='categorical_crossentropy', optimizer='ADAM',metrics=['accuracy'])\n",
        "model_history=model.fit(X_train, y_train, batch_size=16, epochs=100, validation_data=(X_test, y_test))"
      ]
    },
    {
      "cell_type": "markdown",
      "source": [
        "Epoch 84/100\n",
        "697/697 [==============================] - 15s 21ms/step - loss: 0.7385 - accuracy: 0.7093 - val_loss: 0.9104 - val_accuracy: 0.6336\n",
        "\n",
        "Epoch 85/100\n",
        "697/697 [==============================] - 15s 21ms/step - loss: 0.7313 - accuracy: 0.7134 - val_loss: 0.9111 - val_accuracy: 0.6484\n",
        "\n",
        "Epoch 86/100\n",
        "697/697 [==============================] - 15s 21ms/step - loss: 0.7358 - accuracy: 0.7107 - val_loss: 0.8885 - val_accuracy: 0.6570\n",
        "\n",
        "Epoch 87/100\n",
        "697/697 [==============================] - 15s 21ms/step - loss: 0.7223 - accuracy: 0.7135 - val_loss: 0.8921 - val_accuracy: 0.6509\n",
        "\n",
        "Epoch 88/100\n",
        "697/697 [==============================] - 15s 22ms/step - loss: 0.7219 - accuracy: 0.7187 - val_loss: 0.9010 - val_accuracy: 0.6489\n",
        "\n",
        "Epoch 89/100\n",
        "697/697 [==============================] - 15s 22ms/step - loss: 0.7287 - accuracy: 0.7096 - val_loss: 0.8891 - val_accuracy: 0.6468\n",
        "\n",
        "Epoch 90/100\n",
        "697/697 [==============================] - 15s 21ms/step - loss: 0.7232 - accuracy: 0.7066 - val_loss: 0.8967 - val_accuracy: 0.6479\n",
        "\n",
        "Epoch 91/100\n",
        "697/697 [==============================] - 15s 21ms/step - loss: 0.7223 - accuracy: 0.7132 - val_loss: 0.8794 - val_accuracy: 0.6514\n",
        "\n",
        "Epoch 92/100\n",
        "697/697 [==============================] - 15s 22ms/step - loss: 0.7193 - accuracy: 0.7151 - val_loss: 0.8893 - val_accuracy: 0.6555\n",
        "\n",
        "Epoch 93/100\n",
        "697/697 [==============================] - 15s 21ms/step - loss: 0.7171 - accuracy: 0.7199 - val_loss: 0.8871 - val_accuracy: 0.6494\n",
        "\n",
        "Epoch 94/100\n",
        "697/697 [==============================] - 15s 21ms/step - loss: 0.7183 - accuracy: 0.7145 - val_loss: 0.9185 - val_accuracy: 0.6448\n",
        "\n",
        "Epoch 95/100\n",
        "697/697 [==============================] - 15s 21ms/step - loss: 0.7155 - accuracy: 0.7166 - val_loss: 0.9496 - val_accuracy: 0.6316\n",
        "\n",
        "Epoch 96/100\n",
        "697/697 [==============================] - 14s 21ms/step - loss: 0.7133 - accuracy: 0.7168 - val_loss: 0.8829 - val_accuracy: 0.6519\n",
        "\n",
        "Epoch 97/100\n",
        "697/697 [==============================] - 15s 21ms/step - loss: 0.7079 - accuracy: 0.7227 - val_loss: 0.8954 - val_accuracy: 0.6611\n",
        "\n",
        "Epoch 98/100\n",
        "697/697 [==============================] - 15s 21ms/step - loss: 0.7163 - accuracy: 0.7133 - val_loss: 0.9547 - val_accuracy: 0.6509\n",
        "\n",
        "Epoch 99/100\n",
        "697/697 [==============================] - 15s 21ms/step - loss: 0.7129 - accuracy: 0.7165 - val_loss: 0.9193 - val_accuracy: 0.6443\n",
        "\n",
        "Epoch 100/100\n",
        "697/697 [==============================] - 15s 21ms/step - loss: 0.7122 - accuracy: 0.7129 - val_loss: 0.8983 - val_accuracy: 0.6606"
      ],
      "metadata": {
        "id": "UTuWJcXL8fvr"
      }
    },
    {
      "cell_type": "markdown",
      "source": [
        "Epoch 94/100 697/697 [==============================] - 15s 21ms/step - loss: 0.7183 - accuracy: 0.7145 - val_loss: 0.9185 - val_accuracy: 0.6448\n",
        "\n",
        "Epoch 95/100 697/697 [==============================] - 15s 21ms/step - loss: 0.7155 - accuracy: 0.7166 - val_loss: 0.9496 - val_accuracy: 0.6316\n",
        "\n",
        "Epoch 96/100 697/697 [==============================] - 14s 21ms/step - loss: 0.7133 - accuracy: 0.7168 - val_loss: 0.8829 - val_accuracy: 0.6519\n",
        "\n",
        "Epoch 97/100 697/697 [==============================] - 15s 21ms/step - loss: 0.7079 - accuracy: 0.7227 - val_loss: 0.8954 - val_accuracy: 0.6611\n",
        "\n",
        "Epoch 98/100 697/697 [==============================] - 15s 21ms/step - loss: 0.7163 - accuracy: 0.7133 - val_loss: 0.9547 - val_accuracy: 0.6509\n",
        "\n",
        "Epoch 99/100 697/697 [==============================] - 15s 21ms/step - loss: 0.7129 - accuracy: 0.7165 - val_loss: 0.9193 - val_accuracy: 0.6443\n",
        "\n",
        "Epoch 100/100 697/697 [==============================] - 15s 21ms/step - loss: 0.7122 - accuracy: 0.7129 - val_loss: 0.8983 - val_accuracy: 0.6606"
      ],
      "metadata": {
        "id": "00cMgl279QJ9"
      }
    },
    {
      "cell_type": "markdown",
      "metadata": {
        "id": "ObrRTZkooHui"
      },
      "source": [
        "---------------------------------------------------------------"
      ]
    },
    {
      "cell_type": "markdown",
      "metadata": {
        "id": "VUI8J5K5OPa0"
      },
      "source": [
        "# --Useless 3rd modeling"
      ]
    },
    {
      "cell_type": "code",
      "execution_count": null,
      "metadata": {
        "id": "6Ij4MUersOGd"
      },
      "outputs": [],
      "source": [
        "from sklearn.model_selection import train_test_split\n",
        "X_train, X_test, y_train, y_test = train_test_split(x_expanded, y_codded, test_size=0.15\n",
        "                                                    , shuffle=True\n",
        "                                                    , random_state=42)"
      ]
    },
    {
      "cell_type": "code",
      "execution_count": null,
      "metadata": {
        "colab": {
          "base_uri": "https://localhost:8080/"
        },
        "id": "DIGU6lTdsUN1",
        "outputId": "1268d85e-4da5-4040-bd53-f1ddf0be10bb"
      },
      "outputs": [
        {
          "name": "stdout",
          "output_type": "stream",
          "text": [
            "Model: \"sequential\"\n",
            "_________________________________________________________________\n",
            " Layer (type)                Output Shape              Param #   \n",
            "=================================================================\n",
            " conv1d (Conv1D)             (None, 23, 128)           1152      \n",
            "                                                                 \n",
            " activation (Activation)     (None, 23, 128)           0         \n",
            "                                                                 \n",
            " conv1d_1 (Conv1D)           (None, 23, 128)           131200    \n",
            "                                                                 \n",
            " batch_normalization (BatchN  (None, 23, 128)          512       \n",
            " ormalization)                                                   \n",
            "                                                                 \n",
            " activation_1 (Activation)   (None, 23, 128)           0         \n",
            "                                                                 \n",
            " dropout (Dropout)           (None, 23, 128)           0         \n",
            "                                                                 \n",
            " max_pooling1d (MaxPooling1D  (None, 2, 128)           0         \n",
            " )                                                               \n",
            "                                                                 \n",
            " conv1d_2 (Conv1D)           (None, 2, 64)             65600     \n",
            "                                                                 \n",
            " batch_normalization_1 (Batc  (None, 2, 64)            256       \n",
            " hNormalization)                                                 \n",
            "                                                                 \n",
            " activation_2 (Activation)   (None, 2, 64)             0         \n",
            "                                                                 \n",
            " dropout_1 (Dropout)         (None, 2, 64)             0         \n",
            "                                                                 \n",
            " conv1d_3 (Conv1D)           (None, 2, 32)             16416     \n",
            "                                                                 \n",
            " activation_3 (Activation)   (None, 2, 32)             0         \n",
            "                                                                 \n",
            " flatten (Flatten)           (None, 64)                0         \n",
            "                                                                 \n",
            " dense (Dense)               (None, 6)                 390       \n",
            "                                                                 \n",
            " activation_4 (Activation)   (None, 6)                 0         \n",
            "                                                                 \n",
            "=================================================================\n",
            "Total params: 215,526\n",
            "Trainable params: 215,142\n",
            "Non-trainable params: 384\n",
            "_________________________________________________________________\n"
          ]
        }
      ],
      "source": [
        "# New model\n",
        "import keras\n",
        "from keras import regularizers\n",
        "from keras.preprocessing import sequence\n",
        "from keras.preprocessing.text import Tokenizer\n",
        "from keras.preprocessing.sequence import pad_sequences\n",
        "from keras.models import Sequential, Model, model_from_json\n",
        "from keras.layers import Dense, Embedding, LSTM\n",
        "from keras.layers import Input, Flatten, Dropout, Activation, BatchNormalization\n",
        "from keras.layers import Conv1D, MaxPooling1D, AveragePooling1D\n",
        "from keras.utils import np_utils\n",
        "from keras.callbacks import ModelCheckpoint\n",
        "\n",
        "model = Sequential()\n",
        "model.add(Conv1D(128, 8, padding='same',input_shape=(X_train.shape[1],1)))  # X_train.shape[1] = No. of Columns\n",
        "model.add(Activation('relu'))\n",
        "model.add(Conv1D(128, 8, padding='same'))\n",
        "model.add(BatchNormalization())\n",
        "model.add(Activation('relu'))\n",
        "model.add(Dropout(0.25))\n",
        "model.add(MaxPooling1D(pool_size=(8)))\n",
        "model.add(Conv1D(64, 8, padding='same'))\n",
        "model.add(BatchNormalization())\n",
        "model.add(Activation('relu'))\n",
        "model.add(Dropout(0.25))\n",
        "model.add(Conv1D(32, 8, padding='same'))\n",
        "model.add(Activation('relu'))\n",
        "model.add(Flatten())\n",
        "model.add(Dense(6)) # Target class number\n",
        "model.add(Activation('softmax'))\n",
        "model.summary()"
      ]
    },
    {
      "cell_type": "code",
      "execution_count": null,
      "metadata": {
        "id": "whajdlwRsY48"
      },
      "outputs": [],
      "source": [
        "model.compile(loss='categorical_crossentropy', optimizer='ADAM',metrics=['accuracy'])\n",
        "model_history=model.fit(X_train, y_train, batch_size=16, epochs=100, validation_data=(X_test, y_test))"
      ]
    },
    {
      "cell_type": "markdown",
      "source": [
        "Epoch 87/100\n",
        "597/597 [==============================] - 12s 21ms/step - loss: 0.6843 - accuracy: 0.7146 - val_loss: 0.8208 - val_accuracy: 0.6487\n",
        "\n",
        "Epoch 88/100\n",
        "597/597 [==============================] - 12s 21ms/step - loss: 0.6794 - accuracy: 0.7200 - val_loss: 0.8141 - val_accuracy: 0.6605\n",
        "\n",
        "Epoch 89/100\n",
        "597/597 [==============================] - 12s 21ms/step - loss: 0.6762 - accuracy: 0.7208 - val_loss: 0.7796 - val_accuracy: 0.6706\n",
        "\n",
        "Epoch 90/100\n",
        "597/597 [==============================] - 13s 21ms/step - loss: 0.6740 - accuracy: 0.7218 - val_loss: 0.8240 - val_accuracy: 0.6510\n",
        "\n",
        "Epoch 91/100\n",
        "597/597 [==============================] - 13s 21ms/step - loss: 0.6791 - accuracy: 0.7201 - val_loss: 0.8693 - val_accuracy: 0.6374\n",
        "\n",
        "Epoch 92/100\n",
        "597/597 [==============================] - 13s 21ms/step - loss: 0.6761 - accuracy: 0.7233 - val_loss: 0.8045 - val_accuracy: 0.6593\n",
        "\n",
        "Epoch 93/100\n",
        "597/597 [==============================] - 13s 21ms/step - loss: 0.6722 - accuracy: 0.7246 - val_loss: 0.8053 - val_accuracy: 0.6528\n",
        "\n",
        "Epoch 94/100\n",
        "597/597 [==============================] - 13s 21ms/step - loss: 0.6683 - accuracy: 0.7241 - val_loss: 0.8245 - val_accuracy: 0.6617\n",
        "\n",
        "Epoch 95/100\n",
        "597/597 [==============================] - 12s 21ms/step - loss: 0.6759 - accuracy: 0.7200 - val_loss: 0.8311 - val_accuracy: 0.6457\n",
        "\n",
        "Epoch 96/100\n",
        "597/597 [==============================] - 13s 21ms/step - loss: 0.6640 - accuracy: 0.7290 - val_loss: 0.7873 - val_accuracy: 0.6700\n",
        "\n",
        "Epoch 97/100\n",
        "597/597 [==============================] - 12s 21ms/step - loss: 0.6671 - accuracy: 0.7277 - val_loss: 0.7934 - val_accuracy: 0.6724\n",
        "\n",
        "Epoch 98/100\n",
        "597/597 [==============================] - 12s 21ms/step - loss: 0.6756 - accuracy: 0.7239 - val_loss: 0.8200 - val_accuracy: 0.6641\n",
        "\n",
        "Epoch 99/100\n",
        "597/597 [==============================] - 12s 21ms/step - loss: 0.6682 - accuracy: 0.7254 - val_loss: 0.8059 - val_accuracy: 0.6635\n",
        "\n",
        "Epoch 100/100\n",
        "597/597 [==============================] - 12s 21ms/step - loss: 0.6702 - accuracy: 0.7225 - val_loss: 0.8010 - val_accuracy: 0.6605"
      ],
      "metadata": {
        "id": "FJzXxkrA9ive"
      }
    },
    {
      "cell_type": "code",
      "execution_count": null,
      "metadata": {
        "id": "WtCm3Qsp3yqN"
      },
      "outputs": [],
      "source": [
        "y_pred = model.predict(X_test)"
      ]
    },
    {
      "cell_type": "code",
      "execution_count": null,
      "metadata": {
        "colab": {
          "base_uri": "https://localhost:8080/",
          "height": 295
        },
        "id": "8zKrRSsW33mE",
        "outputId": "f10d7088-4af5-4a38-bad3-73376c0c2a1d"
      },
      "outputs": [
        {
          "data": {
            "image/png": "[encoded data removed]",
            "text/plain": [
              "<Figure size 432x288 with 2 Axes>"
            ]
          },
          "metadata": {},
          "output_type": "display_data"
        }
      ],
      "source": [
        "from sklearn.metrics import confusion_matrix\n",
        "labels = ['sad','happy','fear','angry','disgust','surprise']\n",
        "matrix = confusion_matrix(y_test.argmax(axis=1), y_pred.argmax(axis=1))\n",
        "\n",
        "\n",
        "import seaborn as sns\n",
        "import matplotlib.pyplot as plt     \n",
        "\n",
        "ax= plt.subplot()\n",
        "sns.heatmap(matrix, annot=True, fmt='g', ax=ax);  #annot=True to annotate cells, ftm='g' to disable scientific notation\n",
        "\n",
        "# labels, title and ticks\n",
        "ax.set_xlabel('Predicted labels');ax.set_ylabel('True labels'); \n",
        "ax.set_title('Confusion Matrix'); \n",
        "ax.xaxis.set_ticklabels(labels); ax.yaxis.set_ticklabels(labels);"
      ]
    },
    {
      "cell_type": "code",
      "execution_count": null,
      "metadata": {
        "id": "3cj1eoWitm7K"
      },
      "outputs": [],
      "source": [
        "import wave\n",
        "import contextlib\n",
        "\n",
        "def get_longest_duration(folder_path):\n",
        "  durations  = []\n",
        "\n",
        "  for audio_path in os.listdir(folder_path):\n",
        "    wav = folder_path+audio_path\n",
        "    with contextlib.closing(wave.open(wav,'r')) as f:\n",
        "        frames = f.getnframes()\n",
        "        rate = f.getframerate()\n",
        "        duration = frames / float(rate)\n",
        "        durations.append(duration)\n",
        "\n",
        "    return max(durations)"
      ]
    },
    {
      "cell_type": "code",
      "execution_count": null,
      "metadata": {
        "colab": {
          "base_uri": "https://localhost:8080/"
        },
        "id": "jExuJkoDuyKF",
        "outputId": "9817159c-ceda-4611-ebd7-2b131f5f5017"
      },
      "outputs": [
        {
          "data": {
            "text/plain": [
              "['JE_n09.wav', 'JE_su13.wav', 'JK_a06.wav', 'KL_su04.wav', 'JK_n28.wav']"
            ]
          },
          "execution_count": 65,
          "metadata": {},
          "output_type": "execute_result"
        }
      ],
      "source": [
        "TESS = \"/content/toronto/TESS Toronto emotional speech set data/\"\n",
        "RAV = \"/content/ravdess-emotional/ALL/\"\n",
        "SAVEE = \"/content/surrey-audiovisual/ALL/\"\n",
        "CREMA = \"/content/crema/AudioWAV/\"\n",
        "\n",
        "# Run one example \n",
        "dir_list = os.listdir(SAVEE)\n",
        "dir_list[0:5]"
      ]
    },
    {
      "cell_type": "code",
      "execution_count": null,
      "metadata": {
        "id": "Tst4439owb10"
      },
      "outputs": [],
      "source": [
        "max_duration_TESS = get_longest_duration(TESS)\n",
        "print('the max duration in TESS is:', max_duration_TESS)\n",
        "max_duration_RAV = get_longest_duration(RAV)\n",
        "print('the max duration in RAV is:', max_duration_RAV)\n",
        "max_duration_SAVEE = get_longest_duration(SAVEE)\n",
        "print('the max duration in SAVEE is:', max_duration_SAVEE)\n",
        "max_duration_CREMA = get_longest_duration(CREMA)\n",
        "print('the max duration in CREMA is:', max_duration_CREMA)"
      ]
    },
    {
      "cell_type": "code",
      "execution_count": null,
      "metadata": {
        "id": "HWr5zg9tzTFV"
      },
      "outputs": [],
      "source": [
        "from sklearn.metrics import confusion_matrix\n",
        "labels = ['sad','happy','fear','angry','neutral','disgust','surprise']\n",
        "matrix = confusion_matrix(y_test.argmax(axis=1), y_pred.argmax(axis=1))\n",
        "\n",
        "\n",
        "import seaborn as sns\n",
        "import matplotlib.pyplot as plt     \n",
        "\n",
        "ax= plt.subplot()\n",
        "sns.heatmap(matrix, annot=True, fmt='g', ax=ax);  #annot=True to annotate cells, ftm='g' to disable scientific notation\n",
        "\n",
        "# labels, title and ticks\n",
        "ax.set_xlabel('Predicted labels');ax.set_ylabel('True labels'); \n",
        "ax.set_title('Confusion Matrix'); \n",
        "ax.xaxis.set_ticklabels(labels); ax.yaxis.set_ticklabels(labels);"
      ]
    },
    {
      "cell_type": "markdown",
      "metadata": {
        "id": "N7kuPBwDCw_4"
      },
      "source": [
        "========================================================================"
      ]
    },
    {
      "cell_type": "markdown",
      "source": [
        "# --Useless 4th modeling"
      ],
      "metadata": {
        "id": "85oQEs5S-ULZ"
      }
    },
    {
      "cell_type": "code",
      "execution_count": null,
      "metadata": {
        "colab": {
          "base_uri": "https://localhost:8080/"
        },
        "id": "6SjKAskfCZOp",
        "outputId": "fb2916d5-628c-43ba-9621-a09b504981ec"
      },
      "outputs": [
        {
          "name": "stdout",
          "output_type": "stream",
          "text": [
            "Model: \"model_4\"\n",
            "_________________________________________________________________\n",
            " Layer (type)                Output Shape              Param #   \n",
            "=================================================================\n",
            " input_6 (InputLayer)        [(None, 23)]              0         \n",
            "                                                                 \n",
            " dense_31 (Dense)            (None, 128)               3072      \n",
            "                                                                 \n",
            " dense_32 (Dense)            (None, 128)               16512     \n",
            "                                                                 \n",
            " dense_33 (Dense)            (None, 64)                8256      \n",
            "                                                                 \n",
            " dense_34 (Dense)            (None, 64)                4160      \n",
            "                                                                 \n",
            " dense_35 (Dense)            (None, 64)                4160      \n",
            "                                                                 \n",
            " dense_36 (Dense)            (None, 6)                 390       \n",
            "                                                                 \n",
            "=================================================================\n",
            "Total params: 36,550\n",
            "Trainable params: 36,550\n",
            "Non-trainable params: 0\n",
            "_________________________________________________________________\n"
          ]
        }
      ],
      "source": [
        "#input_shape=(X_train.shape[1],1)\n",
        "from keras.layers import Input\n",
        "from keras.models import Model\n",
        "\n",
        "input_main = Input(shape = X_train.shape[1])\n",
        "x = Dense(128,activation = 'relu', kernel_regularizer = 'l2')(input_main)\n",
        "x = Dense(128,activation = 'relu', kernel_regularizer = 'l2')(x)\n",
        "x = Dense(64,activation = 'relu', kernel_regularizer = 'l2')(x)\n",
        "x = Dense(64,activation = 'relu', kernel_regularizer = 'l2')(x)\n",
        "x = Dense(64,activation = 'relu', kernel_regularizer = 'l2')(x)\n",
        "\n",
        "predictions = Dense(6,activation = 'softmax')(x)\n",
        "\n",
        "green_model = Model(inputs = [input_main],outputs = predictions)\n",
        "\n",
        "green_model.summary()"
      ]
    },
    {
      "cell_type": "code",
      "execution_count": null,
      "metadata": {
        "id": "Whk35mNiFHxj"
      },
      "outputs": [],
      "source": [
        "green_model.compile(loss='categorical_crossentropy', optimizer='ADAM',metrics=['accuracy'])\n",
        "model_history=green_model.fit(X_train, y_train, batch_size=16, epochs=100, validation_data=(X_test, y_test))"
      ]
    },
    {
      "cell_type": "markdown",
      "source": [
        "Epoch 89/100\n",
        "597/597 [==============================] - 2s 3ms/step - loss: 1.1056 - accuracy: 0.5758 - val_loss: 1.1462 - val_accuracy: 0.5430\n",
        "\n",
        "Epoch 90/100\n",
        "597/597 [==============================] - 2s 3ms/step - loss: 1.1216 - accuracy: 0.5698 - val_loss: 1.1329 - val_accuracy: 0.5543\n",
        "\n",
        "Epoch 91/100\n",
        "597/597 [==============================] - 2s 3ms/step - loss: 1.1231 - accuracy: 0.5739 - val_loss: 1.1455 - val_accuracy: 0.5519\n",
        "\n",
        "Epoch 92/100\n",
        "597/597 [==============================] - 2s 3ms/step - loss: 1.1241 - accuracy: 0.5678 - val_loss: 1.1879 - val_accuracy: 0.5282\n",
        "\n",
        "Epoch 93/100\n",
        "597/597 [==============================] - 2s 3ms/step - loss: 1.1314 - accuracy: 0.5674 - val_loss: 1.1501 - val_accuracy: 0.5460\n",
        "\n",
        "Epoch 94/100\n",
        "597/597 [==============================] - 2s 3ms/step - loss: 1.1234 - accuracy: 0.5657 - val_loss: 1.1350 - val_accuracy: 0.5567\n",
        "\n",
        "Epoch 95/100\n",
        "597/597 [==============================] - 2s 3ms/step - loss: 1.1183 - accuracy: 0.5695 - val_loss: 1.1777 - val_accuracy: 0.5282\n",
        "\n",
        "Epoch 96/100\n",
        "597/597 [==============================] - 2s 3ms/step - loss: 1.1141 - accuracy: 0.5720 - val_loss: 1.1616 - val_accuracy: 0.5478\n",
        "\n",
        "Epoch 97/100\n",
        "597/597 [==============================] - 2s 3ms/step - loss: 1.1115 - accuracy: 0.5722 - val_loss: 1.2446 - val_accuracy: 0.5134\n",
        "\n",
        "Epoch 98/100\n",
        "597/597 [==============================] - 2s 3ms/step - loss: 1.1157 - accuracy: 0.5731 - val_loss: 1.1976 - val_accuracy: 0.5294\n",
        "\n",
        "Epoch 99/100\n",
        "597/597 [==============================] - 2s 3ms/step - loss: 1.1183 - accuracy: 0.5693 - val_loss: 1.1619 - val_accuracy: 0.5436\n",
        "\n",
        "Epoch 100/100\n",
        "597/597 [==============================] - 2s 3ms/step - loss: 1.1081 - accuracy: 0.5769 - val_loss: 1.2554 - val_accuracy: 0.4914"
      ],
      "metadata": {
        "id": "bZQWh7VJ-IPN"
      }
    },
    {
      "cell_type": "markdown",
      "metadata": {
        "id": "6PMyPkR1MS3H"
      },
      "source": [
        "# Improvement by new data"
      ]
    },
    {
      "cell_type": "code",
      "execution_count": null,
      "metadata": {
        "colab": {
          "base_uri": "https://localhost:8080/"
        },
        "id": "E19WWVlpQuL7",
        "outputId": "dab3f50e-c077-4575-b166-5df002b21643"
      },
      "outputs": [
        {
          "name": "stdout",
          "output_type": "stream",
          "text": [
            "Looking in indexes: https://pypi.org/simple, https://us-python.pkg.dev/colab-wheels/public/simple/\n",
            "Collecting patool\n",
            "  Downloading patool-1.12-py2.py3-none-any.whl (77 kB)\n",
            "\u001b[K     |████████████████████████████████| 77 kB 2.4 MB/s \n",
            "\u001b[?25hInstalling collected packages: patool\n",
            "Successfully installed patool-1.12\n"
          ]
        }
      ],
      "source": [
        "! pip install patool"
      ]
    },
    {
      "cell_type": "code",
      "execution_count": null,
      "metadata": {
        "id": "uiFq_ZTIMbq8"
      },
      "outputs": [],
      "source": [
        "import shutil\n",
        "shutil.rmtree('/content/downloads')"
      ]
    },
    {
      "cell_type": "markdown",
      "metadata": {
        "id": "FNv2gS7BXfuG"
      },
      "source": [
        "### Imports"
      ]
    },
    {
      "cell_type": "code",
      "execution_count": null,
      "metadata": {
        "id": "JLKLXk_RQrzO"
      },
      "outputs": [],
      "source": [
        "import pathlib\n",
        "import pandas as pd\n",
        "import shutil\n",
        "import hashlib\n",
        "import requests\n",
        "from urllib.parse import urlparse\n",
        "from os import path, mkdir\n",
        "import time\n",
        "import pandas as pd\n",
        "import patoolib\n",
        "import librosa\n",
        "import soundfile as sf\n",
        "import os\n",
        "import glob\n",
        "import shutil\n",
        "import hashlib\n",
        "import requests\n",
        "from urllib.parse import urlparse\n",
        "from os import path, mkdir\n",
        "if not path.exists(\"/root/.ipython/ocr.py\"): \n",
        "    from subprocess import run\n",
        "    from shlex import split\n",
        "\n",
        "    shellCmd = \"wget -qq https://raw.githubusercontent.com/biplobsd/\" \\\n",
        "                \"OneClickRun/master/res/ocr.py \\\n",
        "                    -O /root/.ipython/ocr.py\"\n",
        "    run(split(shellCmd))\n",
        "from ocr import runSh"
      ]
    },
    {
      "cell_type": "markdown",
      "metadata": {
        "id": "D8EWzFsiYRxc"
      },
      "source": [
        "### Data Preparation"
      ]
    },
    {
      "cell_type": "code",
      "execution_count": null,
      "metadata": {
        "id": "c9K6sqxEXnE7"
      },
      "outputs": [],
      "source": [
        "urls = ['https://www.openslr.org/resources/115/bea_Angry.tar.gz','https://www.openslr.org/resources/115/bea_Amused.tar.gz','https://www.openslr.org/resources/115/bea_Disgusted.tar.gz','https://www.openslr.org/resources/115/bea_Neutral.tar.gz',\n",
        " 'https://www.openslr.org/resources/115/bea_Sleepy.tar.gz','https://www.openslr.org/resources/115/jenie_Amused.tar.gz','https://www.openslr.org/resources/115/jenie_Angry.tar.gz','https://www.openslr.org/resources/115/jenie_Disgusted.tar.gz',\n",
        " 'https://www.openslr.org/resources/115/jenie_Neutral.tar.gz','https://www.openslr.org/resources/115/jenie_Sleepy.tar.gz','https://www.openslr.org/resources/115/josh_Amused.tar.gz','https://www.openslr.org/resources/115/josh_Neutral.tar.gz',\n",
        " 'https://www.openslr.org/resources/115/josh_Sleepy.tar.gz','https://www.openslr.org/resources/115/sam_Amused.tar.gz','https://www.openslr.org/resources/115/sam_Angry.tar.gz','https://www.openslr.org/resources/115/sam_Disgusted.tar.gz',\n",
        " 'https://www.openslr.org/resources/115/sam_Neutral.tar.gz','https://www.openslr.org/resources/115/sam_Sleepy.tar.gz']"
      ]
    },
    {
      "cell_type": "code",
      "execution_count": null,
      "metadata": {
        "id": "ys1vTlUgXoHS"
      },
      "outputs": [],
      "source": [
        "labels = []\n",
        "audios_path = []"
      ]
    },
    {
      "cell_type": "markdown",
      "metadata": {
        "id": "FNxxXgqAXvEL"
      },
      "source": [
        "### Function of Calling & Rewriting and DF creation of each url"
      ]
    },
    {
      "cell_type": "code",
      "execution_count": null,
      "metadata": {
        "id": "HDEaY3SoX27M"
      },
      "outputs": [],
      "source": [
        "def download_from_url(url):\n",
        "\n",
        "  URL = url #@param {type:\"string\"}\n",
        "  #@markdown <center><h5>Default output path: /content/downloads/</h5></center>\n",
        "  #@markdown <center><h5>For Google Drive output path: /content/drive/My Drive/</h5></center>\n",
        "  OUTPUT_PATH = \"\" #@param {type:\"string\"}\n",
        "\n",
        "\n",
        "  if not path.exists(\"/root/.ipython/ocr.py\"): \n",
        "      from subprocess import run\n",
        "      from shlex import split\n",
        "\n",
        "      shellCmd = \"wget -qq https://raw.githubusercontent.com/biplobsd/\" \\\n",
        "                  \"OneClickRun/master/res/ocr.py \\\n",
        "                      -O /root/.ipython/ocr.py\"\n",
        "      run(split(shellCmd))\n",
        "\n",
        "\n",
        "  def youtubedlInstall():\n",
        "    if not path.isfile(\"/usr/local/bin/youtube-dl\"):\n",
        "      cmdC = \"rm -rf /content/sample_data/ && \" \\\n",
        "              \" mkdir -p -m 666 /root/.YouTube-DL/ &&\" \\\n",
        "              \" apt-get install atomicparsley &&\" \\\n",
        "              \" curl -L https://yt-dl.org/downloads/latest/youtube-dl \" \\\n",
        "              \"-o /usr/local/bin/youtube-dl &&\" \\\n",
        "              \" chmod a+rx /usr/local/bin/youtube-dl\"\n",
        "      get_ipython().system_raw(cmdC)\n",
        "\n",
        "  def aria2Install():\n",
        "    runSh('apt install -y aria2')\n",
        "\n",
        "  def istmd(URL): \n",
        "    link = urlparse(URL)\n",
        "      \n",
        "    #YandexDisk\n",
        "    if link.netloc == \"yadi.sk\":\n",
        "      API_ENDPOINT = 'https://cloud-api.yandex.net/v1/disk/public/resources/' \\\n",
        "                      '?public_key={}&path=/{}&offset={}'\n",
        "      dry = False\n",
        "      def md5sum(file_path):\n",
        "          md5 = hashlib.md5()\n",
        "          with open(file_path, 'rb') as f:\n",
        "              for chunk in iter(lambda: f.read(128 * md5.block_size), b''):\n",
        "                  md5.update(chunk)\n",
        "          return md5.hexdigest()\n",
        "\n",
        "\n",
        "      def check_and_download_file(target_path, url, size, checksum):\n",
        "          if path.isfile(target_path):\n",
        "              if size == path.getsize(target_path):\n",
        "                  if checksum == md5sum(target_path):\n",
        "                      print('URL {}'.format(url))\n",
        "                      print('skipping correct {}'.format(target_path))\n",
        "                      return\n",
        "          if not dry:\n",
        "              print('URL {}'.format(url))\n",
        "              print('downloading {}'.format(target_path))\n",
        "              runSh(f'aria2c -x 16 -s 16 -k 1M -d {OUTPUT_PATH} {url}', output=True)\n",
        "              # r = requests.get(url, stream=True)\n",
        "              # with open(target_path, 'wb') as f:\n",
        "              #     shutil.copyfileobj(r.raw, f)\n",
        "\n",
        "\n",
        "      def download_path(target_path, public_key, source_path, offset=0):\n",
        "          print('getting \"{}\" at offset {}'.format(source_path, offset))\n",
        "          current_path = path.join(target_path, source_path)\n",
        "          pathlib.Path(current_path).mkdir(parents=True, exist_ok=True)\n",
        "          jsn = requests.get(API_ENDPOINT.format(public_key, source_path, offset)).json()\n",
        "          def try_as_file(j):\n",
        "              if 'file' in j:\n",
        "                  file_save_path = path.join(current_path, j['name'])\n",
        "                  check_and_download_file(file_save_path, j['file'], j['size'], j['md5'])\n",
        "                  return True\n",
        "              return False\n",
        "\n",
        "          # first try to treat the actual json as a single file description\n",
        "          if try_as_file(jsn):\n",
        "              return\n",
        "\n",
        "          # otherwise treat it as a directory\n",
        "          emb = jsn['_embedded']\n",
        "          items = emb['items']\n",
        "          for i in items:\n",
        "              # each item can be a file...\n",
        "              if try_as_file(i):\n",
        "                  continue\n",
        "              # ... or a directory\n",
        "              else:\n",
        "                  subdir_path = path.join(source_path, i['name'])\n",
        "                  download_path(target_path, public_key, subdir_path)\n",
        "\n",
        "          # check if current directory has more items\n",
        "          last = offset + emb['limit']\n",
        "          if last < emb['total']:\n",
        "              download_path(target_path, public_key, source_path, last)\n",
        "      download_path(OUTPUT_PATH, URL, '')\n",
        "      return False  \n",
        "    return URL\n",
        "\n",
        "  if not OUTPUT_PATH:\n",
        "    OUTPUT_PATH = \"/content/downloads/unpack/\"\n",
        "    \n",
        "  if not URL == \"\":\n",
        "    aria2Install()\n",
        "    youtubedlInstall()\n",
        "    try:\n",
        "      os.chdir('/content')\n",
        "      mkdir(\"downloads\")\n",
        "    except FileExistsError:\n",
        "      pass\n",
        "    os.chdir('/content/downloads/')\n",
        "\n",
        "    try:\n",
        "      mkdir(\"unpack\")\n",
        "    except FileExistsError:\n",
        "      pass\n",
        "\n",
        "    url = istmd(URL)\n",
        "    if url != False:\n",
        "      print('URL {}'.format(URL))\n",
        "      cmdC = f'youtube-dl -o \"{OUTPUT_PATH}/%(title)s\" {URL} ' \\\n",
        "              '--external-downloader aria2c ' \\\n",
        "              '--external-downloader-args \"-x 16 -s 16 -k 1M\"'\n",
        "      runSh(cmdC, output=True)\n",
        "  else:\n",
        "    print(\"Please input url\")\n",
        "\n",
        "  last_tar_file_name = URL.split('/')[-1].split('.gz')[0]\n",
        "\n",
        "  print(last_tar_file_name)\n",
        "\n",
        "\n",
        "  os.chdir('/content/downloads/')\n",
        "  try:\n",
        "      mkdir(\"extracted\")\n",
        "  except FileExistsError:\n",
        "      pass\n",
        "\n",
        "  mkdir(f'/content/downloads/extracted/{last_tar_file_name}')\n",
        "\n",
        "  patoolib.extract_archive(f\"/content/downloads/unpack/{last_tar_file_name}\",outdir=f'/content/downloads/extracted/{last_tar_file_name}')\n",
        "\n",
        "  # Construct old file name\n",
        "  source = os.listdir(f'/content/downloads/extracted/{last_tar_file_name}')\n",
        "  #labels = \n",
        "  print(source)\n",
        "\n",
        "  \n",
        "\n",
        "  # Renaming the file\n",
        "\n",
        "  #Fixing the RIFF Bug\n",
        "  for audio_name in source:\n",
        "    destination = f'/content/downloads/extracted/{last_tar_file_name}/{audio_name}'\n",
        "    audio , sample_rate = librosa.load(f'/content/downloads/extracted/{last_tar_file_name}/{audio_name}') \n",
        "    sf.write(destination, audio, sample_rate)\n",
        "  \n",
        "  global audios_path\n",
        "  audios_path = [f'/content/downloads/extracted/{last_tar_file_name}/{audio_name}' for audio_name in source]\n",
        "  global labels\n",
        "  labels = [URL.split('/')[-1].split('.tar')[0].split('_')[-1].lower() for i in source]\n",
        "\n",
        "  #df = pd.DataFrame(audios_path,labels )\n",
        "  df_url = pd.DataFrame()\n",
        "  df_url['path'] = audios_path\n",
        "  df_url['labels'] = labels\n",
        "\n",
        "  #df.columns =['labels', 'path']\n",
        "  \n",
        "  return df_url"
      ]
    },
    {
      "cell_type": "markdown",
      "metadata": {
        "id": "ShZAADhAYYWt"
      },
      "source": [
        "### Concatenating all OpenSLR data"
      ]
    },
    {
      "cell_type": "code",
      "execution_count": null,
      "metadata": {
        "id": "b7RltAfcX8R_"
      },
      "outputs": [],
      "source": [
        "counter = 0\n",
        "df_SLR = pd.DataFrame()\n",
        "for url in urls:\n",
        "  df_each = download_from_url(url)\n",
        "  #df.head()\n",
        "  df_SLR = pd.concat([df_SLR, df_each],ignore_index = True, axis = 0)\n",
        "  # if counter == 1:\n",
        "  #   break\n",
        "  # counter += 1"
      ]
    },
    {
      "cell_type": "code",
      "execution_count": null,
      "metadata": {
        "colab": {
          "base_uri": "https://localhost:8080/",
          "height": 206
        },
        "id": "FMNLKxTuYAXJ",
        "outputId": "b66f83d9-4573-4e6f-a4f2-662836f24f29"
      },
      "outputs": [
        {
          "data": {
            "text/html": [
              "\n",
              "  <div id=\"df-7867be01-ab2a-4731-871f-25d511fdd627\">\n",
              "    <div class=\"colab-df-container\">\n",
              "      <div>\n",
              "<style scoped>\n",
              "    .dataframe tbody tr th:only-of-type {\n",
              "        vertical-align: middle;\n",
              "    }\n",
              "\n",
              "    .dataframe tbody tr th {\n",
              "        vertical-align: top;\n",
              "    }\n",
              "\n",
              "    .dataframe thead th {\n",
              "        text-align: right;\n",
              "    }\n",
              "</style>\n",
              "<table border=\"1\" class=\"dataframe\">\n",
              "  <thead>\n",
              "    <tr style=\"text-align: right;\">\n",
              "      <th></th>\n",
              "      <th>path</th>\n",
              "      <th>labels</th>\n",
              "    </tr>\n",
              "  </thead>\n",
              "  <tbody>\n",
              "    <tr>\n",
              "      <th>0</th>\n",
              "      <td>/content/downloads/extracted/bea_Angry.tar/ang...</td>\n",
              "      <td>angry</td>\n",
              "    </tr>\n",
              "    <tr>\n",
              "      <th>1</th>\n",
              "      <td>/content/downloads/extracted/bea_Angry.tar/ang...</td>\n",
              "      <td>angry</td>\n",
              "    </tr>\n",
              "    <tr>\n",
              "      <th>2</th>\n",
              "      <td>/content/downloads/extracted/bea_Angry.tar/ang...</td>\n",
              "      <td>angry</td>\n",
              "    </tr>\n",
              "    <tr>\n",
              "      <th>3</th>\n",
              "      <td>/content/downloads/extracted/bea_Angry.tar/ang...</td>\n",
              "      <td>angry</td>\n",
              "    </tr>\n",
              "    <tr>\n",
              "      <th>4</th>\n",
              "      <td>/content/downloads/extracted/bea_Angry.tar/ang...</td>\n",
              "      <td>angry</td>\n",
              "    </tr>\n",
              "  </tbody>\n",
              "</table>\n",
              "</div>\n",
              "      <button class=\"colab-df-convert\" onclick=\"convertToInteractive('df-7867be01-ab2a-4731-871f-25d511fdd627')\"\n",
              "              title=\"Convert this dataframe to an interactive table.\"\n",
              "              style=\"display:none;\">\n",
              "        \n",
              "  <svg xmlns=\"http://www.w3.org/2000/svg\" height=\"24px\"viewBox=\"0 0 24 24\"\n",
              "       width=\"24px\">\n",
              "    <path d=\"M0 0h24v24H0V0z\" fill=\"none\"/>\n",
              "    <path d=\"M18.56 5.44l.94 2.06.94-2.06 2.06-.94-2.06-.94-.94-2.06-.94 2.06-2.06.94zm-11 1L8.5 8.5l.94-2.06 2.06-.94-2.06-.94L8.5 2.5l-.94 2.06-2.06.94zm10 10l.94 2.06.94-2.06 2.06-.94-2.06-.94-.94-2.06-.94 2.06-2.06.94z\"/><path d=\"M17.41 7.96l-1.37-1.37c-.4-.4-.92-.59-1.43-.59-.52 0-1.04.2-1.43.59L10.3 9.45l-7.72 7.72c-.78.78-.78 2.05 0 2.83L4 21.41c.39.39.9.59 1.41.59.51 0 1.02-.2 1.41-.59l7.78-7.78 2.81-2.81c.8-.78.8-2.07 0-2.86zM5.41 20L4 18.59l7.72-7.72 1.47 1.35L5.41 20z\"/>\n",
              "  </svg>\n",
              "      </button>\n",
              "      \n",
              "  <style>\n",
              "    .colab-df-container {\n",
              "      display:flex;\n",
              "      flex-wrap:wrap;\n",
              "      gap: 12px;\n",
              "    }\n",
              "\n",
              "    .colab-df-convert {\n",
              "      background-color: #E8F0FE;\n",
              "      border: none;\n",
              "      border-radius: 50%;\n",
              "      cursor: pointer;\n",
              "      display: none;\n",
              "      fill: #1967D2;\n",
              "      height: 32px;\n",
              "      padding: 0 0 0 0;\n",
              "      width: 32px;\n",
              "    }\n",
              "\n",
              "    .colab-df-convert:hover {\n",
              "      background-color: #E2EBFA;\n",
              "      box-shadow: 0px 1px 2px rgba(60, 64, 67, 0.3), 0px 1px 3px 1px rgba(60, 64, 67, 0.15);\n",
              "      fill: #174EA6;\n",
              "    }\n",
              "\n",
              "    [theme=dark] .colab-df-convert {\n",
              "      background-color: #3B4455;\n",
              "      fill: #D2E3FC;\n",
              "    }\n",
              "\n",
              "    [theme=dark] .colab-df-convert:hover {\n",
              "      background-color: #434B5C;\n",
              "      box-shadow: 0px 1px 3px 1px rgba(0, 0, 0, 0.15);\n",
              "      filter: drop-shadow(0px 1px 2px rgba(0, 0, 0, 0.3));\n",
              "      fill: #FFFFFF;\n",
              "    }\n",
              "  </style>\n",
              "\n",
              "      <script>\n",
              "        const buttonEl =\n",
              "          document.querySelector('#df-7867be01-ab2a-4731-871f-25d511fdd627 button.colab-df-convert');\n",
              "        buttonEl.style.display =\n",
              "          google.colab.kernel.accessAllowed ? 'block' : 'none';\n",
              "\n",
              "        async function convertToInteractive(key) {\n",
              "          const element = document.querySelector('#df-7867be01-ab2a-4731-871f-25d511fdd627');\n",
              "          const dataTable =\n",
              "            await google.colab.kernel.invokeFunction('convertToInteractive',\n",
              "                                                     [key], {});\n",
              "          if (!dataTable) return;\n",
              "\n",
              "          const docLinkHtml = 'Like what you see? Visit the ' +\n",
              "            '<a target=\"_blank\" href=https://colab.research.google.com/notebooks/data_table.ipynb>data table notebook</a>'\n",
              "            + ' to learn more about interactive tables.';\n",
              "          element.innerHTML = '';\n",
              "          dataTable['output_type'] = 'display_data';\n",
              "          await google.colab.output.renderOutput(dataTable, element);\n",
              "          const docLink = document.createElement('div');\n",
              "          docLink.innerHTML = docLinkHtml;\n",
              "          element.appendChild(docLink);\n",
              "        }\n",
              "      </script>\n",
              "    </div>\n",
              "  </div>\n",
              "  "
            ],
            "text/plain": [
              "                                                path labels\n",
              "0  /content/downloads/extracted/bea_Angry.tar/ang...  angry\n",
              "1  /content/downloads/extracted/bea_Angry.tar/ang...  angry\n",
              "2  /content/downloads/extracted/bea_Angry.tar/ang...  angry\n",
              "3  /content/downloads/extracted/bea_Angry.tar/ang...  angry\n",
              "4  /content/downloads/extracted/bea_Angry.tar/ang...  angry"
            ]
          },
          "execution_count": 49,
          "metadata": {},
          "output_type": "execute_result"
        }
      ],
      "source": [
        "df_SLR.head()"
      ]
    },
    {
      "cell_type": "code",
      "execution_count": null,
      "metadata": {
        "colab": {
          "base_uri": "https://localhost:8080/",
          "height": 206
        },
        "id": "NDLNw9WAe3rP",
        "outputId": "4693a300-3a6e-40b4-ee5d-deaee14c06a9"
      },
      "outputs": [
        {
          "data": {
            "text/html": [
              "\n",
              "  <div id=\"df-21115664-e629-4941-8139-ca49a16d5536\">\n",
              "    <div class=\"colab-df-container\">\n",
              "      <div>\n",
              "<style scoped>\n",
              "    .dataframe tbody tr th:only-of-type {\n",
              "        vertical-align: middle;\n",
              "    }\n",
              "\n",
              "    .dataframe tbody tr th {\n",
              "        vertical-align: top;\n",
              "    }\n",
              "\n",
              "    .dataframe thead th {\n",
              "        text-align: right;\n",
              "    }\n",
              "</style>\n",
              "<table border=\"1\" class=\"dataframe\">\n",
              "  <thead>\n",
              "    <tr style=\"text-align: right;\">\n",
              "      <th></th>\n",
              "      <th>path</th>\n",
              "      <th>labels</th>\n",
              "    </tr>\n",
              "  </thead>\n",
              "  <tbody>\n",
              "    <tr>\n",
              "      <th>6888</th>\n",
              "      <td>/content/downloads/extracted/sam_Sleepy.tar/sl...</td>\n",
              "      <td>sleepy</td>\n",
              "    </tr>\n",
              "    <tr>\n",
              "      <th>6889</th>\n",
              "      <td>/content/downloads/extracted/sam_Sleepy.tar/sl...</td>\n",
              "      <td>sleepy</td>\n",
              "    </tr>\n",
              "    <tr>\n",
              "      <th>6890</th>\n",
              "      <td>/content/downloads/extracted/sam_Sleepy.tar/sl...</td>\n",
              "      <td>sleepy</td>\n",
              "    </tr>\n",
              "    <tr>\n",
              "      <th>6891</th>\n",
              "      <td>/content/downloads/extracted/sam_Sleepy.tar/sl...</td>\n",
              "      <td>sleepy</td>\n",
              "    </tr>\n",
              "    <tr>\n",
              "      <th>6892</th>\n",
              "      <td>/content/downloads/extracted/sam_Sleepy.tar/sl...</td>\n",
              "      <td>sleepy</td>\n",
              "    </tr>\n",
              "  </tbody>\n",
              "</table>\n",
              "</div>\n",
              "      <button class=\"colab-df-convert\" onclick=\"convertToInteractive('df-21115664-e629-4941-8139-ca49a16d5536')\"\n",
              "              title=\"Convert this dataframe to an interactive table.\"\n",
              "              style=\"display:none;\">\n",
              "        \n",
              "  <svg xmlns=\"http://www.w3.org/2000/svg\" height=\"24px\"viewBox=\"0 0 24 24\"\n",
              "       width=\"24px\">\n",
              "    <path d=\"M0 0h24v24H0V0z\" fill=\"none\"/>\n",
              "    <path d=\"M18.56 5.44l.94 2.06.94-2.06 2.06-.94-2.06-.94-.94-2.06-.94 2.06-2.06.94zm-11 1L8.5 8.5l.94-2.06 2.06-.94-2.06-.94L8.5 2.5l-.94 2.06-2.06.94zm10 10l.94 2.06.94-2.06 2.06-.94-2.06-.94-.94-2.06-.94 2.06-2.06.94z\"/><path d=\"M17.41 7.96l-1.37-1.37c-.4-.4-.92-.59-1.43-.59-.52 0-1.04.2-1.43.59L10.3 9.45l-7.72 7.72c-.78.78-.78 2.05 0 2.83L4 21.41c.39.39.9.59 1.41.59.51 0 1.02-.2 1.41-.59l7.78-7.78 2.81-2.81c.8-.78.8-2.07 0-2.86zM5.41 20L4 18.59l7.72-7.72 1.47 1.35L5.41 20z\"/>\n",
              "  </svg>\n",
              "      </button>\n",
              "      \n",
              "  <style>\n",
              "    .colab-df-container {\n",
              "      display:flex;\n",
              "      flex-wrap:wrap;\n",
              "      gap: 12px;\n",
              "    }\n",
              "\n",
              "    .colab-df-convert {\n",
              "      background-color: #E8F0FE;\n",
              "      border: none;\n",
              "      border-radius: 50%;\n",
              "      cursor: pointer;\n",
              "      display: none;\n",
              "      fill: #1967D2;\n",
              "      height: 32px;\n",
              "      padding: 0 0 0 0;\n",
              "      width: 32px;\n",
              "    }\n",
              "\n",
              "    .colab-df-convert:hover {\n",
              "      background-color: #E2EBFA;\n",
              "      box-shadow: 0px 1px 2px rgba(60, 64, 67, 0.3), 0px 1px 3px 1px rgba(60, 64, 67, 0.15);\n",
              "      fill: #174EA6;\n",
              "    }\n",
              "\n",
              "    [theme=dark] .colab-df-convert {\n",
              "      background-color: #3B4455;\n",
              "      fill: #D2E3FC;\n",
              "    }\n",
              "\n",
              "    [theme=dark] .colab-df-convert:hover {\n",
              "      background-color: #434B5C;\n",
              "      box-shadow: 0px 1px 3px 1px rgba(0, 0, 0, 0.15);\n",
              "      filter: drop-shadow(0px 1px 2px rgba(0, 0, 0, 0.3));\n",
              "      fill: #FFFFFF;\n",
              "    }\n",
              "  </style>\n",
              "\n",
              "      <script>\n",
              "        const buttonEl =\n",
              "          document.querySelector('#df-21115664-e629-4941-8139-ca49a16d5536 button.colab-df-convert');\n",
              "        buttonEl.style.display =\n",
              "          google.colab.kernel.accessAllowed ? 'block' : 'none';\n",
              "\n",
              "        async function convertToInteractive(key) {\n",
              "          const element = document.querySelector('#df-21115664-e629-4941-8139-ca49a16d5536');\n",
              "          const dataTable =\n",
              "            await google.colab.kernel.invokeFunction('convertToInteractive',\n",
              "                                                     [key], {});\n",
              "          if (!dataTable) return;\n",
              "\n",
              "          const docLinkHtml = 'Like what you see? Visit the ' +\n",
              "            '<a target=\"_blank\" href=https://colab.research.google.com/notebooks/data_table.ipynb>data table notebook</a>'\n",
              "            + ' to learn more about interactive tables.';\n",
              "          element.innerHTML = '';\n",
              "          dataTable['output_type'] = 'display_data';\n",
              "          await google.colab.output.renderOutput(dataTable, element);\n",
              "          const docLink = document.createElement('div');\n",
              "          docLink.innerHTML = docLinkHtml;\n",
              "          element.appendChild(docLink);\n",
              "        }\n",
              "      </script>\n",
              "    </div>\n",
              "  </div>\n",
              "  "
            ],
            "text/plain": [
              "                                                   path  labels\n",
              "6888  /content/downloads/extracted/sam_Sleepy.tar/sl...  sleepy\n",
              "6889  /content/downloads/extracted/sam_Sleepy.tar/sl...  sleepy\n",
              "6890  /content/downloads/extracted/sam_Sleepy.tar/sl...  sleepy\n",
              "6891  /content/downloads/extracted/sam_Sleepy.tar/sl...  sleepy\n",
              "6892  /content/downloads/extracted/sam_Sleepy.tar/sl...  sleepy"
            ]
          },
          "execution_count": 50,
          "metadata": {},
          "output_type": "execute_result"
        }
      ],
      "source": [
        "df_SLR.tail()"
      ]
    },
    {
      "cell_type": "code",
      "execution_count": null,
      "metadata": {
        "id": "cVmSY3cMfX6j"
      },
      "outputs": [],
      "source": [
        "# adding the source column to the df_SLR\n",
        "df_SLR['source'] = [\"SLR\" for i in range(df_SLR.shape[0])]"
      ]
    },
    {
      "cell_type": "markdown",
      "metadata": {
        "id": "zeDalseDjXMh"
      },
      "source": [
        "### concat df (old) and df_SLR + renaming labels"
      ]
    },
    {
      "cell_type": "code",
      "execution_count": null,
      "metadata": {
        "colab": {
          "base_uri": "https://localhost:8080/",
          "height": 206
        },
        "id": "on0TTIDPfiPu",
        "outputId": "8d96a3d0-128e-4078-d88c-8f66188d9b61"
      },
      "outputs": [
        {
          "data": {
            "text/html": [
              "\n",
              "  <div id=\"df-6f735015-245b-42eb-8d99-bc7de2a2cce2\">\n",
              "    <div class=\"colab-df-container\">\n",
              "      <div>\n",
              "<style scoped>\n",
              "    .dataframe tbody tr th:only-of-type {\n",
              "        vertical-align: middle;\n",
              "    }\n",
              "\n",
              "    .dataframe tbody tr th {\n",
              "        vertical-align: top;\n",
              "    }\n",
              "\n",
              "    .dataframe thead th {\n",
              "        text-align: right;\n",
              "    }\n",
              "</style>\n",
              "<table border=\"1\" class=\"dataframe\">\n",
              "  <thead>\n",
              "    <tr style=\"text-align: right;\">\n",
              "      <th></th>\n",
              "      <th>labels</th>\n",
              "      <th>source</th>\n",
              "      <th>path</th>\n",
              "    </tr>\n",
              "  </thead>\n",
              "  <tbody>\n",
              "    <tr>\n",
              "      <th>0</th>\n",
              "      <td>angry</td>\n",
              "      <td>SAVEE</td>\n",
              "      <td>/content/surrey-audiovisual/ALL/JK_a02.wav</td>\n",
              "    </tr>\n",
              "    <tr>\n",
              "      <th>1</th>\n",
              "      <td>neutral</td>\n",
              "      <td>SAVEE</td>\n",
              "      <td>/content/surrey-audiovisual/ALL/JK_n23.wav</td>\n",
              "    </tr>\n",
              "    <tr>\n",
              "      <th>2</th>\n",
              "      <td>happy</td>\n",
              "      <td>SAVEE</td>\n",
              "      <td>/content/surrey-audiovisual/ALL/KL_h12.wav</td>\n",
              "    </tr>\n",
              "    <tr>\n",
              "      <th>3</th>\n",
              "      <td>fear</td>\n",
              "      <td>SAVEE</td>\n",
              "      <td>/content/surrey-audiovisual/ALL/JK_f02.wav</td>\n",
              "    </tr>\n",
              "    <tr>\n",
              "      <th>4</th>\n",
              "      <td>surprise</td>\n",
              "      <td>SAVEE</td>\n",
              "      <td>/content/surrey-audiovisual/ALL/JK_su06.wav</td>\n",
              "    </tr>\n",
              "  </tbody>\n",
              "</table>\n",
              "</div>\n",
              "      <button class=\"colab-df-convert\" onclick=\"convertToInteractive('df-6f735015-245b-42eb-8d99-bc7de2a2cce2')\"\n",
              "              title=\"Convert this dataframe to an interactive table.\"\n",
              "              style=\"display:none;\">\n",
              "        \n",
              "  <svg xmlns=\"http://www.w3.org/2000/svg\" height=\"24px\"viewBox=\"0 0 24 24\"\n",
              "       width=\"24px\">\n",
              "    <path d=\"M0 0h24v24H0V0z\" fill=\"none\"/>\n",
              "    <path d=\"M18.56 5.44l.94 2.06.94-2.06 2.06-.94-2.06-.94-.94-2.06-.94 2.06-2.06.94zm-11 1L8.5 8.5l.94-2.06 2.06-.94-2.06-.94L8.5 2.5l-.94 2.06-2.06.94zm10 10l.94 2.06.94-2.06 2.06-.94-2.06-.94-.94-2.06-.94 2.06-2.06.94z\"/><path d=\"M17.41 7.96l-1.37-1.37c-.4-.4-.92-.59-1.43-.59-.52 0-1.04.2-1.43.59L10.3 9.45l-7.72 7.72c-.78.78-.78 2.05 0 2.83L4 21.41c.39.39.9.59 1.41.59.51 0 1.02-.2 1.41-.59l7.78-7.78 2.81-2.81c.8-.78.8-2.07 0-2.86zM5.41 20L4 18.59l7.72-7.72 1.47 1.35L5.41 20z\"/>\n",
              "  </svg>\n",
              "      </button>\n",
              "      \n",
              "  <style>\n",
              "    .colab-df-container {\n",
              "      display:flex;\n",
              "      flex-wrap:wrap;\n",
              "      gap: 12px;\n",
              "    }\n",
              "\n",
              "    .colab-df-convert {\n",
              "      background-color: #E8F0FE;\n",
              "      border: none;\n",
              "      border-radius: 50%;\n",
              "      cursor: pointer;\n",
              "      display: none;\n",
              "      fill: #1967D2;\n",
              "      height: 32px;\n",
              "      padding: 0 0 0 0;\n",
              "      width: 32px;\n",
              "    }\n",
              "\n",
              "    .colab-df-convert:hover {\n",
              "      background-color: #E2EBFA;\n",
              "      box-shadow: 0px 1px 2px rgba(60, 64, 67, 0.3), 0px 1px 3px 1px rgba(60, 64, 67, 0.15);\n",
              "      fill: #174EA6;\n",
              "    }\n",
              "\n",
              "    [theme=dark] .colab-df-convert {\n",
              "      background-color: #3B4455;\n",
              "      fill: #D2E3FC;\n",
              "    }\n",
              "\n",
              "    [theme=dark] .colab-df-convert:hover {\n",
              "      background-color: #434B5C;\n",
              "      box-shadow: 0px 1px 3px 1px rgba(0, 0, 0, 0.15);\n",
              "      filter: drop-shadow(0px 1px 2px rgba(0, 0, 0, 0.3));\n",
              "      fill: #FFFFFF;\n",
              "    }\n",
              "  </style>\n",
              "\n",
              "      <script>\n",
              "        const buttonEl =\n",
              "          document.querySelector('#df-6f735015-245b-42eb-8d99-bc7de2a2cce2 button.colab-df-convert');\n",
              "        buttonEl.style.display =\n",
              "          google.colab.kernel.accessAllowed ? 'block' : 'none';\n",
              "\n",
              "        async function convertToInteractive(key) {\n",
              "          const element = document.querySelector('#df-6f735015-245b-42eb-8d99-bc7de2a2cce2');\n",
              "          const dataTable =\n",
              "            await google.colab.kernel.invokeFunction('convertToInteractive',\n",
              "                                                     [key], {});\n",
              "          if (!dataTable) return;\n",
              "\n",
              "          const docLinkHtml = 'Like what you see? Visit the ' +\n",
              "            '<a target=\"_blank\" href=https://colab.research.google.com/notebooks/data_table.ipynb>data table notebook</a>'\n",
              "            + ' to learn more about interactive tables.';\n",
              "          element.innerHTML = '';\n",
              "          dataTable['output_type'] = 'display_data';\n",
              "          await google.colab.output.renderOutput(dataTable, element);\n",
              "          const docLink = document.createElement('div');\n",
              "          docLink.innerHTML = docLinkHtml;\n",
              "          element.appendChild(docLink);\n",
              "        }\n",
              "      </script>\n",
              "    </div>\n",
              "  </div>\n",
              "  "
            ],
            "text/plain": [
              "     labels source                                         path\n",
              "0     angry  SAVEE   /content/surrey-audiovisual/ALL/JK_a02.wav\n",
              "1   neutral  SAVEE   /content/surrey-audiovisual/ALL/JK_n23.wav\n",
              "2     happy  SAVEE   /content/surrey-audiovisual/ALL/KL_h12.wav\n",
              "3      fear  SAVEE   /content/surrey-audiovisual/ALL/JK_f02.wav\n",
              "4  surprise  SAVEE  /content/surrey-audiovisual/ALL/JK_su06.wav"
            ]
          },
          "execution_count": 52,
          "metadata": {},
          "output_type": "execute_result"
        }
      ],
      "source": [
        "df.head()"
      ]
    },
    {
      "cell_type": "code",
      "execution_count": null,
      "metadata": {
        "id": "phj1T9cygOFQ"
      },
      "outputs": [],
      "source": [
        "df_total = pd.concat([df, df_SLR],ignore_index = True, axis = 0)"
      ]
    },
    {
      "cell_type": "code",
      "execution_count": null,
      "metadata": {
        "colab": {
          "base_uri": "https://localhost:8080/",
          "height": 206
        },
        "id": "QMc27vAPgVgd",
        "outputId": "43d25293-d5f3-4443-d7ff-425da25124ff"
      },
      "outputs": [
        {
          "data": {
            "text/html": [
              "\n",
              "  <div id=\"df-c6551bfc-a5e4-437e-87ab-128013656969\">\n",
              "    <div class=\"colab-df-container\">\n",
              "      <div>\n",
              "<style scoped>\n",
              "    .dataframe tbody tr th:only-of-type {\n",
              "        vertical-align: middle;\n",
              "    }\n",
              "\n",
              "    .dataframe tbody tr th {\n",
              "        vertical-align: top;\n",
              "    }\n",
              "\n",
              "    .dataframe thead th {\n",
              "        text-align: right;\n",
              "    }\n",
              "</style>\n",
              "<table border=\"1\" class=\"dataframe\">\n",
              "  <thead>\n",
              "    <tr style=\"text-align: right;\">\n",
              "      <th></th>\n",
              "      <th>labels</th>\n",
              "      <th>source</th>\n",
              "      <th>path</th>\n",
              "    </tr>\n",
              "  </thead>\n",
              "  <tbody>\n",
              "    <tr>\n",
              "      <th>0</th>\n",
              "      <td>angry</td>\n",
              "      <td>SAVEE</td>\n",
              "      <td>/content/surrey-audiovisual/ALL/JK_a02.wav</td>\n",
              "    </tr>\n",
              "    <tr>\n",
              "      <th>1</th>\n",
              "      <td>neutral</td>\n",
              "      <td>SAVEE</td>\n",
              "      <td>/content/surrey-audiovisual/ALL/JK_n23.wav</td>\n",
              "    </tr>\n",
              "    <tr>\n",
              "      <th>2</th>\n",
              "      <td>happy</td>\n",
              "      <td>SAVEE</td>\n",
              "      <td>/content/surrey-audiovisual/ALL/KL_h12.wav</td>\n",
              "    </tr>\n",
              "    <tr>\n",
              "      <th>3</th>\n",
              "      <td>fear</td>\n",
              "      <td>SAVEE</td>\n",
              "      <td>/content/surrey-audiovisual/ALL/JK_f02.wav</td>\n",
              "    </tr>\n",
              "    <tr>\n",
              "      <th>4</th>\n",
              "      <td>surprise</td>\n",
              "      <td>SAVEE</td>\n",
              "      <td>/content/surrey-audiovisual/ALL/JK_su06.wav</td>\n",
              "    </tr>\n",
              "  </tbody>\n",
              "</table>\n",
              "</div>\n",
              "      <button class=\"colab-df-convert\" onclick=\"convertToInteractive('df-c6551bfc-a5e4-437e-87ab-128013656969')\"\n",
              "              title=\"Convert this dataframe to an interactive table.\"\n",
              "              style=\"display:none;\">\n",
              "        \n",
              "  <svg xmlns=\"http://www.w3.org/2000/svg\" height=\"24px\"viewBox=\"0 0 24 24\"\n",
              "       width=\"24px\">\n",
              "    <path d=\"M0 0h24v24H0V0z\" fill=\"none\"/>\n",
              "    <path d=\"M18.56 5.44l.94 2.06.94-2.06 2.06-.94-2.06-.94-.94-2.06-.94 2.06-2.06.94zm-11 1L8.5 8.5l.94-2.06 2.06-.94-2.06-.94L8.5 2.5l-.94 2.06-2.06.94zm10 10l.94 2.06.94-2.06 2.06-.94-2.06-.94-.94-2.06-.94 2.06-2.06.94z\"/><path d=\"M17.41 7.96l-1.37-1.37c-.4-.4-.92-.59-1.43-.59-.52 0-1.04.2-1.43.59L10.3 9.45l-7.72 7.72c-.78.78-.78 2.05 0 2.83L4 21.41c.39.39.9.59 1.41.59.51 0 1.02-.2 1.41-.59l7.78-7.78 2.81-2.81c.8-.78.8-2.07 0-2.86zM5.41 20L4 18.59l7.72-7.72 1.47 1.35L5.41 20z\"/>\n",
              "  </svg>\n",
              "      </button>\n",
              "      \n",
              "  <style>\n",
              "    .colab-df-container {\n",
              "      display:flex;\n",
              "      flex-wrap:wrap;\n",
              "      gap: 12px;\n",
              "    }\n",
              "\n",
              "    .colab-df-convert {\n",
              "      background-color: #E8F0FE;\n",
              "      border: none;\n",
              "      border-radius: 50%;\n",
              "      cursor: pointer;\n",
              "      display: none;\n",
              "      fill: #1967D2;\n",
              "      height: 32px;\n",
              "      padding: 0 0 0 0;\n",
              "      width: 32px;\n",
              "    }\n",
              "\n",
              "    .colab-df-convert:hover {\n",
              "      background-color: #E2EBFA;\n",
              "      box-shadow: 0px 1px 2px rgba(60, 64, 67, 0.3), 0px 1px 3px 1px rgba(60, 64, 67, 0.15);\n",
              "      fill: #174EA6;\n",
              "    }\n",
              "\n",
              "    [theme=dark] .colab-df-convert {\n",
              "      background-color: #3B4455;\n",
              "      fill: #D2E3FC;\n",
              "    }\n",
              "\n",
              "    [theme=dark] .colab-df-convert:hover {\n",
              "      background-color: #434B5C;\n",
              "      box-shadow: 0px 1px 3px 1px rgba(0, 0, 0, 0.15);\n",
              "      filter: drop-shadow(0px 1px 2px rgba(0, 0, 0, 0.3));\n",
              "      fill: #FFFFFF;\n",
              "    }\n",
              "  </style>\n",
              "\n",
              "      <script>\n",
              "        const buttonEl =\n",
              "          document.querySelector('#df-c6551bfc-a5e4-437e-87ab-128013656969 button.colab-df-convert');\n",
              "        buttonEl.style.display =\n",
              "          google.colab.kernel.accessAllowed ? 'block' : 'none';\n",
              "\n",
              "        async function convertToInteractive(key) {\n",
              "          const element = document.querySelector('#df-c6551bfc-a5e4-437e-87ab-128013656969');\n",
              "          const dataTable =\n",
              "            await google.colab.kernel.invokeFunction('convertToInteractive',\n",
              "                                                     [key], {});\n",
              "          if (!dataTable) return;\n",
              "\n",
              "          const docLinkHtml = 'Like what you see? Visit the ' +\n",
              "            '<a target=\"_blank\" href=https://colab.research.google.com/notebooks/data_table.ipynb>data table notebook</a>'\n",
              "            + ' to learn more about interactive tables.';\n",
              "          element.innerHTML = '';\n",
              "          dataTable['output_type'] = 'display_data';\n",
              "          await google.colab.output.renderOutput(dataTable, element);\n",
              "          const docLink = document.createElement('div');\n",
              "          docLink.innerHTML = docLinkHtml;\n",
              "          element.appendChild(docLink);\n",
              "        }\n",
              "      </script>\n",
              "    </div>\n",
              "  </div>\n",
              "  "
            ],
            "text/plain": [
              "     labels source                                         path\n",
              "0     angry  SAVEE   /content/surrey-audiovisual/ALL/JK_a02.wav\n",
              "1   neutral  SAVEE   /content/surrey-audiovisual/ALL/JK_n23.wav\n",
              "2     happy  SAVEE   /content/surrey-audiovisual/ALL/KL_h12.wav\n",
              "3      fear  SAVEE   /content/surrey-audiovisual/ALL/JK_f02.wav\n",
              "4  surprise  SAVEE  /content/surrey-audiovisual/ALL/JK_su06.wav"
            ]
          },
          "execution_count": 54,
          "metadata": {},
          "output_type": "execute_result"
        }
      ],
      "source": [
        "df_total.head()"
      ]
    },
    {
      "cell_type": "code",
      "execution_count": null,
      "metadata": {
        "colab": {
          "base_uri": "https://localhost:8080/",
          "height": 206
        },
        "id": "upIzRx1FgaDC",
        "outputId": "12ea5f58-e20d-4d13-b423-097c2fe36952"
      },
      "outputs": [
        {
          "data": {
            "text/html": [
              "\n",
              "  <div id=\"df-d66595a9-e66d-4fb6-9fae-24c82af5ff35\">\n",
              "    <div class=\"colab-df-container\">\n",
              "      <div>\n",
              "<style scoped>\n",
              "    .dataframe tbody tr th:only-of-type {\n",
              "        vertical-align: middle;\n",
              "    }\n",
              "\n",
              "    .dataframe tbody tr th {\n",
              "        vertical-align: top;\n",
              "    }\n",
              "\n",
              "    .dataframe thead th {\n",
              "        text-align: right;\n",
              "    }\n",
              "</style>\n",
              "<table border=\"1\" class=\"dataframe\">\n",
              "  <thead>\n",
              "    <tr style=\"text-align: right;\">\n",
              "      <th></th>\n",
              "      <th>labels</th>\n",
              "      <th>source</th>\n",
              "      <th>path</th>\n",
              "    </tr>\n",
              "  </thead>\n",
              "  <tbody>\n",
              "    <tr>\n",
              "      <th>20002</th>\n",
              "      <td>sleepy</td>\n",
              "      <td>SLR</td>\n",
              "      <td>/content/downloads/extracted/sam_Sleepy.tar/sl...</td>\n",
              "    </tr>\n",
              "    <tr>\n",
              "      <th>20003</th>\n",
              "      <td>sleepy</td>\n",
              "      <td>SLR</td>\n",
              "      <td>/content/downloads/extracted/sam_Sleepy.tar/sl...</td>\n",
              "    </tr>\n",
              "    <tr>\n",
              "      <th>20004</th>\n",
              "      <td>sleepy</td>\n",
              "      <td>SLR</td>\n",
              "      <td>/content/downloads/extracted/sam_Sleepy.tar/sl...</td>\n",
              "    </tr>\n",
              "    <tr>\n",
              "      <th>20005</th>\n",
              "      <td>sleepy</td>\n",
              "      <td>SLR</td>\n",
              "      <td>/content/downloads/extracted/sam_Sleepy.tar/sl...</td>\n",
              "    </tr>\n",
              "    <tr>\n",
              "      <th>20006</th>\n",
              "      <td>sleepy</td>\n",
              "      <td>SLR</td>\n",
              "      <td>/content/downloads/extracted/sam_Sleepy.tar/sl...</td>\n",
              "    </tr>\n",
              "  </tbody>\n",
              "</table>\n",
              "</div>\n",
              "      <button class=\"colab-df-convert\" onclick=\"convertToInteractive('df-d66595a9-e66d-4fb6-9fae-24c82af5ff35')\"\n",
              "              title=\"Convert this dataframe to an interactive table.\"\n",
              "              style=\"display:none;\">\n",
              "        \n",
              "  <svg xmlns=\"http://www.w3.org/2000/svg\" height=\"24px\"viewBox=\"0 0 24 24\"\n",
              "       width=\"24px\">\n",
              "    <path d=\"M0 0h24v24H0V0z\" fill=\"none\"/>\n",
              "    <path d=\"M18.56 5.44l.94 2.06.94-2.06 2.06-.94-2.06-.94-.94-2.06-.94 2.06-2.06.94zm-11 1L8.5 8.5l.94-2.06 2.06-.94-2.06-.94L8.5 2.5l-.94 2.06-2.06.94zm10 10l.94 2.06.94-2.06 2.06-.94-2.06-.94-.94-2.06-.94 2.06-2.06.94z\"/><path d=\"M17.41 7.96l-1.37-1.37c-.4-.4-.92-.59-1.43-.59-.52 0-1.04.2-1.43.59L10.3 9.45l-7.72 7.72c-.78.78-.78 2.05 0 2.83L4 21.41c.39.39.9.59 1.41.59.51 0 1.02-.2 1.41-.59l7.78-7.78 2.81-2.81c.8-.78.8-2.07 0-2.86zM5.41 20L4 18.59l7.72-7.72 1.47 1.35L5.41 20z\"/>\n",
              "  </svg>\n",
              "      </button>\n",
              "      \n",
              "  <style>\n",
              "    .colab-df-container {\n",
              "      display:flex;\n",
              "      flex-wrap:wrap;\n",
              "      gap: 12px;\n",
              "    }\n",
              "\n",
              "    .colab-df-convert {\n",
              "      background-color: #E8F0FE;\n",
              "      border: none;\n",
              "      border-radius: 50%;\n",
              "      cursor: pointer;\n",
              "      display: none;\n",
              "      fill: #1967D2;\n",
              "      height: 32px;\n",
              "      padding: 0 0 0 0;\n",
              "      width: 32px;\n",
              "    }\n",
              "\n",
              "    .colab-df-convert:hover {\n",
              "      background-color: #E2EBFA;\n",
              "      box-shadow: 0px 1px 2px rgba(60, 64, 67, 0.3), 0px 1px 3px 1px rgba(60, 64, 67, 0.15);\n",
              "      fill: #174EA6;\n",
              "    }\n",
              "\n",
              "    [theme=dark] .colab-df-convert {\n",
              "      background-color: #3B4455;\n",
              "      fill: #D2E3FC;\n",
              "    }\n",
              "\n",
              "    [theme=dark] .colab-df-convert:hover {\n",
              "      background-color: #434B5C;\n",
              "      box-shadow: 0px 1px 3px 1px rgba(0, 0, 0, 0.15);\n",
              "      filter: drop-shadow(0px 1px 2px rgba(0, 0, 0, 0.3));\n",
              "      fill: #FFFFFF;\n",
              "    }\n",
              "  </style>\n",
              "\n",
              "      <script>\n",
              "        const buttonEl =\n",
              "          document.querySelector('#df-d66595a9-e66d-4fb6-9fae-24c82af5ff35 button.colab-df-convert');\n",
              "        buttonEl.style.display =\n",
              "          google.colab.kernel.accessAllowed ? 'block' : 'none';\n",
              "\n",
              "        async function convertToInteractive(key) {\n",
              "          const element = document.querySelector('#df-d66595a9-e66d-4fb6-9fae-24c82af5ff35');\n",
              "          const dataTable =\n",
              "            await google.colab.kernel.invokeFunction('convertToInteractive',\n",
              "                                                     [key], {});\n",
              "          if (!dataTable) return;\n",
              "\n",
              "          const docLinkHtml = 'Like what you see? Visit the ' +\n",
              "            '<a target=\"_blank\" href=https://colab.research.google.com/notebooks/data_table.ipynb>data table notebook</a>'\n",
              "            + ' to learn more about interactive tables.';\n",
              "          element.innerHTML = '';\n",
              "          dataTable['output_type'] = 'display_data';\n",
              "          await google.colab.output.renderOutput(dataTable, element);\n",
              "          const docLink = document.createElement('div');\n",
              "          docLink.innerHTML = docLinkHtml;\n",
              "          element.appendChild(docLink);\n",
              "        }\n",
              "      </script>\n",
              "    </div>\n",
              "  </div>\n",
              "  "
            ],
            "text/plain": [
              "       labels source                                               path\n",
              "20002  sleepy    SLR  /content/downloads/extracted/sam_Sleepy.tar/sl...\n",
              "20003  sleepy    SLR  /content/downloads/extracted/sam_Sleepy.tar/sl...\n",
              "20004  sleepy    SLR  /content/downloads/extracted/sam_Sleepy.tar/sl...\n",
              "20005  sleepy    SLR  /content/downloads/extracted/sam_Sleepy.tar/sl...\n",
              "20006  sleepy    SLR  /content/downloads/extracted/sam_Sleepy.tar/sl..."
            ]
          },
          "execution_count": 55,
          "metadata": {},
          "output_type": "execute_result"
        }
      ],
      "source": [
        "df_total.tail()"
      ]
    },
    {
      "cell_type": "code",
      "execution_count": null,
      "metadata": {
        "colab": {
          "base_uri": "https://localhost:8080/"
        },
        "id": "G7zzkg1iggXv",
        "outputId": "0b4bcf16-ca84-4132-8035-4f2c49926562"
      },
      "outputs": [
        {
          "data": {
            "text/plain": [
              "neutral      3451\n",
              "angry        3183\n",
              "happy        1915\n",
              "fear         1915\n",
              "sad          1915\n",
              "surprise     1840\n",
              "disgust      1731\n",
              "sleepy       1721\n",
              "amused       1317\n",
              "disgusted    1019\n",
              "Name: labels, dtype: int64"
            ]
          },
          "execution_count": 56,
          "metadata": {},
          "output_type": "execute_result"
        }
      ],
      "source": [
        "df_total['labels'].value_counts()"
      ]
    },
    {
      "cell_type": "code",
      "execution_count": null,
      "metadata": {
        "id": "9B0DZhT5g_q1"
      },
      "outputs": [],
      "source": [
        "df_total.loc[df_total['labels'] == \"disgust\",'labels'] = 'disgusted'"
      ]
    },
    {
      "cell_type": "code",
      "execution_count": null,
      "metadata": {
        "colab": {
          "base_uri": "https://localhost:8080/"
        },
        "id": "pxVZP0eyhrl8",
        "outputId": "fe5fd653-0e45-4b02-984d-b96938f4b487"
      },
      "outputs": [
        {
          "data": {
            "text/plain": [
              "neutral      3451\n",
              "angry        3183\n",
              "disgusted    2750\n",
              "happy        1915\n",
              "fear         1915\n",
              "sad          1915\n",
              "surprise     1840\n",
              "sleepy       1721\n",
              "amused       1317\n",
              "Name: labels, dtype: int64"
            ]
          },
          "execution_count": 58,
          "metadata": {},
          "output_type": "execute_result"
        }
      ],
      "source": [
        "df_total['labels'].value_counts()"
      ]
    },
    {
      "cell_type": "code",
      "execution_count": null,
      "metadata": {
        "id": "DAT27ogjhyx0"
      },
      "outputs": [],
      "source": [
        "df_total.loc[df_total['labels'] == \"amused\",'labels'] = 'happy'"
      ]
    },
    {
      "cell_type": "code",
      "execution_count": null,
      "metadata": {
        "colab": {
          "base_uri": "https://localhost:8080/"
        },
        "id": "evwZsWQch4ke",
        "outputId": "c5d85793-1b55-4993-ab16-5d6b9bdf79e1"
      },
      "outputs": [
        {
          "data": {
            "text/plain": [
              "neutral      3451\n",
              "happy        3232\n",
              "angry        3183\n",
              "disgusted    2750\n",
              "fear         1915\n",
              "sad          1915\n",
              "surprise     1840\n",
              "sleepy       1721\n",
              "Name: labels, dtype: int64"
            ]
          },
          "execution_count": 60,
          "metadata": {},
          "output_type": "execute_result"
        }
      ],
      "source": [
        "df_total['labels'].value_counts()"
      ]
    },
    {
      "cell_type": "code",
      "execution_count": null,
      "metadata": {
        "id": "iphRqQIoipf6"
      },
      "outputs": [],
      "source": [
        "df_total.loc[df_total['labels'] == \"sad\",'labels'] = 'sleepy'"
      ]
    },
    {
      "cell_type": "code",
      "execution_count": null,
      "metadata": {
        "colab": {
          "base_uri": "https://localhost:8080/"
        },
        "id": "3D8iM0m0iyhi",
        "outputId": "ef6a3b9b-6ba6-4d0c-a463-5ce50b81a5ff"
      },
      "outputs": [
        {
          "data": {
            "text/plain": [
              "sleepy       3636\n",
              "neutral      3451\n",
              "happy        3232\n",
              "angry        3183\n",
              "disgusted    2750\n",
              "fear         1915\n",
              "surprise     1840\n",
              "Name: labels, dtype: int64"
            ]
          },
          "execution_count": 62,
          "metadata": {},
          "output_type": "execute_result"
        }
      ],
      "source": [
        "df_total['labels'].value_counts()"
      ]
    },
    {
      "cell_type": "markdown",
      "metadata": {
        "id": "q09LACfRjBGH"
      },
      "source": [
        "### feature extraction of df_total"
      ]
    },
    {
      "cell_type": "code",
      "execution_count": null,
      "metadata": {
        "id": "A3rMZ02Ij_CU"
      },
      "outputs": [],
      "source": [
        "from librosa.feature.spectral import spectral_centroid\n",
        "# Another feature extraction \n",
        "import os\n",
        "import librosa\n",
        "import numpy as np\n",
        "import matplotlib.pyplot as plt\n",
        "from matplotlib.pyplot import specgram\n",
        "import soundfile as sf\n",
        "\n",
        "##Return audio features \n",
        "def feature_extraction_2(file_name):\n",
        "    #X, sample_rate = sf.read(file_name, dtype='float32')\n",
        "    #print(\"feature_extraction\")\n",
        "    \n",
        "    X , sample_rate = librosa.load(file_name, sr=None) #Can also load file using librosa\n",
        "    if X.ndim > 1:\n",
        "        X = X[:,0]\n",
        "    X = X.T\n",
        "    \n",
        "    ## stFourier Transform\n",
        "    stft = np.abs(librosa.stft(X))\n",
        "            \n",
        "    mfccs = np.mean(librosa.feature.mfcc(y=X, sr=sample_rate, n_mfcc=18).T, axis=0) #Returns N_mel coefs\n",
        "    #print(\"mfcc: \",mfccs)\n",
        "    rmse = np.mean(librosa.feature.rms(y=X).T, axis=0) #RMS Energy for each Frame (Stanford's). Returns 1 value \n",
        "    #print(\"rmse: \",rmse)\n",
        "    spectral_flux = np.mean(librosa.onset.onset_strength(y=X, sr=sample_rate).T, axis=0) #Spectral Flux (Stanford's). Returns 1 Value\n",
        "    #print(\"spectral_flux: \",spectral_flux)\n",
        "    zcr = np.mean(librosa.feature.zero_crossing_rate(y=X).T, axis=0) #Returns 1 value\n",
        "    #print(\"zcr:\",zcr)\n",
        "\n",
        "    bw = np.mean(librosa.feature.spectral_bandwidth(y=X, sr=sample_rate).T, axis=0) #Returns 1 value\n",
        "    #print(\"bw:\",bw)\n",
        "    spectral_centroid = np.mean(librosa.feature.spectral_centroid(y=X, sr=sample_rate).T, axis=0) #Returns 1 value\n",
        "    #print(\"spectral_centroid:\",spectral_centroid)\n",
        "\n",
        "    ##Return computed audio features\n",
        "    return mfccs, rmse, spectral_flux, spectral_centroid, zcr, bw"
      ]
    },
    {
      "cell_type": "code",
      "execution_count": null,
      "metadata": {
        "colab": {
          "background_save": true,
          "base_uri": "https://localhost:8080/"
        },
        "id": "XSW940sekJQb",
        "outputId": "f7979d47-3dce-46c2-ff9a-2fa36b53436d"
      },
      "outputs": [
        {
          "name": "stderr",
          "output_type": "stream",
          "text": [
            "/usr/local/lib/python3.7/dist-packages/librosa/filters.py:239: UserWarning: Empty filters detected in mel frequency basis. Some channels will produce empty responses. Try increasing your sampling rate (and fmax) or reducing n_mels.\n",
            "  \"Empty filters detected in mel frequency basis. \"\n"
          ]
        }
      ],
      "source": [
        "x = []\n",
        "features = []\n",
        "for counter,audio_path in enumerate(df_total['path']):\n",
        "  mfccs, rmse, spectral_flux, spectral_centroid, zcr, bw  = feature_extraction_2(audio_path)\n",
        "  \n",
        "  features = np.hstack([mfccs, rmse, spectral_flux, spectral_centroid, zcr, bw])\n",
        "  #shape = 23,\n",
        "  x.append(features)\n",
        "  \n",
        "  #shape = 1,23\n",
        "  \n",
        "x = np.array(x)\n",
        "x = np.expand_dims(x, axis=2)"
      ]
    },
    {
      "cell_type": "code",
      "execution_count": null,
      "metadata": {
        "colab": {
          "background_save": true
        },
        "id": "Z12j_fvx-Pqm",
        "outputId": "29bb2b37-197b-46ad-a711-b982e424a28b"
      },
      "outputs": [
        {
          "data": {
            "text/plain": [
              "(20007, 23, 1)"
            ]
          },
          "execution_count": null,
          "metadata": {},
          "output_type": "execute_result"
        }
      ],
      "source": [
        "x.shape"
      ]
    },
    {
      "cell_type": "code",
      "execution_count": null,
      "metadata": {
        "colab": {
          "background_save": true
        },
        "id": "HXdLR-FU92hU",
        "outputId": "5df08dae-2e4c-4a5b-ee6c-5fd883c436da"
      },
      "outputs": [
        {
          "name": "stdout",
          "output_type": "stream",
          "text": [
            "(20007, 23)\n"
          ]
        },
        {
          "data": {
            "text/plain": [
              "array([-3.07724243e+02,  1.15947868e+02,  7.55408430e+00,  1.40175886e+01,\n",
              "        2.22403107e+01, -2.69528413e+00, -1.00553036e+01,  5.56322753e-01,\n",
              "        4.88026953e+00, -4.60015965e+00, -6.63757896e+00,  1.85048282e+00,\n",
              "       -8.58534932e-01, -3.72245860e+00, -1.13732405e-01, -1.11513281e+00,\n",
              "       -1.79471648e+00,  3.36288601e-01,  1.50345132e-01,  1.32732320e+00,\n",
              "        9.55235369e+02,  2.02024430e-02,  1.33301785e+03])"
            ]
          },
          "execution_count": null,
          "metadata": {},
          "output_type": "execute_result"
        }
      ],
      "source": [
        "temp_x = x\n",
        "temp_x = temp_x[:,:,0]\n",
        "print(temp_x.shape)\n",
        "temp_x[0]"
      ]
    },
    {
      "cell_type": "code",
      "execution_count": null,
      "metadata": {
        "colab": {
          "background_save": true
        },
        "id": "PTetJCzyx8fK",
        "outputId": "e8bb56a2-4182-4ae6-e2ec-f94af6a419ef"
      },
      "outputs": [
        {
          "data": {
            "text/plain": [
              "sleepy       3636\n",
              "neutral      3451\n",
              "happy        3232\n",
              "angry        3183\n",
              "disgusted    2750\n",
              "fear         1915\n",
              "surprise     1840\n",
              "Name: labels, dtype: int64"
            ]
          },
          "execution_count": null,
          "metadata": {},
          "output_type": "execute_result"
        }
      ],
      "source": [
        "df_total['labels'].value_counts()"
      ]
    },
    {
      "cell_type": "code",
      "execution_count": null,
      "metadata": {
        "colab": {
          "background_save": true
        },
        "id": "z3I7ziW5xkLe"
      },
      "outputs": [],
      "source": [
        "import tensorflow as tf\n",
        "mappings = {'sleepy':0,\n",
        "            'neutral':1,\n",
        "            'happy' :2,\n",
        "            'angry':3,\n",
        "            'disgusted':4,\n",
        "            'fear':5,\n",
        "            'surprise':6\n",
        "            }\n",
        "y = df_total['labels'].apply(lambda x: mappings[x])\n",
        "number_of_classes = 7\n",
        "y_codded = tf.keras.utils.to_categorical(y, num_classes= number_of_classes)"
      ]
    },
    {
      "cell_type": "code",
      "execution_count": null,
      "metadata": {
        "colab": {
          "background_save": true
        },
        "id": "RTlA4pBzE1H6",
        "outputId": "515526d4-11d3-440f-8563-afbf72a61c2d"
      },
      "outputs": [
        {
          "data": {
            "text/plain": [
              "array([[0., 0., 0., ..., 0., 0., 0.],\n",
              "       [0., 1., 0., ..., 0., 0., 0.],\n",
              "       [0., 0., 1., ..., 0., 0., 0.],\n",
              "       ...,\n",
              "       [1., 0., 0., ..., 0., 0., 0.],\n",
              "       [1., 0., 0., ..., 0., 0., 0.],\n",
              "       [1., 0., 0., ..., 0., 0., 0.]], dtype=float32)"
            ]
          },
          "execution_count": null,
          "metadata": {},
          "output_type": "execute_result"
        }
      ],
      "source": [
        "y_codded"
      ]
    },
    {
      "cell_type": "code",
      "execution_count": null,
      "metadata": {
        "id": "s7Pqvmb_lvBn"
      },
      "outputs": [],
      "source": [
        "#useless df only to save the arrays of extracted features in a df then in a csv file to save time in case session ended\n",
        "\n",
        "column_names = [\"input\", \"output\"]\n",
        "\n",
        "df_features_from_total = pd.DataFrame(index=range(temp_x.shape[0]), columns = column_names)\n",
        "df_features_from_total.tail()\n",
        "\n",
        "\n",
        "for i in range(temp_x.shape[0]):\n",
        "  # print(i)\n",
        "  # print(temp_x[i])\n",
        "  df_features_from_total['input'][i] = temp_x[i]\n",
        "\n",
        "for i in range(temp_x.shape[0]):\n",
        "  # print(i)\n",
        "  # print(temp_x[i])\n",
        "  df_features_from_total['output'][i] = y_codded[i]\n",
        "df_features_from_total = df_features_from_total.join( df['path'] )\n",
        "\n",
        "df_features_from_total.to_csv('/content/features_from_total.csv')\n"
      ]
    },
    {
      "cell_type": "code",
      "execution_count": null,
      "metadata": {
        "colab": {
          "background_save": true
        },
        "id": "gkWRyPTwEoXA",
        "outputId": "486eb968-a136-4716-b44b-252cb885f2e3"
      },
      "outputs": [
        {
          "data": {
            "text/html": [
              "\n",
              "  <div id=\"df-c620e212-7df9-4df6-b1c2-6b702db4046e\">\n",
              "    <div class=\"colab-df-container\">\n",
              "      <div>\n",
              "<style scoped>\n",
              "    .dataframe tbody tr th:only-of-type {\n",
              "        vertical-align: middle;\n",
              "    }\n",
              "\n",
              "    .dataframe tbody tr th {\n",
              "        vertical-align: top;\n",
              "    }\n",
              "\n",
              "    .dataframe thead th {\n",
              "        text-align: right;\n",
              "    }\n",
              "</style>\n",
              "<table border=\"1\" class=\"dataframe\">\n",
              "  <thead>\n",
              "    <tr style=\"text-align: right;\">\n",
              "      <th></th>\n",
              "      <th>input</th>\n",
              "      <th>output</th>\n",
              "      <th>path</th>\n",
              "    </tr>\n",
              "  </thead>\n",
              "  <tbody>\n",
              "    <tr>\n",
              "      <th>0</th>\n",
              "      <td>[-307.7242431640625, 115.94786834716797, 7.554...</td>\n",
              "      <td>[0.0, 0.0, 0.0, 1.0, 0.0, 0.0, 0.0]</td>\n",
              "      <td>/content/surrey-audiovisual/ALL/JK_a02.wav</td>\n",
              "    </tr>\n",
              "    <tr>\n",
              "      <th>1</th>\n",
              "      <td>[-407.6293029785156, 117.38509368896484, 24.34...</td>\n",
              "      <td>[0.0, 1.0, 0.0, 0.0, 0.0, 0.0, 0.0]</td>\n",
              "      <td>/content/surrey-audiovisual/ALL/JK_n23.wav</td>\n",
              "    </tr>\n",
              "    <tr>\n",
              "      <th>2</th>\n",
              "      <td>[-610.3466796875, 124.94605255126953, 23.50545...</td>\n",
              "      <td>[0.0, 0.0, 1.0, 0.0, 0.0, 0.0, 0.0]</td>\n",
              "      <td>/content/surrey-audiovisual/ALL/KL_h12.wav</td>\n",
              "    </tr>\n",
              "    <tr>\n",
              "      <th>3</th>\n",
              "      <td>[-291.04327392578125, 117.17218780517578, -0.8...</td>\n",
              "      <td>[0.0, 0.0, 0.0, 0.0, 0.0, 1.0, 0.0]</td>\n",
              "      <td>/content/surrey-audiovisual/ALL/JK_f02.wav</td>\n",
              "    </tr>\n",
              "    <tr>\n",
              "      <th>4</th>\n",
              "      <td>[-296.91717529296875, 98.9014892578125, -1.421...</td>\n",
              "      <td>[0.0, 0.0, 0.0, 0.0, 0.0, 0.0, 1.0]</td>\n",
              "      <td>/content/surrey-audiovisual/ALL/JK_su06.wav</td>\n",
              "    </tr>\n",
              "  </tbody>\n",
              "</table>\n",
              "</div>\n",
              "      <button class=\"colab-df-convert\" onclick=\"convertToInteractive('df-c620e212-7df9-4df6-b1c2-6b702db4046e')\"\n",
              "              title=\"Convert this dataframe to an interactive table.\"\n",
              "              style=\"display:none;\">\n",
              "        \n",
              "  <svg xmlns=\"http://www.w3.org/2000/svg\" height=\"24px\"viewBox=\"0 0 24 24\"\n",
              "       width=\"24px\">\n",
              "    <path d=\"M0 0h24v24H0V0z\" fill=\"none\"/>\n",
              "    <path d=\"M18.56 5.44l.94 2.06.94-2.06 2.06-.94-2.06-.94-.94-2.06-.94 2.06-2.06.94zm-11 1L8.5 8.5l.94-2.06 2.06-.94-2.06-.94L8.5 2.5l-.94 2.06-2.06.94zm10 10l.94 2.06.94-2.06 2.06-.94-2.06-.94-.94-2.06-.94 2.06-2.06.94z\"/><path d=\"M17.41 7.96l-1.37-1.37c-.4-.4-.92-.59-1.43-.59-.52 0-1.04.2-1.43.59L10.3 9.45l-7.72 7.72c-.78.78-.78 2.05 0 2.83L4 21.41c.39.39.9.59 1.41.59.51 0 1.02-.2 1.41-.59l7.78-7.78 2.81-2.81c.8-.78.8-2.07 0-2.86zM5.41 20L4 18.59l7.72-7.72 1.47 1.35L5.41 20z\"/>\n",
              "  </svg>\n",
              "      </button>\n",
              "      \n",
              "  <style>\n",
              "    .colab-df-container {\n",
              "      display:flex;\n",
              "      flex-wrap:wrap;\n",
              "      gap: 12px;\n",
              "    }\n",
              "\n",
              "    .colab-df-convert {\n",
              "      background-color: #E8F0FE;\n",
              "      border: none;\n",
              "      border-radius: 50%;\n",
              "      cursor: pointer;\n",
              "      display: none;\n",
              "      fill: #1967D2;\n",
              "      height: 32px;\n",
              "      padding: 0 0 0 0;\n",
              "      width: 32px;\n",
              "    }\n",
              "\n",
              "    .colab-df-convert:hover {\n",
              "      background-color: #E2EBFA;\n",
              "      box-shadow: 0px 1px 2px rgba(60, 64, 67, 0.3), 0px 1px 3px 1px rgba(60, 64, 67, 0.15);\n",
              "      fill: #174EA6;\n",
              "    }\n",
              "\n",
              "    [theme=dark] .colab-df-convert {\n",
              "      background-color: #3B4455;\n",
              "      fill: #D2E3FC;\n",
              "    }\n",
              "\n",
              "    [theme=dark] .colab-df-convert:hover {\n",
              "      background-color: #434B5C;\n",
              "      box-shadow: 0px 1px 3px 1px rgba(0, 0, 0, 0.15);\n",
              "      filter: drop-shadow(0px 1px 2px rgba(0, 0, 0, 0.3));\n",
              "      fill: #FFFFFF;\n",
              "    }\n",
              "  </style>\n",
              "\n",
              "      <script>\n",
              "        const buttonEl =\n",
              "          document.querySelector('#df-c620e212-7df9-4df6-b1c2-6b702db4046e button.colab-df-convert');\n",
              "        buttonEl.style.display =\n",
              "          google.colab.kernel.accessAllowed ? 'block' : 'none';\n",
              "\n",
              "        async function convertToInteractive(key) {\n",
              "          const element = document.querySelector('#df-c620e212-7df9-4df6-b1c2-6b702db4046e');\n",
              "          const dataTable =\n",
              "            await google.colab.kernel.invokeFunction('convertToInteractive',\n",
              "                                                     [key], {});\n",
              "          if (!dataTable) return;\n",
              "\n",
              "          const docLinkHtml = 'Like what you see? Visit the ' +\n",
              "            '<a target=\"_blank\" href=https://colab.research.google.com/notebooks/data_table.ipynb>data table notebook</a>'\n",
              "            + ' to learn more about interactive tables.';\n",
              "          element.innerHTML = '';\n",
              "          dataTable['output_type'] = 'display_data';\n",
              "          await google.colab.output.renderOutput(dataTable, element);\n",
              "          const docLink = document.createElement('div');\n",
              "          docLink.innerHTML = docLinkHtml;\n",
              "          element.appendChild(docLink);\n",
              "        }\n",
              "      </script>\n",
              "    </div>\n",
              "  </div>\n",
              "  "
            ],
            "text/plain": [
              "                                               input  \\\n",
              "0  [-307.7242431640625, 115.94786834716797, 7.554...   \n",
              "1  [-407.6293029785156, 117.38509368896484, 24.34...   \n",
              "2  [-610.3466796875, 124.94605255126953, 23.50545...   \n",
              "3  [-291.04327392578125, 117.17218780517578, -0.8...   \n",
              "4  [-296.91717529296875, 98.9014892578125, -1.421...   \n",
              "\n",
              "                                output  \\\n",
              "0  [0.0, 0.0, 0.0, 1.0, 0.0, 0.0, 0.0]   \n",
              "1  [0.0, 1.0, 0.0, 0.0, 0.0, 0.0, 0.0]   \n",
              "2  [0.0, 0.0, 1.0, 0.0, 0.0, 0.0, 0.0]   \n",
              "3  [0.0, 0.0, 0.0, 0.0, 0.0, 1.0, 0.0]   \n",
              "4  [0.0, 0.0, 0.0, 0.0, 0.0, 0.0, 1.0]   \n",
              "\n",
              "                                          path  \n",
              "0   /content/surrey-audiovisual/ALL/JK_a02.wav  \n",
              "1   /content/surrey-audiovisual/ALL/JK_n23.wav  \n",
              "2   /content/surrey-audiovisual/ALL/KL_h12.wav  \n",
              "3   /content/surrey-audiovisual/ALL/JK_f02.wav  \n",
              "4  /content/surrey-audiovisual/ALL/JK_su06.wav  "
            ]
          },
          "execution_count": null,
          "metadata": {},
          "output_type": "execute_result"
        }
      ],
      "source": [
        "df_features_from_total.head()"
      ]
    },
    {
      "cell_type": "code",
      "execution_count": null,
      "metadata": {
        "id": "YH3WkWGYkOf4"
      },
      "outputs": [],
      "source": [
        "from sklearn.model_selection import train_test_split\n",
        "X_train, X_test, y_train, y_test = train_test_split(x, y_codded, test_size=0.25\n",
        "                                                    , shuffle=True\n",
        "                                                    , random_state=42)"
      ]
    },
    {
      "cell_type": "code",
      "execution_count": null,
      "metadata": {
        "colab": {
          "base_uri": "https://localhost:8080/"
        },
        "id": "7sMIjeKjkZtS",
        "outputId": "36a56ea4-d12a-4ef0-b25e-e677312755b9"
      },
      "outputs": [
        {
          "name": "stdout",
          "output_type": "stream",
          "text": [
            "Model: \"sequential_1\"\n",
            "_________________________________________________________________\n",
            " Layer (type)                Output Shape              Param #   \n",
            "=================================================================\n",
            " conv1d (Conv1D)             (None, 23, 128)           1152      \n",
            "                                                                 \n",
            " activation (Activation)     (None, 23, 128)           0         \n",
            "                                                                 \n",
            " conv1d_1 (Conv1D)           (None, 23, 128)           131200    \n",
            "                                                                 \n",
            " batch_normalization (BatchN  (None, 23, 128)          512       \n",
            " ormalization)                                                   \n",
            "                                                                 \n",
            " activation_1 (Activation)   (None, 23, 128)           0         \n",
            "                                                                 \n",
            " dropout (Dropout)           (None, 23, 128)           0         \n",
            "                                                                 \n",
            " max_pooling1d (MaxPooling1D  (None, 2, 128)           0         \n",
            " )                                                               \n",
            "                                                                 \n",
            " conv1d_2 (Conv1D)           (None, 2, 64)             65600     \n",
            "                                                                 \n",
            " batch_normalization_1 (Batc  (None, 2, 64)            256       \n",
            " hNormalization)                                                 \n",
            "                                                                 \n",
            " activation_2 (Activation)   (None, 2, 64)             0         \n",
            "                                                                 \n",
            " dropout_1 (Dropout)         (None, 2, 64)             0         \n",
            "                                                                 \n",
            " conv1d_3 (Conv1D)           (None, 2, 32)             16416     \n",
            "                                                                 \n",
            " activation_3 (Activation)   (None, 2, 32)             0         \n",
            "                                                                 \n",
            " flatten (Flatten)           (None, 64)                0         \n",
            "                                                                 \n",
            " dense (Dense)               (None, 7)                 455       \n",
            "                                                                 \n",
            " activation_4 (Activation)   (None, 7)                 0         \n",
            "                                                                 \n",
            "=================================================================\n",
            "Total params: 215,591\n",
            "Trainable params: 215,207\n",
            "Non-trainable params: 384\n",
            "_________________________________________________________________\n"
          ]
        }
      ],
      "source": [
        "# Keras\n",
        "import keras\n",
        "from keras import regularizers\n",
        "from keras.preprocessing import sequence\n",
        "from keras.preprocessing.text import Tokenizer\n",
        "from keras.preprocessing.sequence import pad_sequences\n",
        "from keras.models import Sequential, Model, model_from_json\n",
        "from keras.layers import Dense, Embedding, LSTM\n",
        "from keras.layers import Input, Flatten, Dropout, Activation, BatchNormalization\n",
        "from keras.layers import Conv1D, MaxPooling1D, AveragePooling1D\n",
        "from keras.utils import np_utils\n",
        "from keras.callbacks import ModelCheckpoint\n",
        "\n",
        "model = Sequential()\n",
        "model.add(Conv1D(128, 8, padding='same',input_shape=(23,1)))  # X_train.shape[1] = No. of Columns\n",
        "# model.add(Conv1D(128, 8, padding='same',input_shape=(X_train.shape[1],1)))  # X_train.shape[1] = No. of Columns\n",
        "\n",
        "model.add(Activation('relu'))\n",
        "model.add(Conv1D(128, 8, padding='same'))\n",
        "model.add(BatchNormalization())\n",
        "model.add(Activation('relu'))\n",
        "model.add(Dropout(0.25))\n",
        "model.add(MaxPooling1D(pool_size=(8)))\n",
        "model.add(Conv1D(64, 8, padding='same'))\n",
        "model.add(BatchNormalization())\n",
        "model.add(Activation('relu'))\n",
        "model.add(Dropout(0.25))\n",
        "#model.add(MaxPooling1D(pool_size=(8)))\n",
        "model.add(Conv1D(32, 8, padding='same'))\n",
        "model.add(Activation('relu'))\n",
        "model.add(Flatten())\n",
        "model.add(Dense(7)) # Target class number\n",
        "model.add(Activation('softmax'))\n",
        "# opt = keras.optimizers.SGD(lr=0.0001, momentum=0.0, decay=0.0, nesterov=False)\n",
        "# opt = keras.optimizers.Adam(lr=0.0001)\n",
        "#opt = keras.optimizers.rmsprop(lr=0.00001, decay=1e-6)\n",
        "model.summary()"
      ]
    },
    {
      "cell_type": "code",
      "execution_count": null,
      "metadata": {
        "colab": {
          "base_uri": "https://localhost:8080/"
        },
        "id": "NwXjrSqKki6q",
        "outputId": "00e886bb-bacf-421d-80d6-9008a0f9e588"
      },
      "outputs": [
        {
          "name": "stdout",
          "output_type": "stream",
          "text": [
            "Epoch 1/100\n",
            "938/938 [==============================] - 22s 21ms/step - loss: 1.5888 - accuracy: 0.3386 - val_loss: 1.4200 - val_accuracy: 0.4124\n",
            "Epoch 2/100\n",
            "938/938 [==============================] - 20s 21ms/step - loss: 1.2614 - accuracy: 0.4910 - val_loss: 1.1833 - val_accuracy: 0.5150\n",
            "Epoch 3/100\n",
            "938/938 [==============================] - 20s 21ms/step - loss: 1.1264 - accuracy: 0.5467 - val_loss: 1.0854 - val_accuracy: 0.5658\n",
            "Epoch 4/100\n",
            "938/938 [==============================] - 21s 23ms/step - loss: 1.0423 - accuracy: 0.5855 - val_loss: 1.0867 - val_accuracy: 0.5712\n",
            "Epoch 5/100\n",
            "938/938 [==============================] - 20s 21ms/step - loss: 0.9928 - accuracy: 0.5983 - val_loss: 0.9205 - val_accuracy: 0.6435\n",
            "Epoch 6/100\n",
            "938/938 [==============================] - 20s 21ms/step - loss: 0.9436 - accuracy: 0.6238 - val_loss: 0.8574 - val_accuracy: 0.6571\n",
            "Epoch 7/100\n",
            "938/938 [==============================] - 20s 21ms/step - loss: 0.9227 - accuracy: 0.6307 - val_loss: 0.9261 - val_accuracy: 0.6333\n",
            "Epoch 8/100\n",
            "938/938 [==============================] - 20s 21ms/step - loss: 0.8952 - accuracy: 0.6409 - val_loss: 0.8197 - val_accuracy: 0.6779\n",
            "Epoch 9/100\n",
            "938/938 [==============================] - 20s 21ms/step - loss: 0.8737 - accuracy: 0.6487 - val_loss: 0.9403 - val_accuracy: 0.6184\n",
            "Epoch 10/100\n",
            "938/938 [==============================] - 20s 21ms/step - loss: 0.8651 - accuracy: 0.6502 - val_loss: 0.7835 - val_accuracy: 0.6953\n",
            "Epoch 11/100\n",
            "938/938 [==============================] - 20s 21ms/step - loss: 0.8397 - accuracy: 0.6636 - val_loss: 0.7915 - val_accuracy: 0.6851\n",
            "Epoch 12/100\n",
            "938/938 [==============================] - 20s 21ms/step - loss: 0.8300 - accuracy: 0.6680 - val_loss: 0.8234 - val_accuracy: 0.6593\n",
            "Epoch 13/100\n",
            "938/938 [==============================] - 20s 21ms/step - loss: 0.8216 - accuracy: 0.6708 - val_loss: 0.9254 - val_accuracy: 0.6365\n",
            "Epoch 14/100\n",
            "938/938 [==============================] - 20s 21ms/step - loss: 0.8209 - accuracy: 0.6729 - val_loss: 0.8343 - val_accuracy: 0.6551\n",
            "Epoch 15/100\n",
            "938/938 [==============================] - 20s 21ms/step - loss: 0.8037 - accuracy: 0.6810 - val_loss: 0.8204 - val_accuracy: 0.6747\n",
            "Epoch 16/100\n",
            "938/938 [==============================] - 20s 21ms/step - loss: 0.8014 - accuracy: 0.6834 - val_loss: 0.7670 - val_accuracy: 0.6979\n",
            "Epoch 17/100\n",
            "938/938 [==============================] - 20s 21ms/step - loss: 0.7908 - accuracy: 0.6872 - val_loss: 0.7535 - val_accuracy: 0.7037\n",
            "Epoch 18/100\n",
            "938/938 [==============================] - 20s 21ms/step - loss: 0.7892 - accuracy: 0.6854 - val_loss: 0.7398 - val_accuracy: 0.7053\n",
            "Epoch 19/100\n",
            "938/938 [==============================] - 20s 21ms/step - loss: 0.7783 - accuracy: 0.6910 - val_loss: 0.7468 - val_accuracy: 0.7031\n",
            "Epoch 20/100\n",
            "938/938 [==============================] - 20s 21ms/step - loss: 0.7728 - accuracy: 0.6923 - val_loss: 0.7529 - val_accuracy: 0.6977\n",
            "Epoch 21/100\n",
            "938/938 [==============================] - 20s 21ms/step - loss: 0.7757 - accuracy: 0.6903 - val_loss: 0.7395 - val_accuracy: 0.7075\n",
            "Epoch 22/100\n",
            "938/938 [==============================] - 20s 21ms/step - loss: 0.7603 - accuracy: 0.6939 - val_loss: 0.8130 - val_accuracy: 0.6717\n",
            "Epoch 23/100\n",
            "938/938 [==============================] - 20s 21ms/step - loss: 0.7631 - accuracy: 0.6972 - val_loss: 0.7516 - val_accuracy: 0.7017\n",
            "Epoch 24/100\n",
            "938/938 [==============================] - 20s 21ms/step - loss: 0.7497 - accuracy: 0.7052 - val_loss: 0.7668 - val_accuracy: 0.6853\n",
            "Epoch 25/100\n",
            "938/938 [==============================] - 20s 21ms/step - loss: 0.7522 - accuracy: 0.7009 - val_loss: 0.7699 - val_accuracy: 0.6841\n",
            "Epoch 26/100\n",
            "938/938 [==============================] - 20s 21ms/step - loss: 0.7455 - accuracy: 0.6991 - val_loss: 0.7321 - val_accuracy: 0.7121\n",
            "Epoch 27/100\n",
            "938/938 [==============================] - 20s 21ms/step - loss: 0.7466 - accuracy: 0.7002 - val_loss: 0.7612 - val_accuracy: 0.6933\n",
            "Epoch 28/100\n",
            "938/938 [==============================] - 20s 21ms/step - loss: 0.7410 - accuracy: 0.7065 - val_loss: 0.7103 - val_accuracy: 0.7155\n",
            "Epoch 29/100\n",
            "938/938 [==============================] - 20s 21ms/step - loss: 0.7324 - accuracy: 0.7040 - val_loss: 0.7312 - val_accuracy: 0.7077\n",
            "Epoch 30/100\n",
            "938/938 [==============================] - 21s 23ms/step - loss: 0.7323 - accuracy: 0.7057 - val_loss: 0.7250 - val_accuracy: 0.7069\n",
            "Epoch 31/100\n",
            "938/938 [==============================] - 21s 22ms/step - loss: 0.7353 - accuracy: 0.7039 - val_loss: 0.7207 - val_accuracy: 0.7085\n",
            "Epoch 32/100\n",
            "938/938 [==============================] - 21s 23ms/step - loss: 0.7241 - accuracy: 0.7114 - val_loss: 0.7121 - val_accuracy: 0.7183\n",
            "Epoch 33/100\n",
            "938/938 [==============================] - 20s 21ms/step - loss: 0.7219 - accuracy: 0.7110 - val_loss: 0.6942 - val_accuracy: 0.7213\n",
            "Epoch 34/100\n",
            "938/938 [==============================] - 20s 21ms/step - loss: 0.7252 - accuracy: 0.7072 - val_loss: 0.7215 - val_accuracy: 0.7065\n",
            "Epoch 35/100\n",
            "938/938 [==============================] - 20s 21ms/step - loss: 0.7142 - accuracy: 0.7151 - val_loss: 0.6994 - val_accuracy: 0.7189\n",
            "Epoch 36/100\n",
            "938/938 [==============================] - 20s 21ms/step - loss: 0.7148 - accuracy: 0.7175 - val_loss: 0.7280 - val_accuracy: 0.7121\n",
            "Epoch 37/100\n",
            "938/938 [==============================] - 20s 21ms/step - loss: 0.7033 - accuracy: 0.7184 - val_loss: 0.7400 - val_accuracy: 0.6989\n",
            "Epoch 38/100\n",
            "938/938 [==============================] - 20s 21ms/step - loss: 0.7104 - accuracy: 0.7156 - val_loss: 0.6984 - val_accuracy: 0.7187\n",
            "Epoch 39/100\n",
            "938/938 [==============================] - 20s 21ms/step - loss: 0.7084 - accuracy: 0.7206 - val_loss: 0.7303 - val_accuracy: 0.7125\n",
            "Epoch 40/100\n",
            "938/938 [==============================] - 20s 21ms/step - loss: 0.7013 - accuracy: 0.7226 - val_loss: 0.7060 - val_accuracy: 0.7139\n",
            "Epoch 41/100\n",
            "938/938 [==============================] - 21s 23ms/step - loss: 0.6946 - accuracy: 0.7222 - val_loss: 0.7520 - val_accuracy: 0.6983\n",
            "Epoch 42/100\n",
            "938/938 [==============================] - 20s 21ms/step - loss: 0.6982 - accuracy: 0.7179 - val_loss: 0.7020 - val_accuracy: 0.7173\n",
            "Epoch 43/100\n",
            "938/938 [==============================] - 21s 23ms/step - loss: 0.7050 - accuracy: 0.7220 - val_loss: 0.6898 - val_accuracy: 0.7239\n",
            "Epoch 44/100\n",
            "938/938 [==============================] - 20s 21ms/step - loss: 0.6991 - accuracy: 0.7216 - val_loss: 0.7123 - val_accuracy: 0.7127\n",
            "Epoch 45/100\n",
            "938/938 [==============================] - 20s 21ms/step - loss: 0.6881 - accuracy: 0.7255 - val_loss: 0.6986 - val_accuracy: 0.7235\n",
            "Epoch 46/100\n",
            "938/938 [==============================] - 20s 21ms/step - loss: 0.6836 - accuracy: 0.7294 - val_loss: 0.6999 - val_accuracy: 0.7233\n",
            "Epoch 47/100\n",
            "938/938 [==============================] - 20s 21ms/step - loss: 0.6899 - accuracy: 0.7264 - val_loss: 0.7148 - val_accuracy: 0.7145\n",
            "Epoch 48/100\n",
            "938/938 [==============================] - 20s 21ms/step - loss: 0.6832 - accuracy: 0.7296 - val_loss: 0.7294 - val_accuracy: 0.7059\n",
            "Epoch 49/100\n",
            "938/938 [==============================] - 20s 21ms/step - loss: 0.6886 - accuracy: 0.7277 - val_loss: 0.7168 - val_accuracy: 0.7149\n",
            "Epoch 50/100\n",
            "938/938 [==============================] - 20s 21ms/step - loss: 0.6743 - accuracy: 0.7328 - val_loss: 0.7356 - val_accuracy: 0.7043\n",
            "Epoch 51/100\n",
            "938/938 [==============================] - 20s 21ms/step - loss: 0.6787 - accuracy: 0.7268 - val_loss: 0.6965 - val_accuracy: 0.7221\n",
            "Epoch 52/100\n",
            "938/938 [==============================] - 20s 21ms/step - loss: 0.6716 - accuracy: 0.7335 - val_loss: 0.7081 - val_accuracy: 0.7163\n",
            "Epoch 53/100\n",
            "938/938 [==============================] - 20s 21ms/step - loss: 0.6813 - accuracy: 0.7280 - val_loss: 0.6996 - val_accuracy: 0.7227\n",
            "Epoch 54/100\n",
            "938/938 [==============================] - 20s 21ms/step - loss: 0.6809 - accuracy: 0.7274 - val_loss: 0.6963 - val_accuracy: 0.7169\n",
            "Epoch 55/100\n",
            "938/938 [==============================] - 20s 21ms/step - loss: 0.6679 - accuracy: 0.7360 - val_loss: 0.7234 - val_accuracy: 0.7073\n",
            "Epoch 56/100\n",
            "938/938 [==============================] - 20s 21ms/step - loss: 0.6673 - accuracy: 0.7386 - val_loss: 0.6971 - val_accuracy: 0.7153\n",
            "Epoch 57/100\n",
            "938/938 [==============================] - 20s 21ms/step - loss: 0.6690 - accuracy: 0.7352 - val_loss: 0.6867 - val_accuracy: 0.7269\n",
            "Epoch 58/100\n",
            "938/938 [==============================] - 20s 21ms/step - loss: 0.6634 - accuracy: 0.7382 - val_loss: 0.6876 - val_accuracy: 0.7243\n",
            "Epoch 59/100\n",
            "938/938 [==============================] - 20s 21ms/step - loss: 0.6598 - accuracy: 0.7382 - val_loss: 0.6866 - val_accuracy: 0.7279\n",
            "Epoch 60/100\n",
            "938/938 [==============================] - 20s 21ms/step - loss: 0.6657 - accuracy: 0.7362 - val_loss: 0.6843 - val_accuracy: 0.7253\n",
            "Epoch 61/100\n",
            "938/938 [==============================] - 20s 21ms/step - loss: 0.6590 - accuracy: 0.7377 - val_loss: 0.7036 - val_accuracy: 0.7215\n",
            "Epoch 62/100\n",
            "938/938 [==============================] - 20s 21ms/step - loss: 0.6558 - accuracy: 0.7358 - val_loss: 0.6841 - val_accuracy: 0.7267\n",
            "Epoch 63/100\n",
            "938/938 [==============================] - 20s 21ms/step - loss: 0.6532 - accuracy: 0.7430 - val_loss: 0.6929 - val_accuracy: 0.7263\n",
            "Epoch 64/100\n",
            "938/938 [==============================] - 20s 21ms/step - loss: 0.6533 - accuracy: 0.7424 - val_loss: 0.7508 - val_accuracy: 0.7117\n",
            "Epoch 65/100\n",
            "938/938 [==============================] - 20s 21ms/step - loss: 0.6545 - accuracy: 0.7410 - val_loss: 0.7343 - val_accuracy: 0.7111\n",
            "Epoch 66/100\n",
            "938/938 [==============================] - 20s 21ms/step - loss: 0.6539 - accuracy: 0.7379 - val_loss: 0.6879 - val_accuracy: 0.7209\n",
            "Epoch 67/100\n",
            "938/938 [==============================] - 20s 21ms/step - loss: 0.6505 - accuracy: 0.7420 - val_loss: 0.7379 - val_accuracy: 0.7089\n",
            "Epoch 68/100\n",
            "938/938 [==============================] - 20s 21ms/step - loss: 0.6549 - accuracy: 0.7369 - val_loss: 0.7200 - val_accuracy: 0.7159\n",
            "Epoch 69/100\n",
            "938/938 [==============================] - 20s 21ms/step - loss: 0.6512 - accuracy: 0.7375 - val_loss: 0.6716 - val_accuracy: 0.7319\n",
            "Epoch 70/100\n",
            "938/938 [==============================] - 20s 22ms/step - loss: 0.6435 - accuracy: 0.7420 - val_loss: 0.6881 - val_accuracy: 0.7283\n",
            "Epoch 71/100\n",
            "938/938 [==============================] - 20s 21ms/step - loss: 0.6477 - accuracy: 0.7436 - val_loss: 0.6719 - val_accuracy: 0.7371\n",
            "Epoch 72/100\n",
            "938/938 [==============================] - 20s 21ms/step - loss: 0.6420 - accuracy: 0.7453 - val_loss: 0.6594 - val_accuracy: 0.7339\n",
            "Epoch 73/100\n",
            "938/938 [==============================] - 21s 23ms/step - loss: 0.6429 - accuracy: 0.7464 - val_loss: 0.6767 - val_accuracy: 0.7275\n",
            "Epoch 74/100\n",
            "938/938 [==============================] - 21s 23ms/step - loss: 0.6372 - accuracy: 0.7513 - val_loss: 0.7035 - val_accuracy: 0.7211\n",
            "Epoch 75/100\n",
            "938/938 [==============================] - 20s 22ms/step - loss: 0.6365 - accuracy: 0.7471 - val_loss: 0.7047 - val_accuracy: 0.7191\n",
            "Epoch 76/100\n",
            "938/938 [==============================] - 20s 22ms/step - loss: 0.6396 - accuracy: 0.7407 - val_loss: 0.6692 - val_accuracy: 0.7385\n",
            "Epoch 77/100\n",
            "938/938 [==============================] - 20s 21ms/step - loss: 0.6411 - accuracy: 0.7439 - val_loss: 0.6933 - val_accuracy: 0.7227\n",
            "Epoch 78/100\n",
            "938/938 [==============================] - 20s 21ms/step - loss: 0.6414 - accuracy: 0.7430 - val_loss: 0.6807 - val_accuracy: 0.7259\n",
            "Epoch 79/100\n",
            "938/938 [==============================] - 20s 21ms/step - loss: 0.6337 - accuracy: 0.7480 - val_loss: 0.6918 - val_accuracy: 0.7275\n",
            "Epoch 80/100\n",
            "938/938 [==============================] - 20s 22ms/step - loss: 0.6340 - accuracy: 0.7487 - val_loss: 0.6912 - val_accuracy: 0.7251\n",
            "Epoch 81/100\n",
            "938/938 [==============================] - 20s 21ms/step - loss: 0.6364 - accuracy: 0.7487 - val_loss: 0.6807 - val_accuracy: 0.7295\n",
            "Epoch 82/100\n",
            "938/938 [==============================] - 20s 22ms/step - loss: 0.6284 - accuracy: 0.7480 - val_loss: 0.7765 - val_accuracy: 0.7013\n",
            "Epoch 83/100\n",
            "938/938 [==============================] - 20s 21ms/step - loss: 0.6212 - accuracy: 0.7549 - val_loss: 0.6707 - val_accuracy: 0.7343\n",
            "Epoch 84/100\n",
            "938/938 [==============================] - 20s 21ms/step - loss: 0.6215 - accuracy: 0.7546 - val_loss: 0.6692 - val_accuracy: 0.7299\n",
            "Epoch 85/100\n",
            "938/938 [==============================] - 21s 23ms/step - loss: 0.6240 - accuracy: 0.7537 - val_loss: 0.6784 - val_accuracy: 0.7347\n",
            "Epoch 86/100\n",
            "938/938 [==============================] - 20s 21ms/step - loss: 0.6193 - accuracy: 0.7535 - val_loss: 0.6886 - val_accuracy: 0.7297\n",
            "Epoch 87/100\n",
            "938/938 [==============================] - 20s 21ms/step - loss: 0.6212 - accuracy: 0.7545 - val_loss: 0.6809 - val_accuracy: 0.7287\n",
            "Epoch 88/100\n",
            "938/938 [==============================] - 20s 22ms/step - loss: 0.6228 - accuracy: 0.7514 - val_loss: 0.6894 - val_accuracy: 0.7283\n",
            "Epoch 89/100\n",
            "938/938 [==============================] - 20s 22ms/step - loss: 0.6239 - accuracy: 0.7497 - val_loss: 0.6680 - val_accuracy: 0.7351\n",
            "Epoch 90/100\n",
            "938/938 [==============================] - 20s 21ms/step - loss: 0.6188 - accuracy: 0.7533 - val_loss: 0.6516 - val_accuracy: 0.7353\n",
            "Epoch 91/100\n",
            "938/938 [==============================] - 20s 21ms/step - loss: 0.6159 - accuracy: 0.7568 - val_loss: 0.6543 - val_accuracy: 0.7447\n",
            "Epoch 92/100\n",
            "938/938 [==============================] - 20s 21ms/step - loss: 0.6176 - accuracy: 0.7541 - val_loss: 0.6934 - val_accuracy: 0.7233\n",
            "Epoch 93/100\n",
            "938/938 [==============================] - 20s 22ms/step - loss: 0.6236 - accuracy: 0.7537 - val_loss: 0.6824 - val_accuracy: 0.7283\n",
            "Epoch 94/100\n",
            "938/938 [==============================] - 20s 21ms/step - loss: 0.6199 - accuracy: 0.7525 - val_loss: 0.6521 - val_accuracy: 0.7409\n",
            "Epoch 95/100\n",
            "938/938 [==============================] - 20s 21ms/step - loss: 0.6117 - accuracy: 0.7577 - val_loss: 0.7224 - val_accuracy: 0.7149\n",
            "Epoch 96/100\n",
            "938/938 [==============================] - 20s 21ms/step - loss: 0.6171 - accuracy: 0.7546 - val_loss: 0.6553 - val_accuracy: 0.7381\n",
            "Epoch 97/100\n",
            "938/938 [==============================] - 20s 21ms/step - loss: 0.6097 - accuracy: 0.7559 - val_loss: 0.6773 - val_accuracy: 0.7331\n",
            "Epoch 98/100\n",
            "938/938 [==============================] - 20s 22ms/step - loss: 0.6115 - accuracy: 0.7570 - val_loss: 0.6595 - val_accuracy: 0.7373\n",
            "Epoch 99/100\n",
            "938/938 [==============================] - 20s 22ms/step - loss: 0.6080 - accuracy: 0.7593 - val_loss: 0.6778 - val_accuracy: 0.7323\n",
            "Epoch 100/100\n",
            "938/938 [==============================] - 22s 23ms/step - loss: 0.6056 - accuracy: 0.7573 - val_loss: 0.6562 - val_accuracy: 0.7371\n"
          ]
        }
      ],
      "source": [
        "model.compile(loss='categorical_crossentropy', optimizer='ADAM',metrics=['accuracy'])\n",
        "model_history=model.fit(X_train, y_train, batch_size=16, epochs=100, validation_data=(X_test, y_test))"
      ]
    },
    {
      "cell_type": "code",
      "execution_count": null,
      "metadata": {
        "id": "kuuOaFvjG4Yk"
      },
      "outputs": [],
      "source": [
        "y_pred = model.predict(X_test)"
      ]
    },
    {
      "cell_type": "code",
      "execution_count": null,
      "metadata": {
        "colab": {
          "base_uri": "https://localhost:8080/",
          "height": 295
        },
        "id": "XEdKVYdpHC0E",
        "outputId": "373badce-24b0-4d94-a890-0c79aee1b243"
      },
      "outputs": [
        {
          "data": {
            "image/png": "[encoded data removed]",
            "text/plain": [
              "<Figure size 432x288 with 2 Axes>"
            ]
          },
          "metadata": {},
          "output_type": "display_data"
        }
      ],
      "source": [
        "from sklearn.metrics import confusion_matrix\n",
        "labels = ['sleepy','neutral','happy','angry','disgusted','fear', 'surprise']\n",
        " \n",
        "matrix = confusion_matrix(y_test.argmax(axis=1), y_pred.argmax(axis=1))\n",
        "\n",
        "\n",
        "import seaborn as sns\n",
        "import matplotlib.pyplot as plt     \n",
        "\n",
        "ax= plt.subplot()\n",
        "sns.heatmap(matrix, annot=True, fmt='g', ax=ax);  #annot=True to annotate cells, ftm='g' to disable scientific notation\n",
        "\n",
        "# labels, title and ticks\n",
        "ax.set_xlabel('Predicted labels');ax.set_ylabel('True labels'); \n",
        "ax.set_title('Confusion Matrix'); \n",
        "ax.xaxis.set_ticklabels(labels); ax.yaxis.set_ticklabels(labels);"
      ]
    },
    {
      "cell_type": "code",
      "execution_count": null,
      "metadata": {
        "id": "D1hVUBwpF3Su"
      },
      "outputs": [],
      "source": [
        "# from tensorflow import keras\n",
        "model2.save('/content/model_total_2.h5')\n",
        "#model = keras.models.load_model('path/to/location')"
      ]
    },
    {
      "cell_type": "markdown",
      "metadata": {
        "id": "nNrBax_kGtnQ"
      },
      "source": [
        "==================================================================================="
      ]
    },
    {
      "cell_type": "markdown",
      "metadata": {
        "id": "be2MXp4vV6Uw"
      },
      "source": [
        "# Deployment Needs"
      ]
    },
    {
      "cell_type": "code",
      "execution_count": null,
      "metadata": {
        "colab": {
          "base_uri": "https://localhost:8080/"
        },
        "id": "j7Z_sfo6K333",
        "outputId": "bbef1fcc-ffb4-4041-eb9c-99f6c1ea957a"
      },
      "outputs": [
        {
          "name": "stdout",
          "output_type": "stream",
          "text": [
            "Looking in indexes: https://pypi.org/simple, https://us-python.pkg.dev/colab-wheels/public/simple/\n",
            "Collecting youtube_dl\n",
            "  Downloading youtube_dl-2021.12.17-py2.py3-none-any.whl (1.9 MB)\n",
            "\u001b[K     |████████████████████████████████| 1.9 MB 4.1 MB/s \n",
            "\u001b[?25hInstalling collected packages: youtube-dl\n",
            "Successfully installed youtube-dl-2021.12.17\n"
          ]
        }
      ],
      "source": [
        "!pip install youtube_dl"
      ]
    },
    {
      "cell_type": "code",
      "execution_count": null,
      "metadata": {
        "colab": {
          "base_uri": "https://localhost:8080/"
        },
        "id": "4m_KwKO1QbkR",
        "outputId": "d06f7e81-6701-481e-8c37-1860db4bef9e"
      },
      "outputs": [
        {
          "name": "stdout",
          "output_type": "stream",
          "text": [
            "Looking in indexes: https://pypi.org/simple, https://us-python.pkg.dev/colab-wheels/public/simple/\n",
            "Collecting pydub\n",
            "  Downloading pydub-0.25.1-py2.py3-none-any.whl (32 kB)\n",
            "Installing collected packages: pydub\n",
            "Successfully installed pydub-0.25.1\n"
          ]
        }
      ],
      "source": [
        "!pip install pydub"
      ]
    },
    {
      "cell_type": "code",
      "execution_count": null,
      "metadata": {
        "id": "bGt7I3EZLJMN"
      },
      "outputs": [],
      "source": [
        "#called later\n",
        "from __future__ import unicode_literals\n",
        "import youtube_dl\n",
        "def audio_extraction(url):\n",
        "  os.chdir('/content')\n",
        "  ydl_opts = {\n",
        "      'format': 'bestaudio/best',\n",
        "      'postprocessors': [{\n",
        "          'key': 'FFmpegExtractAudio',\n",
        "          'preferredcodec': 'wav',\n",
        "          'preferredquality': '192',\n",
        "      }],\n",
        "  }\n",
        "  with youtube_dl.YoutubeDL(ydl_opts) as ydl:\n",
        "      info_dict = ydl.extract_info(url, download=False)\n",
        "      name = ydl.prepare_filename(info_dict)\n",
        "      duration = info_dict['duration']\n",
        "      ydl.download([url])\n",
        "  name = name.split('.webm')\n",
        "  name = name[0]\n",
        "  name = name.split('.m4a')\n",
        "\n",
        "  audio = '/content/'+name[0]+'.wav'\n",
        "  return audio,duration"
      ]
    },
    {
      "cell_type": "code",
      "execution_count": null,
      "metadata": {
        "id": "4s8k6jVALN-L"
      },
      "outputs": [],
      "source": [
        "#called later\n",
        "from pydub import AudioSegment\n",
        "import shutil\n",
        "def sub_audios_creation(audio_path, dur_cut, actual_dur, folder_name= \"/content/testing\"):\n",
        "  try:\n",
        "    shutil.rmtree(folder_name)\n",
        "  except:\n",
        "    x = 0\n",
        "  os.mkdir(folder_name)\n",
        "  count = 0\n",
        "  max = dur_cut*1000\n",
        "  while(count*dur_cut < actual_dur): #5*counter < \n",
        "    newAudio = AudioSegment.from_wav(audio_path)\n",
        "    newAudio = newAudio[count*max:(count+1)*max]\n",
        "    newAudio.export(f'{folder_name}/new{count}.wav', format=\"wav\")\n",
        "    count +=1\n",
        "\n",
        "  return folder_name"
      ]
    },
    {
      "cell_type": "code",
      "execution_count": null,
      "metadata": {
        "id": "j4PfdCKuLWRE"
      },
      "outputs": [],
      "source": [
        "#sub_audios_creation('/content/Tuverl Smart Commuting _ Seedstars IRP supported by UK Charity and Shell Foundation-5_e7sw9-ng4.wav',1,5)"
      ]
    },
    {
      "cell_type": "code",
      "execution_count": null,
      "metadata": {
        "id": "uClWtLk6LeTS"
      },
      "outputs": [],
      "source": [
        "#called later         feature extraction from new audio\n",
        "def return_Input(mfccs, rmse, spectral_flux, spectral_centroid, zcr, bw):\n",
        "  extracted_features = np.hstack([mfccs, rmse, spectral_flux, spectral_centroid, zcr, bw])\n",
        "  #print(extracted_features.shape)\n",
        "  features = np.expand_dims(extracted_features, axis=1)\n",
        "  #print(x.shape)\n",
        "  features = np.expand_dims(features, axis=0)\n",
        "  #print(x.shape)\n",
        "  return features"
      ]
    },
    {
      "cell_type": "code",
      "execution_count": null,
      "metadata": {
        "id": "Ptd3T5_mLoMA"
      },
      "outputs": [],
      "source": [
        "def Predict_sketch(sketch_path):\n",
        "  mfccs, rmse, spectral_flux, spectral_centroid, zcr, bw = feature_extraction_2(sketch_path)\n",
        "  input_features = return_Input(mfccs, rmse, spectral_flux, spectral_centroid, zcr, bw)\n",
        "  pred = model.predict(input_features)\n",
        "  return np.argmax(pred)"
      ]
    },
    {
      "cell_type": "code",
      "execution_count": null,
      "metadata": {
        "id": "M06hE9qOOeRS"
      },
      "outputs": [],
      "source": [
        "from moviepy.video.io.ffmpeg_tools import ffmpeg_extract_subclip\n",
        "\n",
        "def Predict(url,model,cutdur,folder_path=\"/content/testing\"):\n",
        "  sketches_predictions = []\n",
        "  audio,duration = audio_extraction(url)\n",
        "  print(\"duration = \",duration)\n",
        "\n",
        "  sketches_path = sub_audios_creation(audio,cutdur,duration,folder_path)\n",
        "\n",
        "  for sketch_path in os.listdir(sketches_path):\n",
        "    sketches_predictions.append(Predict_sketch(folder_path+'/'+sketch_path))\n",
        "\n",
        "  #defined_list = [0,1,2]\n",
        "  #curr_frequency = [sketches_predictions.count(i) for i in defined_list] #[100,20,30]\n",
        "  print(sketches_predictions)\n",
        "\n",
        "  matching = {0: 0 , 1: 0 , 2: 0 , 3: 0 , 4: 0 , 5: 0 , 6: 0 }\n",
        "\n",
        "  for i in sketches_predictions:\n",
        "    matching[i] = matching[i]+1\n",
        "  perc_list = [ matching[i]/len(sketches_predictions)*100 for i in range(6)]\n",
        "  print(f'sleepy {perc_list[0]}% ------- neutral {perc_list[1]}% -------- happy {perc_list[2]}% ----- angry {perc_list[3]}% --- disgusted {perc_list[4]}%---- fear {perc_list[5]}% ---- surprise {perc_list[6]}%')\n",
        "\n",
        "\n",
        "  return perc_list\n",
        "  #return sum(sketches_predictions)/len(sketches_predictions)"
      ]
    },
    {
      "cell_type": "code",
      "execution_count": null,
      "metadata": {
        "colab": {
          "base_uri": "https://localhost:8080/"
        },
        "id": "TtinFeERQzrN",
        "outputId": "8621fd0e-2fdd-4da2-9ae5-c31ffc32e0ce"
      },
      "outputs": [
        {
          "name": "stdout",
          "output_type": "stream",
          "text": [
            "[youtube] fFXSaaBS2kM: Downloading webpage\n",
            "[youtube] fFXSaaBS2kM: Downloading webpage\n",
            "[download] Destination: Sad Poems for Sorrowful Times-fFXSaaBS2kM.webm\n",
            "[download] 100% of 9.79MiB in 03:39\n",
            "[ffmpeg] Destination: Sad Poems for Sorrowful Times-fFXSaaBS2kM.wav\n",
            "Deleting original file Sad Poems for Sorrowful Times-fFXSaaBS2kM.webm (pass -k to keep)\n",
            "duration =  630\n",
            "[0, 0, 5, 0, 0, 0, 0, 0, 1, 0, 0, 0, 0, 0, 5, 5, 5, 0, 0, 1, 0, 0, 1, 0, 0, 0, 0, 0, 1, 0, 1, 0, 0, 1, 1, 5, 5, 5, 5, 1, 0, 0, 0, 5, 0, 5, 1, 5, 0, 0, 1, 0, 0, 0, 1, 5, 0, 0, 0, 0, 0, 0, 0, 0, 5, 5, 0, 5, 0, 0, 0, 0, 0, 0, 0, 0, 5, 5, 5, 0, 0, 1, 0, 0, 5, 5, 5, 0, 5, 0, 0, 0, 5, 0, 0, 0, 0, 5, 0, 0, 5, 5, 0, 5, 0, 0, 5, 0, 1, 1, 0, 0, 0, 0, 0, 0, 1, 5, 5, 0, 5, 0, 0, 5, 0, 5]\n",
            "sleepy 61.904761904761905% neutral 11.904761904761903% happy 0.0% angry 0.0% disgusted 0.0% fear 26.190476190476193% surprise\n"
          ]
        },
        {
          "data": {
            "text/plain": [
              "[61.904761904761905, 11.904761904761903, 0.0, 0.0, 0.0, 26.190476190476193]"
            ]
          },
          "execution_count": 173,
          "metadata": {},
          "output_type": "execute_result"
        }
      ],
      "source": [
        "Predict('https://www.youtube.com/watch?v=fFXSaaBS2kM&ab_channel=RedFrostMotivation' , model ,5 )"
      ]
    },
    {
      "cell_type": "code",
      "execution_count": null,
      "metadata": {
        "id": "YepkFOnXOTuS"
      },
      "outputs": [],
      "source": [
        "labels = ['sleepy','neutral','happy','angry','disgusted','fear', 'surprise']"
      ]
    },
    {
      "cell_type": "code",
      "execution_count": null,
      "metadata": {
        "colab": {
          "base_uri": "https://localhost:8080/"
        },
        "id": "8SX59HkaWJ2S",
        "outputId": "740bb3e2-3627-4508-8760-cdff02c2ebb5"
      },
      "outputs": [
        {
          "name": "stdout",
          "output_type": "stream",
          "text": [
            "sleepy 61.904761904761905% neutral 11.904761904761903% happy 0.0% angry 0.0% disgusted 0.0% fear 26.190476190476193% surprise\n"
          ]
        }
      ],
      "source": [
        "testing_pred = [0, 0, 5, 0, 0, 0, 0, 0, 1, 0, 0, 0, 0, 0, 5, 5, 5, 0, 0, 1, 0, 0, 1, 0, 0, 0, 0, 0, 1, 0, 1, 0, 0, 1, 1, 5, 5, 5, 5, 1, 0, 0, 0, 5, 0, 5, 1, 5, 0, 0, 1, 0, 0, 0, 1, 5, 0, 0, 0, 0, 0, 0, 0, 0, 5, 5, 0, 5, 0, 0, 0, 0, 0, 0, 0, 0, 5, 5, 5, 0, 0, 1, 0, 0, 5, 5, 5, 0, 5, 0, 0, 0, 5, 0, 0, 0, 0, 5, 0, 0, 5, 5, 0, 5, 0, 0, 5, 0, 1, 1, 0, 0, 0, 0, 0, 0, 1, 5, 5, 0, 5, 0, 0, 5, 0, 5]\n",
        "labels = ['sleepy','neutral','happy','angry','disgusted','fear', 'surprise']\n",
        "\n",
        "matching = {0: 0 , 1: 0 , 2: 0 , 3: 0 , 4: 0 , 5: 0 , 6: 0 }\n",
        "\n",
        "for i in testing_pred:\n",
        "  matching[i] = matching[i]+1\n",
        "\n",
        "perc_list = [ matching[i]/len(testing_pred)*100 for i in range(6)]\n",
        "perc_list\n",
        "print(f'sleepy {perc_list[0]}% neutral {perc_list[1]}% happy {perc_list[2]}% angry {perc_list[3]}% disgusted {perc_list[4]}% fear {perc_list[5]}% surprise')"
      ]
    }
  ],
  "metadata": {
    "colab": {
      "collapsed_sections": [
        "QXuppP1VlaH9",
        "VUI8J5K5OPa0",
        "85oQEs5S-ULZ"
      ],
      "name": "Capstone - Emotions classifier.ipynb",
      "provenance": [],
      "toc_visible": true,
      "include_colab_link": true
    },
    "kernelspec": {
      "display_name": "Python 3",
      "name": "python3"
    },
    "language_info": {
      "name": "python"
    }
  },
  "nbformat": 4,
  "nbformat_minor": 0
}