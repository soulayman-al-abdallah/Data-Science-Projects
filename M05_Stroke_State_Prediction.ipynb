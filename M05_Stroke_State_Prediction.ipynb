{
  "nbformat": 4,
  "nbformat_minor": 0,
  "metadata": {
    "colab": {
      "name": "M05-Stroke State Prediction.ipynb",
      "provenance": [],
      "collapsed_sections": [
        "d1GOfAgt4M-Q",
        "KICuY0lg5nUD",
        "AD57fE2n7QP4",
        "U5zevRH57X8v",
        "IImSYWQGBSz6",
        "ngJVLbRKG7U_",
        "mXf6cpO_KWTs"
      ],
      "toc_visible": true,
      "include_colab_link": true
    },
    "kernelspec": {
      "name": "python3",
      "display_name": "Python 3"
    },
    "language_info": {
      "name": "python"
    }
  },
  "cells": [
    {
      "cell_type": "markdown",
      "metadata": {
        "id": "view-in-github",
        "colab_type": "text"
      },
      "source": [
        "<a href=\"https://colab.research.google.com/github/soulayman-al-abdallah/Data-Science-Projects/blob/main/M05_Stroke_State_Prediction.ipynb\" target=\"_parent\"><img src=\"https://colab.research.google.com/assets/colab-badge.svg\" alt=\"Open In Colab\"/></a>"
      ]
    },
    {
      "cell_type": "markdown",
      "metadata": {
        "id": "0g2RQRSltgja"
      },
      "source": [
        "\n",
        "**Objective:** We will use deep learning to develop a solution that predicts if a person will have a stroke or not. And then, we'll try some improvement methods.\n"
      ]
    },
    {
      "cell_type": "markdown",
      "metadata": {
        "id": "SSCD88NxJjFo"
      },
      "source": [
        "**Dataset Explanation:** We will be using the stroke dataset. Its features are:\n",
        "\n",
        "\n",
        "* **id:** unique identifier\n",
        "* **gender:** \"Male\", \"Female\" or \"Other\"\n",
        "* **age:** age of the patient\n",
        "* **hypertension:** 0 if the patient doesn't have hypertension, 1 if the patient has hypertension\n",
        "* **heart_disease:** 0 if the patient doesn't have any heart diseases, 1 if the patient has a heart disease\n",
        "* **ever_married:** \"No\" or \"Yes\"\n",
        "* **work_type:** \"children\", \"Govt_jov\", \"Never_worked\", \"Private\" or \"Self-employed\"\n",
        "* **Residence_type:** \"Rural\" or \"Urban\"\n",
        "* **avg_glucose_level:** average glucose level in blood\n",
        "* **bmi:** body mass index\n",
        "* **smoking_status:** \"formerly smoked\", \"never smoked\", \"smokes\" or \"Unknown\"*\n",
        "* **stroke:** 1 if the patient had a stroke or 0 if not"
      ]
    },
    {
      "cell_type": "markdown",
      "metadata": {
        "id": "gBvX5nCYt8cT"
      },
      "source": [
        "#Importing Libraries"
      ]
    },
    {
      "cell_type": "code",
      "metadata": {
        "id": "mMQuUG7OtfrG"
      },
      "source": [
        "import numpy as np\n",
        "import pandas as pd"
      ],
      "execution_count": 1,
      "outputs": []
    },
    {
      "cell_type": "markdown",
      "metadata": {
        "id": "0-RxAH5auFFy"
      },
      "source": [
        "#Loading the Dataset"
      ]
    },
    {
      "cell_type": "code",
      "metadata": {
        "colab": {
          "base_uri": "https://localhost:8080/",
          "height": 206
        },
        "id": "UQVo1CAJt7s8",
        "outputId": "4a6c833a-6b77-462c-c0db-acb0ff096872"
      },
      "source": [
        "path = '/content/healthcare-dataset-stroke-data.csv'\n",
        "data = pd.read_csv(path)\n",
        "data.head()"
      ],
      "execution_count": 25,
      "outputs": [
        {
          "output_type": "execute_result",
          "data": {
            "text/plain": [
              "      id  gender   age  hypertension  heart_disease ever_married  \\\n",
              "0   9046    Male  67.0             0              1          Yes   \n",
              "1  51676  Female  61.0             0              0          Yes   \n",
              "2  31112    Male  80.0             0              1          Yes   \n",
              "3  60182  Female  49.0             0              0          Yes   \n",
              "4   1665  Female  79.0             1              0          Yes   \n",
              "\n",
              "       work_type Residence_type  avg_glucose_level   bmi   smoking_status  \\\n",
              "0        Private          Urban             228.69  36.6  formerly smoked   \n",
              "1  Self-employed          Rural             202.21   NaN     never smoked   \n",
              "2        Private          Rural             105.92  32.5     never smoked   \n",
              "3        Private          Urban             171.23  34.4           smokes   \n",
              "4  Self-employed          Rural             174.12  24.0     never smoked   \n",
              "\n",
              "   stroke  \n",
              "0       1  \n",
              "1       1  \n",
              "2       1  \n",
              "3       1  \n",
              "4       1  "
            ],
            "text/html": [
              "\n",
              "  <div id=\"df-55e9642d-9b54-4a1b-a34a-ad1a06b79951\">\n",
              "    <div class=\"colab-df-container\">\n",
              "      <div>\n",
              "<style scoped>\n",
              "    .dataframe tbody tr th:only-of-type {\n",
              "        vertical-align: middle;\n",
              "    }\n",
              "\n",
              "    .dataframe tbody tr th {\n",
              "        vertical-align: top;\n",
              "    }\n",
              "\n",
              "    .dataframe thead th {\n",
              "        text-align: right;\n",
              "    }\n",
              "</style>\n",
              "<table border=\"1\" class=\"dataframe\">\n",
              "  <thead>\n",
              "    <tr style=\"text-align: right;\">\n",
              "      <th></th>\n",
              "      <th>id</th>\n",
              "      <th>gender</th>\n",
              "      <th>age</th>\n",
              "      <th>hypertension</th>\n",
              "      <th>heart_disease</th>\n",
              "      <th>ever_married</th>\n",
              "      <th>work_type</th>\n",
              "      <th>Residence_type</th>\n",
              "      <th>avg_glucose_level</th>\n",
              "      <th>bmi</th>\n",
              "      <th>smoking_status</th>\n",
              "      <th>stroke</th>\n",
              "    </tr>\n",
              "  </thead>\n",
              "  <tbody>\n",
              "    <tr>\n",
              "      <th>0</th>\n",
              "      <td>9046</td>\n",
              "      <td>Male</td>\n",
              "      <td>67.0</td>\n",
              "      <td>0</td>\n",
              "      <td>1</td>\n",
              "      <td>Yes</td>\n",
              "      <td>Private</td>\n",
              "      <td>Urban</td>\n",
              "      <td>228.69</td>\n",
              "      <td>36.6</td>\n",
              "      <td>formerly smoked</td>\n",
              "      <td>1</td>\n",
              "    </tr>\n",
              "    <tr>\n",
              "      <th>1</th>\n",
              "      <td>51676</td>\n",
              "      <td>Female</td>\n",
              "      <td>61.0</td>\n",
              "      <td>0</td>\n",
              "      <td>0</td>\n",
              "      <td>Yes</td>\n",
              "      <td>Self-employed</td>\n",
              "      <td>Rural</td>\n",
              "      <td>202.21</td>\n",
              "      <td>NaN</td>\n",
              "      <td>never smoked</td>\n",
              "      <td>1</td>\n",
              "    </tr>\n",
              "    <tr>\n",
              "      <th>2</th>\n",
              "      <td>31112</td>\n",
              "      <td>Male</td>\n",
              "      <td>80.0</td>\n",
              "      <td>0</td>\n",
              "      <td>1</td>\n",
              "      <td>Yes</td>\n",
              "      <td>Private</td>\n",
              "      <td>Rural</td>\n",
              "      <td>105.92</td>\n",
              "      <td>32.5</td>\n",
              "      <td>never smoked</td>\n",
              "      <td>1</td>\n",
              "    </tr>\n",
              "    <tr>\n",
              "      <th>3</th>\n",
              "      <td>60182</td>\n",
              "      <td>Female</td>\n",
              "      <td>49.0</td>\n",
              "      <td>0</td>\n",
              "      <td>0</td>\n",
              "      <td>Yes</td>\n",
              "      <td>Private</td>\n",
              "      <td>Urban</td>\n",
              "      <td>171.23</td>\n",
              "      <td>34.4</td>\n",
              "      <td>smokes</td>\n",
              "      <td>1</td>\n",
              "    </tr>\n",
              "    <tr>\n",
              "      <th>4</th>\n",
              "      <td>1665</td>\n",
              "      <td>Female</td>\n",
              "      <td>79.0</td>\n",
              "      <td>1</td>\n",
              "      <td>0</td>\n",
              "      <td>Yes</td>\n",
              "      <td>Self-employed</td>\n",
              "      <td>Rural</td>\n",
              "      <td>174.12</td>\n",
              "      <td>24.0</td>\n",
              "      <td>never smoked</td>\n",
              "      <td>1</td>\n",
              "    </tr>\n",
              "  </tbody>\n",
              "</table>\n",
              "</div>\n",
              "      <button class=\"colab-df-convert\" onclick=\"convertToInteractive('df-55e9642d-9b54-4a1b-a34a-ad1a06b79951')\"\n",
              "              title=\"Convert this dataframe to an interactive table.\"\n",
              "              style=\"display:none;\">\n",
              "        \n",
              "  <svg xmlns=\"http://www.w3.org/2000/svg\" height=\"24px\"viewBox=\"0 0 24 24\"\n",
              "       width=\"24px\">\n",
              "    <path d=\"M0 0h24v24H0V0z\" fill=\"none\"/>\n",
              "    <path d=\"M18.56 5.44l.94 2.06.94-2.06 2.06-.94-2.06-.94-.94-2.06-.94 2.06-2.06.94zm-11 1L8.5 8.5l.94-2.06 2.06-.94-2.06-.94L8.5 2.5l-.94 2.06-2.06.94zm10 10l.94 2.06.94-2.06 2.06-.94-2.06-.94-.94-2.06-.94 2.06-2.06.94z\"/><path d=\"M17.41 7.96l-1.37-1.37c-.4-.4-.92-.59-1.43-.59-.52 0-1.04.2-1.43.59L10.3 9.45l-7.72 7.72c-.78.78-.78 2.05 0 2.83L4 21.41c.39.39.9.59 1.41.59.51 0 1.02-.2 1.41-.59l7.78-7.78 2.81-2.81c.8-.78.8-2.07 0-2.86zM5.41 20L4 18.59l7.72-7.72 1.47 1.35L5.41 20z\"/>\n",
              "  </svg>\n",
              "      </button>\n",
              "      \n",
              "  <style>\n",
              "    .colab-df-container {\n",
              "      display:flex;\n",
              "      flex-wrap:wrap;\n",
              "      gap: 12px;\n",
              "    }\n",
              "\n",
              "    .colab-df-convert {\n",
              "      background-color: #E8F0FE;\n",
              "      border: none;\n",
              "      border-radius: 50%;\n",
              "      cursor: pointer;\n",
              "      display: none;\n",
              "      fill: #1967D2;\n",
              "      height: 32px;\n",
              "      padding: 0 0 0 0;\n",
              "      width: 32px;\n",
              "    }\n",
              "\n",
              "    .colab-df-convert:hover {\n",
              "      background-color: #E2EBFA;\n",
              "      box-shadow: 0px 1px 2px rgba(60, 64, 67, 0.3), 0px 1px 3px 1px rgba(60, 64, 67, 0.15);\n",
              "      fill: #174EA6;\n",
              "    }\n",
              "\n",
              "    [theme=dark] .colab-df-convert {\n",
              "      background-color: #3B4455;\n",
              "      fill: #D2E3FC;\n",
              "    }\n",
              "\n",
              "    [theme=dark] .colab-df-convert:hover {\n",
              "      background-color: #434B5C;\n",
              "      box-shadow: 0px 1px 3px 1px rgba(0, 0, 0, 0.15);\n",
              "      filter: drop-shadow(0px 1px 2px rgba(0, 0, 0, 0.3));\n",
              "      fill: #FFFFFF;\n",
              "    }\n",
              "  </style>\n",
              "\n",
              "      <script>\n",
              "        const buttonEl =\n",
              "          document.querySelector('#df-55e9642d-9b54-4a1b-a34a-ad1a06b79951 button.colab-df-convert');\n",
              "        buttonEl.style.display =\n",
              "          google.colab.kernel.accessAllowed ? 'block' : 'none';\n",
              "\n",
              "        async function convertToInteractive(key) {\n",
              "          const element = document.querySelector('#df-55e9642d-9b54-4a1b-a34a-ad1a06b79951');\n",
              "          const dataTable =\n",
              "            await google.colab.kernel.invokeFunction('convertToInteractive',\n",
              "                                                     [key], {});\n",
              "          if (!dataTable) return;\n",
              "\n",
              "          const docLinkHtml = 'Like what you see? Visit the ' +\n",
              "            '<a target=\"_blank\" href=https://colab.research.google.com/notebooks/data_table.ipynb>data table notebook</a>'\n",
              "            + ' to learn more about interactive tables.';\n",
              "          element.innerHTML = '';\n",
              "          dataTable['output_type'] = 'display_data';\n",
              "          await google.colab.output.renderOutput(dataTable, element);\n",
              "          const docLink = document.createElement('div');\n",
              "          docLink.innerHTML = docLinkHtml;\n",
              "          element.appendChild(docLink);\n",
              "        }\n",
              "      </script>\n",
              "    </div>\n",
              "  </div>\n",
              "  "
            ]
          },
          "metadata": {},
          "execution_count": 25
        }
      ]
    },
    {
      "cell_type": "markdown",
      "metadata": {
        "id": "r6gAyBGtubI7"
      },
      "source": [
        "#Exploratory Data Analysis"
      ]
    },
    {
      "cell_type": "markdown",
      "metadata": {
        "id": "2925yVCdud0a"
      },
      "source": [
        "###Shape of the data"
      ]
    },
    {
      "cell_type": "code",
      "metadata": {
        "colab": {
          "base_uri": "https://localhost:8080/"
        },
        "id": "8pvWR3PKuQEy",
        "outputId": "26176d2b-1c26-47df-a20a-d9952acda56a"
      },
      "source": [
        "data.shape"
      ],
      "execution_count": 26,
      "outputs": [
        {
          "output_type": "execute_result",
          "data": {
            "text/plain": [
              "(5110, 12)"
            ]
          },
          "metadata": {},
          "execution_count": 26
        }
      ]
    },
    {
      "cell_type": "markdown",
      "metadata": {
        "id": "yUy4oI5xukRr"
      },
      "source": [
        "###Types of different Columns"
      ]
    },
    {
      "cell_type": "code",
      "metadata": {
        "colab": {
          "base_uri": "https://localhost:8080/"
        },
        "id": "_8snoohouhUP",
        "outputId": "de9375cb-c600-49f7-de4d-66bfdc789605"
      },
      "source": [
        "data.info()"
      ],
      "execution_count": 27,
      "outputs": [
        {
          "output_type": "stream",
          "name": "stdout",
          "text": [
            "<class 'pandas.core.frame.DataFrame'>\n",
            "RangeIndex: 5110 entries, 0 to 5109\n",
            "Data columns (total 12 columns):\n",
            " #   Column             Non-Null Count  Dtype  \n",
            "---  ------             --------------  -----  \n",
            " 0   id                 5110 non-null   int64  \n",
            " 1   gender             5110 non-null   object \n",
            " 2   age                5110 non-null   float64\n",
            " 3   hypertension       5110 non-null   int64  \n",
            " 4   heart_disease      5110 non-null   int64  \n",
            " 5   ever_married       5110 non-null   object \n",
            " 6   work_type          5110 non-null   object \n",
            " 7   Residence_type     5110 non-null   object \n",
            " 8   avg_glucose_level  5110 non-null   float64\n",
            " 9   bmi                4909 non-null   float64\n",
            " 10  smoking_status     5110 non-null   object \n",
            " 11  stroke             5110 non-null   int64  \n",
            "dtypes: float64(3), int64(4), object(5)\n",
            "memory usage: 479.2+ KB\n"
          ]
        }
      ]
    },
    {
      "cell_type": "markdown",
      "metadata": {
        "id": "nkrEh6RYygms"
      },
      "source": [
        "###Dealing with categorical variables"
      ]
    },
    {
      "cell_type": "code",
      "metadata": {
        "colab": {
          "base_uri": "https://localhost:8080/"
        },
        "id": "DlSfSQ35ykgc",
        "outputId": "e8649e85-059b-464f-c687-bfd7a3634b3f"
      },
      "source": [
        "data['smoking_status'].value_counts()"
      ],
      "execution_count": 28,
      "outputs": [
        {
          "output_type": "execute_result",
          "data": {
            "text/plain": [
              "never smoked       1892\n",
              "Unknown            1544\n",
              "formerly smoked     885\n",
              "smokes              789\n",
              "Name: smoking_status, dtype: int64"
            ]
          },
          "metadata": {},
          "execution_count": 28
        }
      ]
    },
    {
      "cell_type": "code",
      "metadata": {
        "colab": {
          "base_uri": "https://localhost:8080/"
        },
        "id": "Yg0xlLNUy7AF",
        "outputId": "ca18b65d-cf20-4ca0-f7db-4782e19c913a"
      },
      "source": [
        "data['Residence_type'].value_counts()"
      ],
      "execution_count": 29,
      "outputs": [
        {
          "output_type": "execute_result",
          "data": {
            "text/plain": [
              "Urban    2596\n",
              "Rural    2514\n",
              "Name: Residence_type, dtype: int64"
            ]
          },
          "metadata": {},
          "execution_count": 29
        }
      ]
    },
    {
      "cell_type": "code",
      "metadata": {
        "colab": {
          "base_uri": "https://localhost:8080/"
        },
        "id": "T72r_mkrzF9V",
        "outputId": "2a8cdb65-c1c6-42a8-c9b8-6f94409fa1e6"
      },
      "source": [
        "data['work_type'].value_counts()"
      ],
      "execution_count": 30,
      "outputs": [
        {
          "output_type": "execute_result",
          "data": {
            "text/plain": [
              "Private          2925\n",
              "Self-employed     819\n",
              "children          687\n",
              "Govt_job          657\n",
              "Never_worked       22\n",
              "Name: work_type, dtype: int64"
            ]
          },
          "metadata": {},
          "execution_count": 30
        }
      ]
    },
    {
      "cell_type": "code",
      "metadata": {
        "colab": {
          "base_uri": "https://localhost:8080/"
        },
        "id": "Z0kpR57LzQE9",
        "outputId": "6cd88482-be21-4392-f1e2-71f75571925b"
      },
      "source": [
        "data['ever_married'].value_counts()"
      ],
      "execution_count": 31,
      "outputs": [
        {
          "output_type": "execute_result",
          "data": {
            "text/plain": [
              "Yes    3353\n",
              "No     1757\n",
              "Name: ever_married, dtype: int64"
            ]
          },
          "metadata": {},
          "execution_count": 31
        }
      ]
    },
    {
      "cell_type": "code",
      "metadata": {
        "colab": {
          "base_uri": "https://localhost:8080/"
        },
        "id": "fQIoAs8y3igG",
        "outputId": "f0ab4125-206f-4fc1-8421-f21f37d278b2"
      },
      "source": [
        "data['hypertension'].value_counts()"
      ],
      "execution_count": 32,
      "outputs": [
        {
          "output_type": "execute_result",
          "data": {
            "text/plain": [
              "0    4612\n",
              "1     498\n",
              "Name: hypertension, dtype: int64"
            ]
          },
          "metadata": {},
          "execution_count": 32
        }
      ]
    },
    {
      "cell_type": "code",
      "metadata": {
        "colab": {
          "base_uri": "https://localhost:8080/"
        },
        "id": "xEhNH46j3p3Y",
        "outputId": "08fa40e9-e5af-4c58-d890-cf4be43bfc2c"
      },
      "source": [
        "data['heart_disease'].value_counts()"
      ],
      "execution_count": 33,
      "outputs": [
        {
          "output_type": "execute_result",
          "data": {
            "text/plain": [
              "0    4834\n",
              "1     276\n",
              "Name: heart_disease, dtype: int64"
            ]
          },
          "metadata": {},
          "execution_count": 33
        }
      ]
    },
    {
      "cell_type": "code",
      "metadata": {
        "colab": {
          "base_uri": "https://localhost:8080/"
        },
        "id": "8cI7uJvA3Njv",
        "outputId": "ff0fdf01-19c1-43a2-b910-5581ca87323b"
      },
      "source": [
        "data ['stroke'].value_counts()"
      ],
      "execution_count": 34,
      "outputs": [
        {
          "output_type": "execute_result",
          "data": {
            "text/plain": [
              "0    4861\n",
              "1     249\n",
              "Name: stroke, dtype: int64"
            ]
          },
          "metadata": {},
          "execution_count": 34
        }
      ]
    },
    {
      "cell_type": "markdown",
      "metadata": {
        "id": "_jFIiKPvllld"
      },
      "source": [
        "#Preprocessing"
      ]
    },
    {
      "cell_type": "markdown",
      "metadata": {
        "id": "JsQQj-wVlkjS"
      },
      "source": [
        "###Dealing with Nulls"
      ]
    },
    {
      "cell_type": "code",
      "metadata": {
        "id": "7UDrnGK6lYiE",
        "colab": {
          "base_uri": "https://localhost:8080/"
        },
        "outputId": "02df5b1a-7c45-4768-d8c8-405ed4446667"
      },
      "source": [
        "# fill the nulls of bmi column with the mean value\n",
        "data['bmi'].fillna(value=data['bmi'].mean(), inplace=True)\n",
        "data.isnull().sum()"
      ],
      "execution_count": 35,
      "outputs": [
        {
          "output_type": "execute_result",
          "data": {
            "text/plain": [
              "id                   0\n",
              "gender               0\n",
              "age                  0\n",
              "hypertension         0\n",
              "heart_disease        0\n",
              "ever_married         0\n",
              "work_type            0\n",
              "Residence_type       0\n",
              "avg_glucose_level    0\n",
              "bmi                  0\n",
              "smoking_status       0\n",
              "stroke               0\n",
              "dtype: int64"
            ]
          },
          "metadata": {},
          "execution_count": 35
        }
      ]
    },
    {
      "cell_type": "markdown",
      "metadata": {
        "id": "21da4C_Bzd-u"
      },
      "source": [
        "####Encoding Categorical Features"
      ]
    },
    {
      "cell_type": "markdown",
      "metadata": {
        "id": "UaNk4gWCLqe4"
      },
      "source": [
        "Here we will encode those categorical variables to be able to use them to train our DL model."
      ]
    },
    {
      "cell_type": "code",
      "metadata": {
        "id": "6nJtOvxdzi_G"
      },
      "source": [
        "# encode those categorical variables to be able to use them to train our DL model\n",
        "\n",
        "from sklearn import preprocessing\n",
        "\n",
        "encoder = preprocessing.LabelEncoder()\n",
        "data['smoking_status'] = encoder.fit_transform(data['smoking_status'])\n",
        "data['Residence_type'] = encoder.fit_transform(data['Residence_type'])\n",
        "data['work_type'] = encoder.fit_transform(data['work_type'])\n",
        "data['ever_married'] = encoder.fit_transform(data['ever_married'])\n",
        "data['gender'] = encoder.fit_transform(data['gender'])"
      ],
      "execution_count": 36,
      "outputs": []
    },
    {
      "cell_type": "markdown",
      "metadata": {
        "id": "d1GOfAgt4M-Q"
      },
      "source": [
        "###Normalizing Features"
      ]
    },
    {
      "cell_type": "markdown",
      "metadata": {
        "id": "EPpkMCXELwty"
      },
      "source": [
        "Now we normalize the input data by dividing with the max value of each column."
      ]
    },
    {
      "cell_type": "code",
      "metadata": {
        "colab": {
          "base_uri": "https://localhost:8080/",
          "height": 0
        },
        "id": "BtI_XA-m33Bx",
        "outputId": "b4154e88-20dd-40ac-b58c-a2b920703691"
      },
      "source": [
        "data = data.divide(data.max(axis=0))\n",
        "\n",
        "data.describe()"
      ],
      "execution_count": 37,
      "outputs": [
        {
          "output_type": "execute_result",
          "data": {
            "text/plain": [
              "                id       gender          age  hypertension  heart_disease  \\\n",
              "count  5110.000000  5110.000000  5110.000000   5110.000000    5110.000000   \n",
              "mean      0.500656     0.207143     0.527154      0.097456       0.054012   \n",
              "std       0.290125     0.246522     0.275764      0.296607       0.226063   \n",
              "min       0.000919     0.000000     0.000976      0.000000       0.000000   \n",
              "25%       0.243231     0.000000     0.304878      0.000000       0.000000   \n",
              "50%       0.506334     0.000000     0.548780      0.000000       0.000000   \n",
              "75%       0.749685     0.500000     0.743902      0.000000       0.000000   \n",
              "max       1.000000     1.000000     1.000000      1.000000       1.000000   \n",
              "\n",
              "       ever_married    work_type  Residence_type  avg_glucose_level  \\\n",
              "count   5110.000000  5110.000000     5110.000000        5110.000000   \n",
              "mean       0.656164     0.541928        0.508023           0.390622   \n",
              "std        0.475034     0.272573        0.499985           0.166643   \n",
              "min        0.000000     0.000000        0.000000           0.202841   \n",
              "25%        0.000000     0.500000        0.000000           0.284261   \n",
              "50%        1.000000     0.500000        1.000000           0.338136   \n",
              "75%        1.000000     0.750000        1.000000           0.419850   \n",
              "max        1.000000     1.000000        1.000000           1.000000   \n",
              "\n",
              "               bmi  smoking_status       stroke  \n",
              "count  5110.000000     5110.000000  5110.000000  \n",
              "mean      0.296037        0.458969     0.048728  \n",
              "std       0.078873        0.357178     0.215320  \n",
              "min       0.105533        0.000000     0.000000  \n",
              "25%       0.243852        0.000000     0.000000  \n",
              "50%       0.290984        0.666667     0.000000  \n",
              "75%       0.336066        0.666667     0.000000  \n",
              "max       1.000000        1.000000     1.000000  "
            ],
            "text/html": [
              "\n",
              "  <div id=\"df-bc71faa3-65f9-47ef-9ab3-0d489b2acdb5\">\n",
              "    <div class=\"colab-df-container\">\n",
              "      <div>\n",
              "<style scoped>\n",
              "    .dataframe tbody tr th:only-of-type {\n",
              "        vertical-align: middle;\n",
              "    }\n",
              "\n",
              "    .dataframe tbody tr th {\n",
              "        vertical-align: top;\n",
              "    }\n",
              "\n",
              "    .dataframe thead th {\n",
              "        text-align: right;\n",
              "    }\n",
              "</style>\n",
              "<table border=\"1\" class=\"dataframe\">\n",
              "  <thead>\n",
              "    <tr style=\"text-align: right;\">\n",
              "      <th></th>\n",
              "      <th>id</th>\n",
              "      <th>gender</th>\n",
              "      <th>age</th>\n",
              "      <th>hypertension</th>\n",
              "      <th>heart_disease</th>\n",
              "      <th>ever_married</th>\n",
              "      <th>work_type</th>\n",
              "      <th>Residence_type</th>\n",
              "      <th>avg_glucose_level</th>\n",
              "      <th>bmi</th>\n",
              "      <th>smoking_status</th>\n",
              "      <th>stroke</th>\n",
              "    </tr>\n",
              "  </thead>\n",
              "  <tbody>\n",
              "    <tr>\n",
              "      <th>count</th>\n",
              "      <td>5110.000000</td>\n",
              "      <td>5110.000000</td>\n",
              "      <td>5110.000000</td>\n",
              "      <td>5110.000000</td>\n",
              "      <td>5110.000000</td>\n",
              "      <td>5110.000000</td>\n",
              "      <td>5110.000000</td>\n",
              "      <td>5110.000000</td>\n",
              "      <td>5110.000000</td>\n",
              "      <td>5110.000000</td>\n",
              "      <td>5110.000000</td>\n",
              "      <td>5110.000000</td>\n",
              "    </tr>\n",
              "    <tr>\n",
              "      <th>mean</th>\n",
              "      <td>0.500656</td>\n",
              "      <td>0.207143</td>\n",
              "      <td>0.527154</td>\n",
              "      <td>0.097456</td>\n",
              "      <td>0.054012</td>\n",
              "      <td>0.656164</td>\n",
              "      <td>0.541928</td>\n",
              "      <td>0.508023</td>\n",
              "      <td>0.390622</td>\n",
              "      <td>0.296037</td>\n",
              "      <td>0.458969</td>\n",
              "      <td>0.048728</td>\n",
              "    </tr>\n",
              "    <tr>\n",
              "      <th>std</th>\n",
              "      <td>0.290125</td>\n",
              "      <td>0.246522</td>\n",
              "      <td>0.275764</td>\n",
              "      <td>0.296607</td>\n",
              "      <td>0.226063</td>\n",
              "      <td>0.475034</td>\n",
              "      <td>0.272573</td>\n",
              "      <td>0.499985</td>\n",
              "      <td>0.166643</td>\n",
              "      <td>0.078873</td>\n",
              "      <td>0.357178</td>\n",
              "      <td>0.215320</td>\n",
              "    </tr>\n",
              "    <tr>\n",
              "      <th>min</th>\n",
              "      <td>0.000919</td>\n",
              "      <td>0.000000</td>\n",
              "      <td>0.000976</td>\n",
              "      <td>0.000000</td>\n",
              "      <td>0.000000</td>\n",
              "      <td>0.000000</td>\n",
              "      <td>0.000000</td>\n",
              "      <td>0.000000</td>\n",
              "      <td>0.202841</td>\n",
              "      <td>0.105533</td>\n",
              "      <td>0.000000</td>\n",
              "      <td>0.000000</td>\n",
              "    </tr>\n",
              "    <tr>\n",
              "      <th>25%</th>\n",
              "      <td>0.243231</td>\n",
              "      <td>0.000000</td>\n",
              "      <td>0.304878</td>\n",
              "      <td>0.000000</td>\n",
              "      <td>0.000000</td>\n",
              "      <td>0.000000</td>\n",
              "      <td>0.500000</td>\n",
              "      <td>0.000000</td>\n",
              "      <td>0.284261</td>\n",
              "      <td>0.243852</td>\n",
              "      <td>0.000000</td>\n",
              "      <td>0.000000</td>\n",
              "    </tr>\n",
              "    <tr>\n",
              "      <th>50%</th>\n",
              "      <td>0.506334</td>\n",
              "      <td>0.000000</td>\n",
              "      <td>0.548780</td>\n",
              "      <td>0.000000</td>\n",
              "      <td>0.000000</td>\n",
              "      <td>1.000000</td>\n",
              "      <td>0.500000</td>\n",
              "      <td>1.000000</td>\n",
              "      <td>0.338136</td>\n",
              "      <td>0.290984</td>\n",
              "      <td>0.666667</td>\n",
              "      <td>0.000000</td>\n",
              "    </tr>\n",
              "    <tr>\n",
              "      <th>75%</th>\n",
              "      <td>0.749685</td>\n",
              "      <td>0.500000</td>\n",
              "      <td>0.743902</td>\n",
              "      <td>0.000000</td>\n",
              "      <td>0.000000</td>\n",
              "      <td>1.000000</td>\n",
              "      <td>0.750000</td>\n",
              "      <td>1.000000</td>\n",
              "      <td>0.419850</td>\n",
              "      <td>0.336066</td>\n",
              "      <td>0.666667</td>\n",
              "      <td>0.000000</td>\n",
              "    </tr>\n",
              "    <tr>\n",
              "      <th>max</th>\n",
              "      <td>1.000000</td>\n",
              "      <td>1.000000</td>\n",
              "      <td>1.000000</td>\n",
              "      <td>1.000000</td>\n",
              "      <td>1.000000</td>\n",
              "      <td>1.000000</td>\n",
              "      <td>1.000000</td>\n",
              "      <td>1.000000</td>\n",
              "      <td>1.000000</td>\n",
              "      <td>1.000000</td>\n",
              "      <td>1.000000</td>\n",
              "      <td>1.000000</td>\n",
              "    </tr>\n",
              "  </tbody>\n",
              "</table>\n",
              "</div>\n",
              "      <button class=\"colab-df-convert\" onclick=\"convertToInteractive('df-bc71faa3-65f9-47ef-9ab3-0d489b2acdb5')\"\n",
              "              title=\"Convert this dataframe to an interactive table.\"\n",
              "              style=\"display:none;\">\n",
              "        \n",
              "  <svg xmlns=\"http://www.w3.org/2000/svg\" height=\"24px\"viewBox=\"0 0 24 24\"\n",
              "       width=\"24px\">\n",
              "    <path d=\"M0 0h24v24H0V0z\" fill=\"none\"/>\n",
              "    <path d=\"M18.56 5.44l.94 2.06.94-2.06 2.06-.94-2.06-.94-.94-2.06-.94 2.06-2.06.94zm-11 1L8.5 8.5l.94-2.06 2.06-.94-2.06-.94L8.5 2.5l-.94 2.06-2.06.94zm10 10l.94 2.06.94-2.06 2.06-.94-2.06-.94-.94-2.06-.94 2.06-2.06.94z\"/><path d=\"M17.41 7.96l-1.37-1.37c-.4-.4-.92-.59-1.43-.59-.52 0-1.04.2-1.43.59L10.3 9.45l-7.72 7.72c-.78.78-.78 2.05 0 2.83L4 21.41c.39.39.9.59 1.41.59.51 0 1.02-.2 1.41-.59l7.78-7.78 2.81-2.81c.8-.78.8-2.07 0-2.86zM5.41 20L4 18.59l7.72-7.72 1.47 1.35L5.41 20z\"/>\n",
              "  </svg>\n",
              "      </button>\n",
              "      \n",
              "  <style>\n",
              "    .colab-df-container {\n",
              "      display:flex;\n",
              "      flex-wrap:wrap;\n",
              "      gap: 12px;\n",
              "    }\n",
              "\n",
              "    .colab-df-convert {\n",
              "      background-color: #E8F0FE;\n",
              "      border: none;\n",
              "      border-radius: 50%;\n",
              "      cursor: pointer;\n",
              "      display: none;\n",
              "      fill: #1967D2;\n",
              "      height: 32px;\n",
              "      padding: 0 0 0 0;\n",
              "      width: 32px;\n",
              "    }\n",
              "\n",
              "    .colab-df-convert:hover {\n",
              "      background-color: #E2EBFA;\n",
              "      box-shadow: 0px 1px 2px rgba(60, 64, 67, 0.3), 0px 1px 3px 1px rgba(60, 64, 67, 0.15);\n",
              "      fill: #174EA6;\n",
              "    }\n",
              "\n",
              "    [theme=dark] .colab-df-convert {\n",
              "      background-color: #3B4455;\n",
              "      fill: #D2E3FC;\n",
              "    }\n",
              "\n",
              "    [theme=dark] .colab-df-convert:hover {\n",
              "      background-color: #434B5C;\n",
              "      box-shadow: 0px 1px 3px 1px rgba(0, 0, 0, 0.15);\n",
              "      filter: drop-shadow(0px 1px 2px rgba(0, 0, 0, 0.3));\n",
              "      fill: #FFFFFF;\n",
              "    }\n",
              "  </style>\n",
              "\n",
              "      <script>\n",
              "        const buttonEl =\n",
              "          document.querySelector('#df-bc71faa3-65f9-47ef-9ab3-0d489b2acdb5 button.colab-df-convert');\n",
              "        buttonEl.style.display =\n",
              "          google.colab.kernel.accessAllowed ? 'block' : 'none';\n",
              "\n",
              "        async function convertToInteractive(key) {\n",
              "          const element = document.querySelector('#df-bc71faa3-65f9-47ef-9ab3-0d489b2acdb5');\n",
              "          const dataTable =\n",
              "            await google.colab.kernel.invokeFunction('convertToInteractive',\n",
              "                                                     [key], {});\n",
              "          if (!dataTable) return;\n",
              "\n",
              "          const docLinkHtml = 'Like what you see? Visit the ' +\n",
              "            '<a target=\"_blank\" href=https://colab.research.google.com/notebooks/data_table.ipynb>data table notebook</a>'\n",
              "            + ' to learn more about interactive tables.';\n",
              "          element.innerHTML = '';\n",
              "          dataTable['output_type'] = 'display_data';\n",
              "          await google.colab.output.renderOutput(dataTable, element);\n",
              "          const docLink = document.createElement('div');\n",
              "          docLink.innerHTML = docLinkHtml;\n",
              "          element.appendChild(docLink);\n",
              "        }\n",
              "      </script>\n",
              "    </div>\n",
              "  </div>\n",
              "  "
            ]
          },
          "metadata": {},
          "execution_count": 37
        }
      ]
    },
    {
      "cell_type": "markdown",
      "metadata": {
        "id": "KICuY0lg5nUD"
      },
      "source": [
        "###Removing Unnecessary Features"
      ]
    },
    {
      "cell_type": "code",
      "metadata": {
        "id": "8AHNqYbh5sE7"
      },
      "source": [
        "# we can remove the ID feature because it's irrelevant to our predictions\n",
        "data = data.drop('id', axis=1)"
      ],
      "execution_count": 38,
      "outputs": []
    },
    {
      "cell_type": "markdown",
      "metadata": {
        "id": "5k-KoLpH5C9R"
      },
      "source": [
        "#Building the DL Model"
      ]
    },
    {
      "cell_type": "code",
      "metadata": {
        "colab": {
          "base_uri": "https://localhost:8080/"
        },
        "id": "AZvKqqT65E0W",
        "outputId": "0536631b-abdb-4ff4-e98b-3e135f8ae844"
      },
      "source": [
        "import tensorflow as tf\n",
        "from tensorflow.keras.models import Sequential\n",
        "from tensorflow.keras.layers import Dense\n",
        "\n",
        "model = Sequential()\n",
        "\n",
        "model.add(Dense(32, input_dim=10, activation='relu'))\n",
        "model.add(Dense(16, activation='relu'))\n",
        "model.add(Dense(8, activation='relu'))\n",
        "model.add(Dense(4, activation='relu'))\n",
        "model.add(Dense(2, activation='relu'))\n",
        "model.add(Dense(1, activation='sigmoid'))\n",
        "\n",
        "model.summary()"
      ],
      "execution_count": 39,
      "outputs": [
        {
          "output_type": "stream",
          "name": "stdout",
          "text": [
            "Model: \"sequential_1\"\n",
            "_________________________________________________________________\n",
            " Layer (type)                Output Shape              Param #   \n",
            "=================================================================\n",
            " dense_6 (Dense)             (None, 32)                352       \n",
            "                                                                 \n",
            " dense_7 (Dense)             (None, 16)                528       \n",
            "                                                                 \n",
            " dense_8 (Dense)             (None, 8)                 136       \n",
            "                                                                 \n",
            " dense_9 (Dense)             (None, 4)                 36        \n",
            "                                                                 \n",
            " dense_10 (Dense)            (None, 2)                 10        \n",
            "                                                                 \n",
            " dense_11 (Dense)            (None, 1)                 3         \n",
            "                                                                 \n",
            "=================================================================\n",
            "Total params: 1,065\n",
            "Trainable params: 1,065\n",
            "Non-trainable params: 0\n",
            "_________________________________________________________________\n"
          ]
        }
      ]
    },
    {
      "cell_type": "markdown",
      "metadata": {
        "id": "AD57fE2n7QP4"
      },
      "source": [
        "###Compiling the model"
      ]
    },
    {
      "cell_type": "code",
      "metadata": {
        "id": "woSsSTEm61_U"
      },
      "source": [
        "#compile the model & we want to measure the accuracy, precision and recall to know better about the performance of our model.\n",
        "model.compile(optimizer='adam',\n",
        "              loss='binary_crossentropy',\n",
        "              metrics=['accuracy', tf.keras.metrics.Precision(), tf.keras.metrics.Recall()])"
      ],
      "execution_count": 40,
      "outputs": []
    },
    {
      "cell_type": "markdown",
      "metadata": {
        "id": "U5zevRH57X8v"
      },
      "source": [
        "###Fitting the data"
      ]
    },
    {
      "cell_type": "code",
      "metadata": {
        "colab": {
          "base_uri": "https://localhost:8080/"
        },
        "id": "rsVOVfn47MLn",
        "outputId": "423fa79c-5784-44e5-ac80-465545446808"
      },
      "source": [
        "#we take the first columns as features and the last column as a label, then we split our dataset between training and testing, \n",
        "#and we fit the model on training data, and validate on the testing data. The training happens for 15 epochs.\n",
        "\n",
        "from sklearn.model_selection import train_test_split\n",
        "\n",
        "x = data.iloc[:,:-1]\n",
        "y = data.iloc[:, -1]\n",
        "\n",
        "x_train, x_test, y_train, y_test = train_test_split(x, y, test_size=0.3)\n",
        "\n",
        "model.fit(x_train, y_train, validation_data=(x_test, y_test), epochs=15)"
      ],
      "execution_count": 41,
      "outputs": [
        {
          "output_type": "stream",
          "name": "stdout",
          "text": [
            "Epoch 1/15\n",
            "112/112 [==============================] - 2s 7ms/step - loss: 0.2830 - accuracy: 0.9514 - precision_2: 0.0000e+00 - recall_2: 0.0000e+00 - val_loss: 0.2057 - val_accuracy: 0.9511 - val_precision_2: 0.0000e+00 - val_recall_2: 0.0000e+00\n",
            "Epoch 2/15\n",
            "112/112 [==============================] - 0s 4ms/step - loss: 0.1933 - accuracy: 0.9514 - precision_2: 0.0000e+00 - recall_2: 0.0000e+00 - val_loss: 0.1866 - val_accuracy: 0.9511 - val_precision_2: 0.0000e+00 - val_recall_2: 0.0000e+00\n",
            "Epoch 3/15\n",
            "112/112 [==============================] - 0s 3ms/step - loss: 0.1799 - accuracy: 0.9514 - precision_2: 0.0000e+00 - recall_2: 0.0000e+00 - val_loss: 0.1753 - val_accuracy: 0.9511 - val_precision_2: 0.0000e+00 - val_recall_2: 0.0000e+00\n",
            "Epoch 4/15\n",
            "112/112 [==============================] - 0s 3ms/step - loss: 0.1732 - accuracy: 0.9514 - precision_2: 0.0000e+00 - recall_2: 0.0000e+00 - val_loss: 0.1702 - val_accuracy: 0.9511 - val_precision_2: 0.0000e+00 - val_recall_2: 0.0000e+00\n",
            "Epoch 5/15\n",
            "112/112 [==============================] - 0s 4ms/step - loss: 0.1686 - accuracy: 0.9514 - precision_2: 0.0000e+00 - recall_2: 0.0000e+00 - val_loss: 0.1670 - val_accuracy: 0.9511 - val_precision_2: 0.0000e+00 - val_recall_2: 0.0000e+00\n",
            "Epoch 6/15\n",
            "112/112 [==============================] - 0s 3ms/step - loss: 0.1648 - accuracy: 0.9514 - precision_2: 0.0000e+00 - recall_2: 0.0000e+00 - val_loss: 0.1653 - val_accuracy: 0.9511 - val_precision_2: 0.0000e+00 - val_recall_2: 0.0000e+00\n",
            "Epoch 7/15\n",
            "112/112 [==============================] - 0s 4ms/step - loss: 0.1623 - accuracy: 0.9514 - precision_2: 0.0000e+00 - recall_2: 0.0000e+00 - val_loss: 0.1632 - val_accuracy: 0.9511 - val_precision_2: 0.0000e+00 - val_recall_2: 0.0000e+00\n",
            "Epoch 8/15\n",
            "112/112 [==============================] - 0s 3ms/step - loss: 0.1598 - accuracy: 0.9514 - precision_2: 0.0000e+00 - recall_2: 0.0000e+00 - val_loss: 0.1611 - val_accuracy: 0.9511 - val_precision_2: 0.0000e+00 - val_recall_2: 0.0000e+00\n",
            "Epoch 9/15\n",
            "112/112 [==============================] - 0s 3ms/step - loss: 0.1599 - accuracy: 0.9514 - precision_2: 0.0000e+00 - recall_2: 0.0000e+00 - val_loss: 0.1611 - val_accuracy: 0.9511 - val_precision_2: 0.0000e+00 - val_recall_2: 0.0000e+00\n",
            "Epoch 10/15\n",
            "112/112 [==============================] - 0s 4ms/step - loss: 0.1565 - accuracy: 0.9514 - precision_2: 0.0000e+00 - recall_2: 0.0000e+00 - val_loss: 0.1630 - val_accuracy: 0.9511 - val_precision_2: 0.0000e+00 - val_recall_2: 0.0000e+00\n",
            "Epoch 11/15\n",
            "112/112 [==============================] - 0s 3ms/step - loss: 0.1574 - accuracy: 0.9514 - precision_2: 0.0000e+00 - recall_2: 0.0000e+00 - val_loss: 0.1615 - val_accuracy: 0.9511 - val_precision_2: 0.0000e+00 - val_recall_2: 0.0000e+00\n",
            "Epoch 12/15\n",
            "112/112 [==============================] - 0s 3ms/step - loss: 0.1564 - accuracy: 0.9514 - precision_2: 0.0000e+00 - recall_2: 0.0000e+00 - val_loss: 0.1621 - val_accuracy: 0.9511 - val_precision_2: 0.0000e+00 - val_recall_2: 0.0000e+00\n",
            "Epoch 13/15\n",
            "112/112 [==============================] - 0s 3ms/step - loss: 0.1565 - accuracy: 0.9514 - precision_2: 0.0000e+00 - recall_2: 0.0000e+00 - val_loss: 0.1604 - val_accuracy: 0.9511 - val_precision_2: 0.0000e+00 - val_recall_2: 0.0000e+00\n",
            "Epoch 14/15\n",
            "112/112 [==============================] - 0s 3ms/step - loss: 0.1548 - accuracy: 0.9514 - precision_2: 0.0000e+00 - recall_2: 0.0000e+00 - val_loss: 0.1611 - val_accuracy: 0.9511 - val_precision_2: 0.0000e+00 - val_recall_2: 0.0000e+00\n",
            "Epoch 15/15\n",
            "112/112 [==============================] - 0s 3ms/step - loss: 0.1542 - accuracy: 0.9514 - precision_2: 0.0000e+00 - recall_2: 0.0000e+00 - val_loss: 0.1638 - val_accuracy: 0.9511 - val_precision_2: 0.0000e+00 - val_recall_2: 0.0000e+00\n"
          ]
        },
        {
          "output_type": "execute_result",
          "data": {
            "text/plain": [
              "<keras.callbacks.History at 0x7fbbdb052fd0>"
            ]
          },
          "metadata": {},
          "execution_count": 41
        }
      ]
    },
    {
      "cell_type": "markdown",
      "metadata": {
        "id": "_sPVIoABAa8Q"
      },
      "source": [
        "**▶  We can see that:**\n",
        "\n",
        "We have a precision and a recall so close to zero, which means the model is not predicting any positive value, so we need to improve it."
      ]
    },
    {
      "cell_type": "markdown",
      "source": [
        "\n",
        "\n",
        "---\n",
        "\n"
      ],
      "metadata": {
        "id": "JF0Y0VOpwgu5"
      }
    },
    {
      "cell_type": "markdown",
      "metadata": {
        "id": "voqUo00lAqCZ"
      },
      "source": [
        "#Improving DL Models"
      ]
    },
    {
      "cell_type": "markdown",
      "metadata": {
        "id": "IImSYWQGBSz6"
      },
      "source": [
        "###Checking For Data Imbalance"
      ]
    },
    {
      "cell_type": "markdown",
      "metadata": {
        "id": "ZHxCONODMkNN"
      },
      "source": [
        "We check for imbalance because we have a poor recall and precision."
      ]
    },
    {
      "cell_type": "code",
      "metadata": {
        "colab": {
          "base_uri": "https://localhost:8080/",
          "height": 283
        },
        "id": "1bF6G8c58SOE",
        "outputId": "4e71a9ef-9a47-4f87-bf20-e26caad5102b"
      },
      "source": [
        "#checking if there is an imbalance case by visualizing the stroke data using a histogram\n",
        "data['stroke'].hist()"
      ],
      "execution_count": 21,
      "outputs": [
        {
          "output_type": "execute_result",
          "data": {
            "text/plain": [
              "<matplotlib.axes._subplots.AxesSubplot at 0x7fbbddb04b90>"
            ]
          },
          "metadata": {},
          "execution_count": 21
        },
        {
          "output_type": "display_data",
          "data": {
            "text/plain": [
              "<Figure size 432x288 with 1 Axes>"
            ],
            "image/png": "[encoded data removed]"
          },
          "metadata": {
            "needs_background": "light"
          }
        }
      ]
    },
    {
      "cell_type": "markdown",
      "metadata": {
        "id": "gzZBB5GMCOld"
      },
      "source": [
        "**▶ We can say that:**\n",
        "\n",
        "We have a huge imbalance in the data, this is why we fix it with oversamppling and undersampling.\n",
        "\n",
        "We will oversample this time using the SMOTE() function instead of random oversampling, and this is because SMOTE will generate new data based on the data that we have, so we avoid overfitting."
      ]
    },
    {
      "cell_type": "code",
      "metadata": {
        "colab": {
          "base_uri": "https://localhost:8080/",
          "height": 337
        },
        "id": "US4xON4LBX8I",
        "outputId": "fc751283-0bf9-48dd-f265-c0e8227914c4"
      },
      "source": [
        "from imblearn.over_sampling import SMOTE\n",
        "import matplotlib.pyplot as plt\n",
        "\n",
        "\n",
        "over = SMOTE()\n",
        "x_new, y_new = over.fit_resample(x, y)\n",
        "\n",
        "plt.hist([y_new])"
      ],
      "execution_count": 42,
      "outputs": [
        {
          "output_type": "execute_result",
          "data": {
            "text/plain": [
              "(array([4861.,    0.,    0.,    0.,    0.,    0.,    0.,    0.,    0.,\n",
              "        4861.]),\n",
              " array([0. , 0.1, 0.2, 0.3, 0.4, 0.5, 0.6, 0.7, 0.8, 0.9, 1. ]),\n",
              " <a list of 10 Patch objects>)"
            ]
          },
          "metadata": {},
          "execution_count": 42
        },
        {
          "output_type": "display_data",
          "data": {
            "text/plain": [
              "<Figure size 432x288 with 1 Axes>"
            ],
            "image/png": "[encoded data removed]"
          },
          "metadata": {
            "needs_background": "light"
          }
        }
      ]
    },
    {
      "cell_type": "markdown",
      "metadata": {
        "id": "u6MOHwo_Ew08"
      },
      "source": [
        "Now we will fit our same model on the new data that we have."
      ]
    },
    {
      "cell_type": "code",
      "metadata": {
        "colab": {
          "base_uri": "https://localhost:8080/"
        },
        "id": "26YTispLEm9N",
        "outputId": "9b243bd4-b375-41ec-f573-cb445847ef13"
      },
      "source": [
        "x_train, x_test, y_train, y_test = train_test_split(x_new, y_new, test_size=0.3)\n",
        "\n",
        "model.fit(x_train, y_train, validation_data=(x_test, y_test), epochs=15)"
      ],
      "execution_count": 43,
      "outputs": [
        {
          "output_type": "stream",
          "name": "stdout",
          "text": [
            "Epoch 1/15\n",
            "213/213 [==============================] - 1s 3ms/step - loss: 0.5574 - accuracy: 0.7367 - precision_2: 0.7581 - recall_2: 0.6909 - val_loss: 0.5123 - val_accuracy: 0.7875 - val_precision_2: 0.7528 - val_recall_2: 0.8639\n",
            "Epoch 2/15\n",
            "213/213 [==============================] - 1s 3ms/step - loss: 0.4898 - accuracy: 0.7891 - precision_2: 0.7531 - recall_2: 0.8570 - val_loss: 0.4850 - val_accuracy: 0.7875 - val_precision_2: 0.7395 - val_recall_2: 0.8957\n",
            "Epoch 3/15\n",
            "213/213 [==============================] - 1s 3ms/step - loss: 0.4701 - accuracy: 0.7932 - precision_2: 0.7517 - recall_2: 0.8723 - val_loss: 0.4715 - val_accuracy: 0.7960 - val_precision_2: 0.7732 - val_recall_2: 0.8450\n",
            "Epoch 4/15\n",
            "213/213 [==============================] - 1s 3ms/step - loss: 0.4561 - accuracy: 0.7976 - precision_2: 0.7571 - recall_2: 0.8732 - val_loss: 0.4537 - val_accuracy: 0.7974 - val_precision_2: 0.7517 - val_recall_2: 0.8957\n",
            "Epoch 5/15\n",
            "213/213 [==============================] - 1s 3ms/step - loss: 0.4438 - accuracy: 0.8028 - precision_2: 0.7576 - recall_2: 0.8874 - val_loss: 0.4498 - val_accuracy: 0.7967 - val_precision_2: 0.7859 - val_recall_2: 0.8226\n",
            "Epoch 6/15\n",
            "213/213 [==============================] - 1s 3ms/step - loss: 0.4359 - accuracy: 0.8041 - precision_2: 0.7613 - recall_2: 0.8830 - val_loss: 0.4381 - val_accuracy: 0.7933 - val_precision_2: 0.7535 - val_recall_2: 0.8795\n",
            "Epoch 7/15\n",
            "213/213 [==============================] - 1s 3ms/step - loss: 0.4293 - accuracy: 0.8032 - precision_2: 0.7610 - recall_2: 0.8809 - val_loss: 0.4339 - val_accuracy: 0.8022 - val_precision_2: 0.7548 - val_recall_2: 0.9025\n",
            "Epoch 8/15\n",
            "213/213 [==============================] - 1s 3ms/step - loss: 0.4225 - accuracy: 0.8071 - precision_2: 0.7638 - recall_2: 0.8859 - val_loss: 0.4341 - val_accuracy: 0.7929 - val_precision_2: 0.7351 - val_recall_2: 0.9242\n",
            "Epoch 9/15\n",
            "213/213 [==============================] - 1s 3ms/step - loss: 0.4204 - accuracy: 0.8063 - precision_2: 0.7618 - recall_2: 0.8883 - val_loss: 0.4205 - val_accuracy: 0.8084 - val_precision_2: 0.7703 - val_recall_2: 0.8856\n",
            "Epoch 10/15\n",
            "213/213 [==============================] - 1s 3ms/step - loss: 0.4143 - accuracy: 0.8115 - precision_2: 0.7644 - recall_2: 0.8975 - val_loss: 0.4231 - val_accuracy: 0.7991 - val_precision_2: 0.7441 - val_recall_2: 0.9194\n",
            "Epoch 11/15\n",
            "213/213 [==============================] - 1s 3ms/step - loss: 0.4111 - accuracy: 0.8090 - precision_2: 0.7647 - recall_2: 0.8895 - val_loss: 0.4121 - val_accuracy: 0.8084 - val_precision_2: 0.7620 - val_recall_2: 0.9039\n",
            "Epoch 12/15\n",
            "213/213 [==============================] - 1s 3ms/step - loss: 0.4080 - accuracy: 0.8096 - precision_2: 0.7642 - recall_2: 0.8924 - val_loss: 0.4102 - val_accuracy: 0.8091 - val_precision_2: 0.7550 - val_recall_2: 0.9221\n",
            "Epoch 13/15\n",
            "213/213 [==============================] - 1s 3ms/step - loss: 0.4060 - accuracy: 0.8119 - precision_2: 0.7658 - recall_2: 0.8957 - val_loss: 0.4107 - val_accuracy: 0.8005 - val_precision_2: 0.7412 - val_recall_2: 0.9309\n",
            "Epoch 14/15\n",
            "213/213 [==============================] - 1s 3ms/step - loss: 0.4006 - accuracy: 0.8137 - precision_2: 0.7683 - recall_2: 0.8954 - val_loss: 0.4020 - val_accuracy: 0.8070 - val_precision_2: 0.7594 - val_recall_2: 0.9059\n",
            "Epoch 15/15\n",
            "213/213 [==============================] - 1s 3ms/step - loss: 0.3958 - accuracy: 0.8176 - precision_2: 0.7727 - recall_2: 0.8972 - val_loss: 0.3982 - val_accuracy: 0.8087 - val_precision_2: 0.7589 - val_recall_2: 0.9120\n"
          ]
        },
        {
          "output_type": "execute_result",
          "data": {
            "text/plain": [
              "<keras.callbacks.History at 0x7fbbdac30550>"
            ]
          },
          "metadata": {},
          "execution_count": 43
        }
      ]
    },
    {
      "cell_type": "markdown",
      "metadata": {
        "id": "hhfhpIaWGtz2"
      },
      "source": [
        "**▶ We can see that:**\n",
        "\n",
        "the performance gets better when our data became balanced.\n",
        "Now we will try improving our model with other techniques like model hyperparameter tuning"
      ]
    },
    {
      "cell_type": "markdown",
      "source": [
        "\n",
        "\n",
        "---\n",
        "\n"
      ],
      "metadata": {
        "id": "35YmPRLv0VWM"
      }
    },
    {
      "cell_type": "markdown",
      "metadata": {
        "id": "ngJVLbRKG7U_"
      },
      "source": [
        "###Model Design Optimization"
      ]
    },
    {
      "cell_type": "markdown",
      "metadata": {
        "id": "sMdcXspCHxIo"
      },
      "source": [
        "We will use batch normalization after each layer."
      ]
    },
    {
      "cell_type": "code",
      "metadata": {
        "colab": {
          "base_uri": "https://localhost:8080/"
        },
        "id": "yK78-g-hHrmq",
        "outputId": "1e2394b6-087c-4095-ed86-30a383fbcd71"
      },
      "source": [
        "from tensorflow.keras.layers import BatchNormalization\n",
        "model = Sequential()\n",
        "\n",
        "model.add(Dense(32, input_dim=10, activation='relu'))\n",
        "model.add(BatchNormalization())\n",
        "model.add(Dense(16, activation='relu'))\n",
        "model.add(BatchNormalization())\n",
        "model.add(Dense(8, activation='relu'))\n",
        "model.add(BatchNormalization())\n",
        "model.add(Dense(4, activation='relu'))\n",
        "model.add(BatchNormalization())\n",
        "model.add(Dense(2, activation='relu'))\n",
        "model.add(BatchNormalization())\n",
        "model.add(Dense(1, activation='sigmoid'))\n",
        "\n",
        "model.summary()\n"
      ],
      "execution_count": 46,
      "outputs": [
        {
          "output_type": "stream",
          "name": "stdout",
          "text": [
            "Model: \"sequential_3\"\n",
            "_________________________________________________________________\n",
            " Layer (type)                Output Shape              Param #   \n",
            "=================================================================\n",
            " dense_18 (Dense)            (None, 32)                352       \n",
            "                                                                 \n",
            " batch_normalization_5 (Batc  (None, 32)               128       \n",
            " hNormalization)                                                 \n",
            "                                                                 \n",
            " dense_19 (Dense)            (None, 16)                528       \n",
            "                                                                 \n",
            " batch_normalization_6 (Batc  (None, 16)               64        \n",
            " hNormalization)                                                 \n",
            "                                                                 \n",
            " dense_20 (Dense)            (None, 8)                 136       \n",
            "                                                                 \n",
            " batch_normalization_7 (Batc  (None, 8)                32        \n",
            " hNormalization)                                                 \n",
            "                                                                 \n",
            " dense_21 (Dense)            (None, 4)                 36        \n",
            "                                                                 \n",
            " batch_normalization_8 (Batc  (None, 4)                16        \n",
            " hNormalization)                                                 \n",
            "                                                                 \n",
            " dense_22 (Dense)            (None, 2)                 10        \n",
            "                                                                 \n",
            " batch_normalization_9 (Batc  (None, 2)                8         \n",
            " hNormalization)                                                 \n",
            "                                                                 \n",
            " dense_23 (Dense)            (None, 1)                 3         \n",
            "                                                                 \n",
            "=================================================================\n",
            "Total params: 1,313\n",
            "Trainable params: 1,189\n",
            "Non-trainable params: 124\n",
            "_________________________________________________________________\n"
          ]
        }
      ]
    },
    {
      "cell_type": "markdown",
      "metadata": {
        "id": "l3uBII4wJPbk"
      },
      "source": [
        "Let's train the model"
      ]
    },
    {
      "cell_type": "code",
      "metadata": {
        "colab": {
          "base_uri": "https://localhost:8080/"
        },
        "id": "REDrQVWLJLs5",
        "outputId": "e0be8584-0f49-47b8-ed8e-29bdebbebe6f"
      },
      "source": [
        "model.compile(optimizer='adam',\n",
        "              loss='binary_crossentropy',\n",
        "              metrics=['accuracy', tf.keras.metrics.Precision(), tf.keras.metrics.Recall()])\n",
        "\n",
        "model.fit(x_train, y_train, validation_data=(x_test, y_test), epochs=15)"
      ],
      "execution_count": 48,
      "outputs": [
        {
          "output_type": "stream",
          "name": "stdout",
          "text": [
            "Epoch 1/15\n",
            "213/213 [==============================] - 4s 6ms/step - loss: 0.4114 - accuracy: 0.8028 - precision_5: 0.7545 - recall_5: 0.8945 - val_loss: 0.3953 - val_accuracy: 0.8094 - val_precision_5: 0.7529 - val_recall_5: 0.9282\n",
            "Epoch 2/15\n",
            "213/213 [==============================] - 1s 4ms/step - loss: 0.4153 - accuracy: 0.8004 - precision_5: 0.7608 - recall_5: 0.8732 - val_loss: 0.4018 - val_accuracy: 0.8008 - val_precision_5: 0.7314 - val_recall_5: 0.9587\n",
            "Epoch 3/15\n",
            "213/213 [==============================] - 1s 4ms/step - loss: 0.4076 - accuracy: 0.8087 - precision_5: 0.7638 - recall_5: 0.8907 - val_loss: 0.3850 - val_accuracy: 0.8121 - val_precision_5: 0.7556 - val_recall_5: 0.9296\n",
            "Epoch 4/15\n",
            "213/213 [==============================] - 1s 4ms/step - loss: 0.4062 - accuracy: 0.8025 - precision_5: 0.7613 - recall_5: 0.8783 - val_loss: 0.3871 - val_accuracy: 0.8135 - val_precision_5: 0.7545 - val_recall_5: 0.9364\n",
            "Epoch 5/15\n",
            "213/213 [==============================] - 1s 4ms/step - loss: 0.4054 - accuracy: 0.8032 - precision_5: 0.7591 - recall_5: 0.8853 - val_loss: 0.3841 - val_accuracy: 0.8118 - val_precision_5: 0.7648 - val_recall_5: 0.9072\n",
            "Epoch 6/15\n",
            "213/213 [==============================] - 1s 4ms/step - loss: 0.4089 - accuracy: 0.8032 - precision_5: 0.7565 - recall_5: 0.8913 - val_loss: 0.3836 - val_accuracy: 0.8156 - val_precision_5: 0.7587 - val_recall_5: 0.9323\n",
            "Epoch 7/15\n",
            "213/213 [==============================] - 1s 4ms/step - loss: 0.4077 - accuracy: 0.7991 - precision_5: 0.7555 - recall_5: 0.8812 - val_loss: 0.3783 - val_accuracy: 0.8193 - val_precision_5: 0.7651 - val_recall_5: 0.9282\n",
            "Epoch 8/15\n",
            "213/213 [==============================] - 1s 4ms/step - loss: 0.4029 - accuracy: 0.8016 - precision_5: 0.7664 - recall_5: 0.8647 - val_loss: 0.3901 - val_accuracy: 0.8159 - val_precision_5: 0.7704 - val_recall_5: 0.9066\n",
            "Epoch 9/15\n",
            "213/213 [==============================] - 1s 4ms/step - loss: 0.3960 - accuracy: 0.8165 - precision_5: 0.7778 - recall_5: 0.8833 - val_loss: 0.3774 - val_accuracy: 0.8279 - val_precision_5: 0.8168 - val_recall_5: 0.8510\n",
            "Epoch 10/15\n",
            "213/213 [==============================] - 1s 4ms/step - loss: 0.4020 - accuracy: 0.8024 - precision_5: 0.7734 - recall_5: 0.8522 - val_loss: 0.3717 - val_accuracy: 0.8296 - val_precision_5: 0.7719 - val_recall_5: 0.9418\n",
            "Epoch 11/15\n",
            "213/213 [==============================] - 1s 4ms/step - loss: 0.3918 - accuracy: 0.8112 - precision_5: 0.7750 - recall_5: 0.8741 - val_loss: 0.3721 - val_accuracy: 0.8197 - val_precision_5: 0.7970 - val_recall_5: 0.8639\n",
            "Epoch 12/15\n",
            "213/213 [==============================] - 1s 4ms/step - loss: 0.3913 - accuracy: 0.8154 - precision_5: 0.7812 - recall_5: 0.8735 - val_loss: 0.3772 - val_accuracy: 0.8159 - val_precision_5: 0.7538 - val_recall_5: 0.9452\n",
            "Epoch 13/15\n",
            "213/213 [==============================] - 1s 4ms/step - loss: 0.3947 - accuracy: 0.8094 - precision_5: 0.7735 - recall_5: 0.8720 - val_loss: 0.3842 - val_accuracy: 0.8156 - val_precision_5: 0.7457 - val_recall_5: 0.9648\n",
            "Epoch 14/15\n",
            "213/213 [==============================] - 1s 4ms/step - loss: 0.3906 - accuracy: 0.8069 - precision_5: 0.7751 - recall_5: 0.8617 - val_loss: 0.3698 - val_accuracy: 0.8221 - val_precision_5: 0.7682 - val_recall_5: 0.9289\n",
            "Epoch 15/15\n",
            "213/213 [==============================] - 1s 4ms/step - loss: 0.4000 - accuracy: 0.8107 - precision_5: 0.7714 - recall_5: 0.8803 - val_loss: 0.3693 - val_accuracy: 0.8258 - val_precision_5: 0.7751 - val_recall_5: 0.9242\n"
          ]
        },
        {
          "output_type": "execute_result",
          "data": {
            "text/plain": [
              "<keras.callbacks.History at 0x7fbbd7e822d0>"
            ]
          },
          "metadata": {},
          "execution_count": 48
        }
      ]
    },
    {
      "cell_type": "markdown",
      "metadata": {
        "id": "hhkSEThVKEdm"
      },
      "source": [
        "We see that we are achieving better metrics (more significant in the validation metrics) with batch normalization. 👍"
      ]
    },
    {
      "cell_type": "markdown",
      "source": [
        "\n",
        "\n",
        "---\n",
        "\n"
      ],
      "metadata": {
        "id": "MEkubvtd11nV"
      }
    },
    {
      "cell_type": "markdown",
      "metadata": {
        "id": "mXf6cpO_KWTs"
      },
      "source": [
        "###Hyperparameter Tuning"
      ]
    },
    {
      "cell_type": "markdown",
      "metadata": {
        "id": "l2rMJJEcNDil"
      },
      "source": [
        "Now we will tune some hyperparameters of our model."
      ]
    },
    {
      "cell_type": "markdown",
      "metadata": {
        "id": "PQl4VxrOLQGO"
      },
      "source": [
        "We start by wrapping our keras model inside a kerasClassifier to be able to use it in Scikit Learn"
      ]
    },
    {
      "cell_type": "code",
      "metadata": {
        "id": "PYBO5H5LLW4w",
        "colab": {
          "base_uri": "https://localhost:8080/"
        },
        "outputId": "7af4270c-faf3-4bff-bb9c-ebc870f6e679"
      },
      "source": [
        "from keras.wrappers.scikit_learn import KerasClassifier\n",
        "\n",
        "#create a fn that create the model when called\n",
        "def create_model():\n",
        "\n",
        "  model = Sequential()\n",
        "\n",
        "  model.add(Dense(32, input_dim=10, activation='relu'))\n",
        "  model.add(BatchNormalization())\n",
        "  model.add(Dense(16, activation='relu'))\n",
        "  model.add(BatchNormalization())\n",
        "  model.add(Dense(8, activation='relu'))\n",
        "  model.add(BatchNormalization())\n",
        "  model.add(Dense(4, activation='relu'))\n",
        "  model.add(BatchNormalization())\n",
        "  model.add(Dense(2, activation='relu'))\n",
        "  model.add(BatchNormalization())\n",
        "  model.add(Dense(1, activation='sigmoid'))\n",
        "  model.compile(optimizer='adam',\n",
        "              loss='binary_crossentropy',\n",
        "              metrics=['accuracy', tf.keras.metrics.Precision(), tf.keras.metrics.Recall()])\n",
        "  return model \n",
        "\n",
        "#create an instance of the wrapper and pass it the fn as an argument\n",
        "model_wrapper = KerasClassifier(build_fn=create_model)"
      ],
      "execution_count": 50,
      "outputs": [
        {
          "output_type": "stream",
          "name": "stderr",
          "text": [
            "/usr/local/lib/python3.7/dist-packages/ipykernel_launcher.py:25: DeprecationWarning: KerasClassifier is deprecated, use Sci-Keras (https://github.com/adriangb/scikeras) instead. See https://www.adriangb.com/scikeras/stable/migration.html for help migrating.\n"
          ]
        }
      ]
    },
    {
      "cell_type": "markdown",
      "metadata": {
        "id": "aIqMITAEKoue"
      },
      "source": [
        "We will tune the batch size and the number of epochs."
      ]
    },
    {
      "cell_type": "code",
      "metadata": {
        "id": "E_XXldXwJ-Ch"
      },
      "source": [
        "from sklearn.model_selection import GridSearchCV\n",
        "\n",
        "#pass the instance (model_wrapper) to the tuning tool by sklearn call gridsearchCV,     rather than passing the model itself.\n",
        "params = {'batch_size': [50, 100],\n",
        "          'epochs': [50, 100]}\n",
        "\n",
        "grid = GridSearchCV(estimator=model_wrapper, param_grid=params, cv=3, verbose=3)\n",
        "grid_result = grid.fit(x_train, y_train)"
      ],
      "execution_count": null,
      "outputs": []
    },
    {
      "cell_type": "code",
      "metadata": {
        "colab": {
          "base_uri": "https://localhost:8080/"
        },
        "id": "fom1lr4pMku4",
        "outputId": "d680d78b-75e1-4c03-8ab9-3a8bbe5138fe"
      },
      "source": [
        "best_parameters = grid.best_params_\n",
        "print(best_parameters)\n",
        "best_score = grid.best_score_\n",
        "print(best_score)"
      ],
      "execution_count": 52,
      "outputs": [
        {
          "output_type": "stream",
          "name": "stdout",
          "text": [
            "{'batch_size': 100, 'epochs': 100}\n",
            "0.8623063365618387\n"
          ]
        }
      ]
    },
    {
      "cell_type": "markdown",
      "metadata": {
        "id": "ZqKDaC5aUQtc"
      },
      "source": [
        "Fitting to the model on the best hyperparameters we obtained."
      ]
    },
    {
      "cell_type": "code",
      "metadata": {
        "colab": {
          "base_uri": "https://localhost:8080/"
        },
        "id": "IiauYJNtQXLB",
        "outputId": "1871217b-b485-4f21-aa82-f022bcb6c9c9"
      },
      "source": [
        "model.fit(x_train, y_train, validation_data=(x_test, y_test), epochs = 100, batch_size=50)"
      ],
      "execution_count": 53,
      "outputs": [
        {
          "output_type": "stream",
          "name": "stdout",
          "text": [
            "Epoch 1/100\n",
            "137/137 [==============================] - 3s 7ms/step - loss: 0.6591 - accuracy: 0.6508 - precision_19: 0.7360 - recall_19: 0.4645 - val_loss: 0.6447 - val_accuracy: 0.6469 - val_precision_19: 0.7492 - val_recall_19: 0.4550\n",
            "Epoch 2/100\n",
            "137/137 [==============================] - 1s 4ms/step - loss: 0.5869 - accuracy: 0.7080 - precision_19: 0.7651 - recall_19: 0.5957 - val_loss: 0.5926 - val_accuracy: 0.7110 - val_precision_19: 0.7255 - val_recall_19: 0.6906\n",
            "Epoch 3/100\n",
            "137/137 [==============================] - 1s 4ms/step - loss: 0.5315 - accuracy: 0.7559 - precision_19: 0.7752 - recall_19: 0.7172 - val_loss: 0.5363 - val_accuracy: 0.7477 - val_precision_19: 0.7066 - val_recall_19: 0.8578\n",
            "Epoch 4/100\n",
            "137/137 [==============================] - 1s 4ms/step - loss: 0.4889 - accuracy: 0.7783 - precision_19: 0.7593 - recall_19: 0.8112 - val_loss: 0.4705 - val_accuracy: 0.7912 - val_precision_19: 0.7449 - val_recall_19: 0.8937\n",
            "Epoch 5/100\n",
            "137/137 [==============================] - 1s 4ms/step - loss: 0.4595 - accuracy: 0.7904 - precision_19: 0.7551 - recall_19: 0.8564 - val_loss: 0.4517 - val_accuracy: 0.7912 - val_precision_19: 0.7291 - val_recall_19: 0.9350\n",
            "Epoch 6/100\n",
            "137/137 [==============================] - 1s 4ms/step - loss: 0.4427 - accuracy: 0.7974 - precision_19: 0.7583 - recall_19: 0.8697 - val_loss: 0.4567 - val_accuracy: 0.7847 - val_precision_19: 0.7266 - val_recall_19: 0.9215\n",
            "Epoch 7/100\n",
            "137/137 [==============================] - 1s 4ms/step - loss: 0.4377 - accuracy: 0.8013 - precision_19: 0.7577 - recall_19: 0.8827 - val_loss: 0.4221 - val_accuracy: 0.8029 - val_precision_19: 0.7701 - val_recall_19: 0.8707\n",
            "Epoch 8/100\n",
            "137/137 [==============================] - 1s 4ms/step - loss: 0.4249 - accuracy: 0.8028 - precision_19: 0.7681 - recall_19: 0.8644 - val_loss: 0.4132 - val_accuracy: 0.8060 - val_precision_19: 0.7729 - val_recall_19: 0.8734\n",
            "Epoch 9/100\n",
            "137/137 [==============================] - 1s 4ms/step - loss: 0.4169 - accuracy: 0.8087 - precision_19: 0.7724 - recall_19: 0.8723 - val_loss: 0.4030 - val_accuracy: 0.8094 - val_precision_19: 0.7698 - val_recall_19: 0.8896\n",
            "Epoch 10/100\n",
            "137/137 [==============================] - 1s 4ms/step - loss: 0.4194 - accuracy: 0.8057 - precision_19: 0.7668 - recall_19: 0.8756 - val_loss: 0.4010 - val_accuracy: 0.8097 - val_precision_19: 0.7547 - val_recall_19: 0.9248\n",
            "Epoch 11/100\n",
            "137/137 [==============================] - 1s 4ms/step - loss: 0.4153 - accuracy: 0.8081 - precision_19: 0.7718 - recall_19: 0.8717 - val_loss: 0.3984 - val_accuracy: 0.8162 - val_precision_19: 0.7836 - val_recall_19: 0.8802\n",
            "Epoch 12/100\n",
            "137/137 [==============================] - 1s 4ms/step - loss: 0.4060 - accuracy: 0.8116 - precision_19: 0.7740 - recall_19: 0.8774 - val_loss: 0.3875 - val_accuracy: 0.8269 - val_precision_19: 0.7893 - val_recall_19: 0.8978\n",
            "Epoch 13/100\n",
            "137/137 [==============================] - 1s 4ms/step - loss: 0.4001 - accuracy: 0.8154 - precision_19: 0.7793 - recall_19: 0.8774 - val_loss: 0.3868 - val_accuracy: 0.8269 - val_precision_19: 0.7872 - val_recall_19: 0.9018\n",
            "Epoch 14/100\n",
            "137/137 [==============================] - 1s 4ms/step - loss: 0.3947 - accuracy: 0.8185 - precision_19: 0.7782 - recall_19: 0.8883 - val_loss: 0.3780 - val_accuracy: 0.8293 - val_precision_19: 0.7808 - val_recall_19: 0.9215\n",
            "Epoch 15/100\n",
            "137/137 [==============================] - 1s 5ms/step - loss: 0.3950 - accuracy: 0.8172 - precision_19: 0.7773 - recall_19: 0.8862 - val_loss: 0.3850 - val_accuracy: 0.8262 - val_precision_19: 0.7685 - val_recall_19: 0.9397\n",
            "Epoch 16/100\n",
            "137/137 [==============================] - 1s 5ms/step - loss: 0.3882 - accuracy: 0.8160 - precision_19: 0.7775 - recall_19: 0.8827 - val_loss: 0.3735 - val_accuracy: 0.8279 - val_precision_19: 0.7876 - val_recall_19: 0.9039\n",
            "Epoch 17/100\n",
            "137/137 [==============================] - 1s 4ms/step - loss: 0.3900 - accuracy: 0.8198 - precision_19: 0.7800 - recall_19: 0.8883 - val_loss: 0.3693 - val_accuracy: 0.8265 - val_precision_19: 0.7808 - val_recall_19: 0.9140\n",
            "Epoch 18/100\n",
            "137/137 [==============================] - 1s 4ms/step - loss: 0.3837 - accuracy: 0.8235 - precision_19: 0.7817 - recall_19: 0.8951 - val_loss: 0.3673 - val_accuracy: 0.8245 - val_precision_19: 0.7817 - val_recall_19: 0.9066\n",
            "Epoch 19/100\n",
            "137/137 [==============================] - 1s 4ms/step - loss: 0.3846 - accuracy: 0.8247 - precision_19: 0.7849 - recall_19: 0.8918 - val_loss: 0.3638 - val_accuracy: 0.8313 - val_precision_19: 0.7819 - val_recall_19: 0.9248\n",
            "Epoch 20/100\n",
            "137/137 [==============================] - 1s 4ms/step - loss: 0.3743 - accuracy: 0.8284 - precision_19: 0.7872 - recall_19: 0.8975 - val_loss: 0.3789 - val_accuracy: 0.8169 - val_precision_19: 0.8036 - val_recall_19: 0.8450\n",
            "Epoch 21/100\n",
            "137/137 [==============================] - 1s 4ms/step - loss: 0.3785 - accuracy: 0.8275 - precision_19: 0.7899 - recall_19: 0.8898 - val_loss: 0.3609 - val_accuracy: 0.8289 - val_precision_19: 0.7907 - val_recall_19: 0.9005\n",
            "Epoch 22/100\n",
            "137/137 [==============================] - 1s 4ms/step - loss: 0.3757 - accuracy: 0.8282 - precision_19: 0.7901 - recall_19: 0.8913 - val_loss: 0.3624 - val_accuracy: 0.8293 - val_precision_19: 0.7838 - val_recall_19: 0.9154\n",
            "Epoch 23/100\n",
            "137/137 [==============================] - 1s 5ms/step - loss: 0.3794 - accuracy: 0.8248 - precision_19: 0.7807 - recall_19: 0.9007 - val_loss: 0.3670 - val_accuracy: 0.8334 - val_precision_19: 0.7913 - val_recall_19: 0.9113\n",
            "Epoch 24/100\n",
            "137/137 [==============================] - 1s 4ms/step - loss: 0.3726 - accuracy: 0.8325 - precision_19: 0.7892 - recall_19: 0.9048 - val_loss: 0.3554 - val_accuracy: 0.8444 - val_precision_19: 0.7976 - val_recall_19: 0.9282\n",
            "Epoch 25/100\n",
            "137/137 [==============================] - 1s 4ms/step - loss: 0.3700 - accuracy: 0.8291 - precision_19: 0.7876 - recall_19: 0.8986 - val_loss: 0.3500 - val_accuracy: 0.8375 - val_precision_19: 0.8012 - val_recall_19: 0.9032\n",
            "Epoch 26/100\n",
            "137/137 [==============================] - 1s 5ms/step - loss: 0.3682 - accuracy: 0.8276 - precision_19: 0.7862 - recall_19: 0.8975 - val_loss: 0.3679 - val_accuracy: 0.8327 - val_precision_19: 0.7701 - val_recall_19: 0.9546\n",
            "Epoch 27/100\n",
            "137/137 [==============================] - 1s 4ms/step - loss: 0.3748 - accuracy: 0.8269 - precision_19: 0.7872 - recall_19: 0.8933 - val_loss: 0.3629 - val_accuracy: 0.8337 - val_precision_19: 0.7815 - val_recall_19: 0.9323\n",
            "Epoch 28/100\n",
            "137/137 [==============================] - 1s 4ms/step - loss: 0.3900 - accuracy: 0.8181 - precision_19: 0.7860 - recall_19: 0.8715 - val_loss: 0.3649 - val_accuracy: 0.8262 - val_precision_19: 0.7787 - val_recall_19: 0.9174\n",
            "Epoch 29/100\n",
            "137/137 [==============================] - 1s 5ms/step - loss: 0.3725 - accuracy: 0.8276 - precision_19: 0.7904 - recall_19: 0.8892 - val_loss: 0.3553 - val_accuracy: 0.8348 - val_precision_19: 0.7877 - val_recall_19: 0.9221\n",
            "Epoch 30/100\n",
            "137/137 [==============================] - 1s 4ms/step - loss: 0.3650 - accuracy: 0.8341 - precision_19: 0.7934 - recall_19: 0.9010 - val_loss: 0.3435 - val_accuracy: 0.8488 - val_precision_19: 0.8106 - val_recall_19: 0.9154\n",
            "Epoch 31/100\n",
            "137/137 [==============================] - 1s 4ms/step - loss: 0.3646 - accuracy: 0.8320 - precision_19: 0.7925 - recall_19: 0.8972 - val_loss: 0.3592 - val_accuracy: 0.8330 - val_precision_19: 0.7720 - val_recall_19: 0.9513\n",
            "Epoch 32/100\n",
            "137/137 [==============================] - 1s 4ms/step - loss: 0.3876 - accuracy: 0.8184 - precision_19: 0.7813 - recall_19: 0.8815 - val_loss: 0.3644 - val_accuracy: 0.8358 - val_precision_19: 0.7874 - val_recall_19: 0.9255\n",
            "Epoch 33/100\n",
            "137/137 [==============================] - 1s 4ms/step - loss: 0.3638 - accuracy: 0.8359 - precision_19: 0.7970 - recall_19: 0.8989 - val_loss: 0.3556 - val_accuracy: 0.8392 - val_precision_19: 0.8029 - val_recall_19: 0.9045\n",
            "Epoch 34/100\n",
            "137/137 [==============================] - 1s 4ms/step - loss: 0.3683 - accuracy: 0.8339 - precision_19: 0.7970 - recall_19: 0.8936 - val_loss: 0.3443 - val_accuracy: 0.8406 - val_precision_19: 0.8159 - val_recall_19: 0.8849\n",
            "Epoch 35/100\n",
            "137/137 [==============================] - 1s 4ms/step - loss: 0.3624 - accuracy: 0.8376 - precision_19: 0.7979 - recall_19: 0.9019 - val_loss: 0.3493 - val_accuracy: 0.8402 - val_precision_19: 0.8011 - val_recall_19: 0.9106\n",
            "Epoch 36/100\n",
            "137/137 [==============================] - 1s 5ms/step - loss: 0.3561 - accuracy: 0.8414 - precision_19: 0.8021 - recall_19: 0.9043 - val_loss: 0.3466 - val_accuracy: 0.8471 - val_precision_19: 0.7951 - val_recall_19: 0.9404\n",
            "Epoch 37/100\n",
            "137/137 [==============================] - 1s 4ms/step - loss: 0.3617 - accuracy: 0.8356 - precision_19: 0.7967 - recall_19: 0.8986 - val_loss: 0.3365 - val_accuracy: 0.8502 - val_precision_19: 0.7985 - val_recall_19: 0.9418\n",
            "Epoch 38/100\n",
            "137/137 [==============================] - 1s 5ms/step - loss: 0.3508 - accuracy: 0.8442 - precision_19: 0.8060 - recall_19: 0.9046 - val_loss: 0.3310 - val_accuracy: 0.8516 - val_precision_19: 0.8063 - val_recall_19: 0.9303\n",
            "Epoch 39/100\n",
            "137/137 [==============================] - 1s 5ms/step - loss: 0.3473 - accuracy: 0.8422 - precision_19: 0.8038 - recall_19: 0.9031 - val_loss: 0.3386 - val_accuracy: 0.8519 - val_precision_19: 0.8108 - val_recall_19: 0.9228\n",
            "Epoch 40/100\n",
            "137/137 [==============================] - 1s 4ms/step - loss: 0.3504 - accuracy: 0.8453 - precision_19: 0.8053 - recall_19: 0.9084 - val_loss: 0.3323 - val_accuracy: 0.8543 - val_precision_19: 0.8044 - val_recall_19: 0.9411\n",
            "Epoch 41/100\n",
            "137/137 [==============================] - 1s 4ms/step - loss: 0.3472 - accuracy: 0.8472 - precision_19: 0.8089 - recall_19: 0.9069 - val_loss: 0.3448 - val_accuracy: 0.8430 - val_precision_19: 0.7890 - val_recall_19: 0.9418\n",
            "Epoch 42/100\n",
            "137/137 [==============================] - 1s 4ms/step - loss: 0.3482 - accuracy: 0.8439 - precision_19: 0.8035 - recall_19: 0.9084 - val_loss: 0.3410 - val_accuracy: 0.8492 - val_precision_19: 0.8006 - val_recall_19: 0.9350\n",
            "Epoch 43/100\n",
            "137/137 [==============================] - 1s 5ms/step - loss: 0.3526 - accuracy: 0.8435 - precision_19: 0.8020 - recall_19: 0.9099 - val_loss: 0.3393 - val_accuracy: 0.8526 - val_precision_19: 0.8074 - val_recall_19: 0.9309\n",
            "Epoch 44/100\n",
            "137/137 [==============================] - 1s 5ms/step - loss: 0.3392 - accuracy: 0.8513 - precision_19: 0.8113 - recall_19: 0.9134 - val_loss: 0.3292 - val_accuracy: 0.8598 - val_precision_19: 0.8268 - val_recall_19: 0.9147\n",
            "Epoch 45/100\n",
            "137/137 [==============================] - 1s 5ms/step - loss: 0.3441 - accuracy: 0.8469 - precision_19: 0.8100 - recall_19: 0.9043 - val_loss: 0.3425 - val_accuracy: 0.8481 - val_precision_19: 0.7850 - val_recall_19: 0.9641\n",
            "Epoch 46/100\n",
            "137/137 [==============================] - 1s 5ms/step - loss: 0.3455 - accuracy: 0.8482 - precision_19: 0.8089 - recall_19: 0.9096 - val_loss: 0.3341 - val_accuracy: 0.8598 - val_precision_19: 0.8232 - val_recall_19: 0.9208\n",
            "Epoch 47/100\n",
            "137/137 [==============================] - 1s 4ms/step - loss: 0.3463 - accuracy: 0.8451 - precision_19: 0.8095 - recall_19: 0.9004 - val_loss: 0.3314 - val_accuracy: 0.8488 - val_precision_19: 0.7884 - val_recall_19: 0.9587\n",
            "Epoch 48/100\n",
            "137/137 [==============================] - 1s 5ms/step - loss: 0.3392 - accuracy: 0.8533 - precision_19: 0.8161 - recall_19: 0.9102 - val_loss: 0.3265 - val_accuracy: 0.8543 - val_precision_19: 0.8176 - val_recall_19: 0.9167\n",
            "Epoch 49/100\n",
            "137/137 [==============================] - 1s 4ms/step - loss: 0.3505 - accuracy: 0.8429 - precision_19: 0.8073 - recall_19: 0.8986 - val_loss: 0.3225 - val_accuracy: 0.8618 - val_precision_19: 0.8041 - val_recall_19: 0.9614\n",
            "Epoch 50/100\n",
            "137/137 [==============================] - 1s 5ms/step - loss: 0.3403 - accuracy: 0.8507 - precision_19: 0.8111 - recall_19: 0.9122 - val_loss: 0.3288 - val_accuracy: 0.8553 - val_precision_19: 0.8013 - val_recall_19: 0.9499\n",
            "Epoch 51/100\n",
            "137/137 [==============================] - 1s 4ms/step - loss: 0.3393 - accuracy: 0.8529 - precision_19: 0.8151 - recall_19: 0.9108 - val_loss: 0.3314 - val_accuracy: 0.8591 - val_precision_19: 0.7964 - val_recall_19: 0.9695\n",
            "Epoch 52/100\n",
            "137/137 [==============================] - 1s 4ms/step - loss: 0.3346 - accuracy: 0.8532 - precision_19: 0.8167 - recall_19: 0.9087 - val_loss: 0.3250 - val_accuracy: 0.8594 - val_precision_19: 0.8122 - val_recall_19: 0.9397\n",
            "Epoch 53/100\n",
            "137/137 [==============================] - 1s 5ms/step - loss: 0.3511 - accuracy: 0.8445 - precision_19: 0.8131 - recall_19: 0.8924 - val_loss: 0.3268 - val_accuracy: 0.8529 - val_precision_19: 0.8104 - val_recall_19: 0.9262\n",
            "Epoch 54/100\n",
            "137/137 [==============================] - 1s 5ms/step - loss: 0.3376 - accuracy: 0.8523 - precision_19: 0.8164 - recall_19: 0.9069 - val_loss: 0.3305 - val_accuracy: 0.8564 - val_precision_19: 0.8179 - val_recall_19: 0.9215\n",
            "Epoch 55/100\n",
            "137/137 [==============================] - 1s 5ms/step - loss: 0.3421 - accuracy: 0.8492 - precision_19: 0.8139 - recall_19: 0.9034 - val_loss: 0.3322 - val_accuracy: 0.8526 - val_precision_19: 0.8035 - val_recall_19: 0.9384\n",
            "Epoch 56/100\n",
            "137/137 [==============================] - 1s 4ms/step - loss: 0.3359 - accuracy: 0.8519 - precision_19: 0.8140 - recall_19: 0.9102 - val_loss: 0.3417 - val_accuracy: 0.8468 - val_precision_19: 0.8163 - val_recall_19: 0.8998\n",
            "Epoch 57/100\n",
            "137/137 [==============================] - 1s 5ms/step - loss: 0.3339 - accuracy: 0.8583 - precision_19: 0.8203 - recall_19: 0.9158 - val_loss: 0.3187 - val_accuracy: 0.8670 - val_precision_19: 0.8266 - val_recall_19: 0.9330\n",
            "Epoch 58/100\n",
            "137/137 [==============================] - 1s 5ms/step - loss: 0.3407 - accuracy: 0.8553 - precision_19: 0.8189 - recall_19: 0.9102 - val_loss: 0.3262 - val_accuracy: 0.8605 - val_precision_19: 0.8050 - val_recall_19: 0.9560\n",
            "Epoch 59/100\n",
            "137/137 [==============================] - 1s 5ms/step - loss: 0.3361 - accuracy: 0.8523 - precision_19: 0.8176 - recall_19: 0.9048 - val_loss: 0.3264 - val_accuracy: 0.8564 - val_precision_19: 0.8233 - val_recall_19: 0.9120\n",
            "Epoch 60/100\n",
            "137/137 [==============================] - 1s 4ms/step - loss: 0.3297 - accuracy: 0.8592 - precision_19: 0.8229 - recall_19: 0.9134 - val_loss: 0.3305 - val_accuracy: 0.8546 - val_precision_19: 0.8042 - val_recall_19: 0.9425\n",
            "Epoch 61/100\n",
            "137/137 [==============================] - 1s 5ms/step - loss: 0.3480 - accuracy: 0.8476 - precision_19: 0.8114 - recall_19: 0.9037 - val_loss: 0.3265 - val_accuracy: 0.8584 - val_precision_19: 0.8104 - val_recall_19: 0.9404\n",
            "Epoch 62/100\n",
            "137/137 [==============================] - 1s 5ms/step - loss: 0.3389 - accuracy: 0.8513 - precision_19: 0.8148 - recall_19: 0.9072 - val_loss: 0.3185 - val_accuracy: 0.8660 - val_precision_19: 0.8213 - val_recall_19: 0.9397\n",
            "Epoch 63/100\n",
            "137/137 [==============================] - 1s 4ms/step - loss: 0.3255 - accuracy: 0.8578 - precision_19: 0.8225 - recall_19: 0.9105 - val_loss: 0.3162 - val_accuracy: 0.8649 - val_precision_19: 0.8412 - val_recall_19: 0.9039\n",
            "Epoch 64/100\n",
            "137/137 [==============================] - 1s 4ms/step - loss: 0.3378 - accuracy: 0.8495 - precision_19: 0.8164 - recall_19: 0.8998 - val_loss: 0.3206 - val_accuracy: 0.8536 - val_precision_19: 0.8024 - val_recall_19: 0.9431\n",
            "Epoch 65/100\n",
            "137/137 [==============================] - 1s 5ms/step - loss: 0.3233 - accuracy: 0.8561 - precision_19: 0.8213 - recall_19: 0.9084 - val_loss: 0.3131 - val_accuracy: 0.8622 - val_precision_19: 0.8141 - val_recall_19: 0.9431\n",
            "Epoch 66/100\n",
            "137/137 [==============================] - 1s 4ms/step - loss: 0.3224 - accuracy: 0.8586 - precision_19: 0.8229 - recall_19: 0.9119 - val_loss: 0.3111 - val_accuracy: 0.8684 - val_precision_19: 0.8367 - val_recall_19: 0.9194\n",
            "Epoch 67/100\n",
            "137/137 [==============================] - 1s 4ms/step - loss: 0.3350 - accuracy: 0.8525 - precision_19: 0.8178 - recall_19: 0.9048 - val_loss: 0.3332 - val_accuracy: 0.8581 - val_precision_19: 0.7978 - val_recall_19: 0.9641\n",
            "Epoch 68/100\n",
            "137/137 [==============================] - 1s 4ms/step - loss: 0.3395 - accuracy: 0.8503 - precision_19: 0.8154 - recall_19: 0.9034 - val_loss: 0.3260 - val_accuracy: 0.8608 - val_precision_19: 0.8275 - val_recall_19: 0.9160\n",
            "Epoch 69/100\n",
            "137/137 [==============================] - 1s 4ms/step - loss: 0.3277 - accuracy: 0.8591 - precision_19: 0.8266 - recall_19: 0.9069 - val_loss: 0.3265 - val_accuracy: 0.8605 - val_precision_19: 0.8319 - val_recall_19: 0.9079\n",
            "Epoch 70/100\n",
            "137/137 [==============================] - 1s 4ms/step - loss: 0.3257 - accuracy: 0.8558 - precision_19: 0.8164 - recall_19: 0.9161 - val_loss: 0.3226 - val_accuracy: 0.8598 - val_precision_19: 0.8116 - val_recall_19: 0.9418\n",
            "Epoch 71/100\n",
            "137/137 [==============================] - 1s 5ms/step - loss: 0.3158 - accuracy: 0.8607 - precision_19: 0.8248 - recall_19: 0.9140 - val_loss: 0.3129 - val_accuracy: 0.8646 - val_precision_19: 0.8311 - val_recall_19: 0.9194\n",
            "Epoch 72/100\n",
            "137/137 [==============================] - 1s 4ms/step - loss: 0.3267 - accuracy: 0.8544 - precision_19: 0.8212 - recall_19: 0.9040 - val_loss: 0.3193 - val_accuracy: 0.8577 - val_precision_19: 0.8222 - val_recall_19: 0.9174\n",
            "Epoch 73/100\n",
            "137/137 [==============================] - 1s 4ms/step - loss: 0.3429 - accuracy: 0.8479 - precision_19: 0.8162 - recall_19: 0.8960 - val_loss: 0.3266 - val_accuracy: 0.8608 - val_precision_19: 0.8328 - val_recall_19: 0.9072\n",
            "Epoch 74/100\n",
            "137/137 [==============================] - 1s 4ms/step - loss: 0.3245 - accuracy: 0.8563 - precision_19: 0.8208 - recall_19: 0.9096 - val_loss: 0.3172 - val_accuracy: 0.8680 - val_precision_19: 0.8301 - val_recall_19: 0.9296\n",
            "Epoch 75/100\n",
            "137/137 [==============================] - 1s 5ms/step - loss: 0.3200 - accuracy: 0.8629 - precision_19: 0.8248 - recall_19: 0.9196 - val_loss: 0.3164 - val_accuracy: 0.8618 - val_precision_19: 0.8243 - val_recall_19: 0.9242\n",
            "Epoch 76/100\n",
            "137/137 [==============================] - 1s 4ms/step - loss: 0.3183 - accuracy: 0.8625 - precision_19: 0.8299 - recall_19: 0.9099 - val_loss: 0.3026 - val_accuracy: 0.8690 - val_precision_19: 0.8292 - val_recall_19: 0.9336\n",
            "Epoch 77/100\n",
            "137/137 [==============================] - 1s 4ms/step - loss: 0.3182 - accuracy: 0.8591 - precision_19: 0.8262 - recall_19: 0.9075 - val_loss: 0.3169 - val_accuracy: 0.8636 - val_precision_19: 0.8128 - val_recall_19: 0.9492\n",
            "Epoch 78/100\n",
            "137/137 [==============================] - 1s 4ms/step - loss: 0.3183 - accuracy: 0.8655 - precision_19: 0.8311 - recall_19: 0.9158 - val_loss: 0.3018 - val_accuracy: 0.8749 - val_precision_19: 0.8278 - val_recall_19: 0.9506\n",
            "Epoch 79/100\n",
            "137/137 [==============================] - 1s 4ms/step - loss: 0.3175 - accuracy: 0.8622 - precision_19: 0.8288 - recall_19: 0.9111 - val_loss: 0.3172 - val_accuracy: 0.8622 - val_precision_19: 0.8201 - val_recall_19: 0.9323\n",
            "Epoch 80/100\n",
            "137/137 [==============================] - 1s 5ms/step - loss: 0.3167 - accuracy: 0.8614 - precision_19: 0.8278 - recall_19: 0.9108 - val_loss: 0.3137 - val_accuracy: 0.8663 - val_precision_19: 0.8477 - val_recall_19: 0.8971\n",
            "Epoch 81/100\n",
            "137/137 [==============================] - 1s 4ms/step - loss: 0.3308 - accuracy: 0.8570 - precision_19: 0.8241 - recall_19: 0.9057 - val_loss: 0.3163 - val_accuracy: 0.8666 - val_precision_19: 0.8094 - val_recall_19: 0.9634\n",
            "Epoch 82/100\n",
            "137/137 [==============================] - 1s 4ms/step - loss: 0.3277 - accuracy: 0.8570 - precision_19: 0.8221 - recall_19: 0.9093 - val_loss: 0.3149 - val_accuracy: 0.8656 - val_precision_19: 0.8116 - val_recall_19: 0.9567\n",
            "Epoch 83/100\n",
            "137/137 [==============================] - 1s 4ms/step - loss: 0.3110 - accuracy: 0.8655 - precision_19: 0.8288 - recall_19: 0.9196 - val_loss: 0.3014 - val_accuracy: 0.8732 - val_precision_19: 0.8419 - val_recall_19: 0.9228\n",
            "Epoch 84/100\n",
            "137/137 [==============================] - 1s 5ms/step - loss: 0.3201 - accuracy: 0.8636 - precision_19: 0.8282 - recall_19: 0.9158 - val_loss: 0.3060 - val_accuracy: 0.8708 - val_precision_19: 0.8262 - val_recall_19: 0.9431\n",
            "Epoch 85/100\n",
            "137/137 [==============================] - 1s 5ms/step - loss: 0.3285 - accuracy: 0.8535 - precision_19: 0.8213 - recall_19: 0.9016 - val_loss: 0.3028 - val_accuracy: 0.8714 - val_precision_19: 0.8280 - val_recall_19: 0.9418\n",
            "Epoch 86/100\n",
            "137/137 [==============================] - 1s 5ms/step - loss: 0.3096 - accuracy: 0.8652 - precision_19: 0.8301 - recall_19: 0.9167 - val_loss: 0.3017 - val_accuracy: 0.8810 - val_precision_19: 0.8585 - val_recall_19: 0.9160\n",
            "Epoch 87/100\n",
            "137/137 [==============================] - 1s 4ms/step - loss: 0.3129 - accuracy: 0.8630 - precision_19: 0.8290 - recall_19: 0.9128 - val_loss: 0.3050 - val_accuracy: 0.8687 - val_precision_19: 0.8356 - val_recall_19: 0.9221\n",
            "Epoch 88/100\n",
            "137/137 [==============================] - 1s 5ms/step - loss: 0.3180 - accuracy: 0.8625 - precision_19: 0.8322 - recall_19: 0.9060 - val_loss: 0.3053 - val_accuracy: 0.8694 - val_precision_19: 0.8197 - val_recall_19: 0.9513\n",
            "Epoch 89/100\n",
            "137/137 [==============================] - 1s 5ms/step - loss: 0.3044 - accuracy: 0.8692 - precision_19: 0.8315 - recall_19: 0.9243 - val_loss: 0.3042 - val_accuracy: 0.8735 - val_precision_19: 0.8349 - val_recall_19: 0.9350\n",
            "Epoch 90/100\n",
            "137/137 [==============================] - 1s 5ms/step - loss: 0.3143 - accuracy: 0.8626 - precision_19: 0.8318 - recall_19: 0.9072 - val_loss: 0.2994 - val_accuracy: 0.8714 - val_precision_19: 0.8315 - val_recall_19: 0.9357\n",
            "Epoch 91/100\n",
            "137/137 [==============================] - 1s 5ms/step - loss: 0.3053 - accuracy: 0.8691 - precision_19: 0.8383 - recall_19: 0.9128 - val_loss: 0.3133 - val_accuracy: 0.8615 - val_precision_19: 0.8107 - val_recall_19: 0.9479\n",
            "Epoch 92/100\n",
            "137/137 [==============================] - 1s 4ms/step - loss: 0.3767 - accuracy: 0.8322 - precision_19: 0.8012 - recall_19: 0.8812 - val_loss: 0.3542 - val_accuracy: 0.8461 - val_precision_19: 0.7834 - val_recall_19: 0.9621\n",
            "Epoch 93/100\n",
            "137/137 [==============================] - 1s 5ms/step - loss: 0.3430 - accuracy: 0.8542 - precision_19: 0.8156 - recall_19: 0.9134 - val_loss: 0.3188 - val_accuracy: 0.8632 - val_precision_19: 0.8141 - val_recall_19: 0.9458\n",
            "Epoch 94/100\n",
            "137/137 [==============================] - 1s 4ms/step - loss: 0.3309 - accuracy: 0.8576 - precision_19: 0.8216 - recall_19: 0.9116 - val_loss: 0.3194 - val_accuracy: 0.8687 - val_precision_19: 0.8158 - val_recall_19: 0.9567\n",
            "Epoch 95/100\n",
            "137/137 [==============================] - 1s 4ms/step - loss: 0.3220 - accuracy: 0.8638 - precision_19: 0.8277 - recall_19: 0.9170 - val_loss: 0.3065 - val_accuracy: 0.8711 - val_precision_19: 0.8252 - val_recall_19: 0.9458\n",
            "Epoch 96/100\n",
            "137/137 [==============================] - 1s 4ms/step - loss: 0.3129 - accuracy: 0.8679 - precision_19: 0.8288 - recall_19: 0.9255 - val_loss: 0.3092 - val_accuracy: 0.8670 - val_precision_19: 0.8231 - val_recall_19: 0.9391\n",
            "Epoch 97/100\n",
            "137/137 [==============================] - 1s 4ms/step - loss: 0.3167 - accuracy: 0.8641 - precision_19: 0.8274 - recall_19: 0.9181 - val_loss: 0.2968 - val_accuracy: 0.8762 - val_precision_19: 0.8428 - val_recall_19: 0.9289\n",
            "Epoch 98/100\n",
            "137/137 [==============================] - 1s 4ms/step - loss: 0.3191 - accuracy: 0.8594 - precision_19: 0.8218 - recall_19: 0.9158 - val_loss: 0.3044 - val_accuracy: 0.8735 - val_precision_19: 0.8374 - val_recall_19: 0.9309\n",
            "Epoch 99/100\n",
            "137/137 [==============================] - 1s 5ms/step - loss: 0.3118 - accuracy: 0.8648 - precision_19: 0.8306 - recall_19: 0.9146 - val_loss: 0.3042 - val_accuracy: 0.8690 - val_precision_19: 0.8234 - val_recall_19: 0.9438\n",
            "Epoch 100/100\n",
            "137/137 [==============================] - 1s 4ms/step - loss: 0.3163 - accuracy: 0.8627 - precision_19: 0.8230 - recall_19: 0.9223 - val_loss: 0.3030 - val_accuracy: 0.8708 - val_precision_19: 0.8213 - val_recall_19: 0.9519\n"
          ]
        },
        {
          "output_type": "execute_result",
          "data": {
            "text/plain": [
              "<keras.callbacks.History at 0x7fbbd5edef10>"
            ]
          },
          "metadata": {},
          "execution_count": 53
        }
      ]
    },
    {
      "cell_type": "markdown",
      "metadata": {
        "id": "wih9ltzbVH5F"
      },
      "source": [
        "We achieved 87% accuracy on the test set which is a great result."
      ]
    }
  ]
}