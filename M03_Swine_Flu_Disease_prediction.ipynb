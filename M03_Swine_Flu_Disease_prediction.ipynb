{
  "cells": [
    {
      "cell_type": "markdown",
      "metadata": {
        "id": "view-in-github",
        "colab_type": "text"
      },
      "source": [
        "<a href=\"https://colab.research.google.com/github/soulayman-al-abdallah/Data-Science-Projects/blob/main/M03_Swine_Flu_Disease_prediction.ipynb\" target=\"_parent\"><img src=\"https://colab.research.google.com/assets/colab-badge.svg\" alt=\"Open In Colab\"/></a>"
      ]
    },
    {
      "cell_type": "markdown",
      "metadata": {
        "id": "rjLS7rt_ddsU"
      },
      "source": [
        "\n",
        "##**Case Study:** Swine Flu Disease prediction\n",
        "<br>We will use a Swine Flu dataset that tells us if a person has the flu or not based on the symptoms he/she is experiencing. The columns in this dataset are:<br>\n",
        "* Chills: has chills or not.\n",
        "* Runny nose: has a runny nose or not.\n",
        "* Headache: the level of headache that a person is experiencing ( Miild, Moderate, or No headache).\n",
        "* Fever: has fever or not.\n",
        "* Flu: The target value, the person has the flu or not."
      ]
    },
    {
      "cell_type": "markdown",
      "metadata": {
        "id": "Bw-ThFM9eDIS"
      },
      "source": [
        "#Importing Librarires"
      ]
    },
    {
      "cell_type": "code",
      "execution_count": 1,
      "metadata": {
        "id": "Rapla3NhdNO9"
      },
      "outputs": [],
      "source": [
        "import numpy as np\n",
        "import pandas as pd\n",
        "import matplotlib.pyplot as plt\n",
        "import seaborn as sns\n",
        "from sklearn import preprocessing"
      ]
    },
    {
      "cell_type": "markdown",
      "metadata": {
        "id": "YWCQa0V4eHia"
      },
      "source": [
        "#Loading the Dataset"
      ]
    },
    {
      "cell_type": "code",
      "execution_count": 2,
      "metadata": {
        "colab": {
          "base_uri": "https://localhost:8080/"
        },
        "id": "2fFP2bVFivrW",
        "outputId": "626bf79b-b3ac-4785-b4bd-b8af1212308c"
      },
      "outputs": [
        {
          "output_type": "stream",
          "name": "stdout",
          "text": [
            "Cloning into 'machine_learning_certification'...\n",
            "remote: Enumerating objects: 43, done.\u001b[K\n",
            "remote: Counting objects: 100% (43/43), done.\u001b[K\n",
            "remote: Compressing objects: 100% (39/39), done.\u001b[K\n",
            "remote: Total 43 (delta 10), reused 10 (delta 1), pack-reused 0\u001b[K\n",
            "Unpacking objects: 100% (43/43), done.\n",
            "/content/machine_learning_certification\n"
          ]
        }
      ],
      "source": [
        "# clone git repo\n",
        "!git clone https://github.com/zaka-ai/machine_learning_certification\n",
        "\n",
        "# change working directory\n",
        "%cd machine_learning_certification/"
      ]
    },
    {
      "cell_type": "code",
      "execution_count": 3,
      "metadata": {
        "colab": {
          "base_uri": "https://localhost:8080/",
          "height": 206
        },
        "id": "tByNsaj8eCSA",
        "outputId": "aea6e895-1f80-4516-8e4c-76377ce7f117"
      },
      "outputs": [
        {
          "output_type": "execute_result",
          "data": {
            "text/plain": [
              "  Chills runny nose head ache fever Flu\n",
              "0      Y          N      Mild     Y   N\n",
              "1      Y          Y        No     N   Y\n",
              "2      Y          N    Strong     Y   Y\n",
              "3      N          Y      Mild     Y   Y\n",
              "4      N          N        No     N   N"
            ],
            "text/html": [
              "\n",
              "  <div id=\"df-74224ba4-5559-4f38-94d4-1b873ce9e365\">\n",
              "    <div class=\"colab-df-container\">\n",
              "      <div>\n",
              "<style scoped>\n",
              "    .dataframe tbody tr th:only-of-type {\n",
              "        vertical-align: middle;\n",
              "    }\n",
              "\n",
              "    .dataframe tbody tr th {\n",
              "        vertical-align: top;\n",
              "    }\n",
              "\n",
              "    .dataframe thead th {\n",
              "        text-align: right;\n",
              "    }\n",
              "</style>\n",
              "<table border=\"1\" class=\"dataframe\">\n",
              "  <thead>\n",
              "    <tr style=\"text-align: right;\">\n",
              "      <th></th>\n",
              "      <th>Chills</th>\n",
              "      <th>runny nose</th>\n",
              "      <th>head ache</th>\n",
              "      <th>fever</th>\n",
              "      <th>Flu</th>\n",
              "    </tr>\n",
              "  </thead>\n",
              "  <tbody>\n",
              "    <tr>\n",
              "      <th>0</th>\n",
              "      <td>Y</td>\n",
              "      <td>N</td>\n",
              "      <td>Mild</td>\n",
              "      <td>Y</td>\n",
              "      <td>N</td>\n",
              "    </tr>\n",
              "    <tr>\n",
              "      <th>1</th>\n",
              "      <td>Y</td>\n",
              "      <td>Y</td>\n",
              "      <td>No</td>\n",
              "      <td>N</td>\n",
              "      <td>Y</td>\n",
              "    </tr>\n",
              "    <tr>\n",
              "      <th>2</th>\n",
              "      <td>Y</td>\n",
              "      <td>N</td>\n",
              "      <td>Strong</td>\n",
              "      <td>Y</td>\n",
              "      <td>Y</td>\n",
              "    </tr>\n",
              "    <tr>\n",
              "      <th>3</th>\n",
              "      <td>N</td>\n",
              "      <td>Y</td>\n",
              "      <td>Mild</td>\n",
              "      <td>Y</td>\n",
              "      <td>Y</td>\n",
              "    </tr>\n",
              "    <tr>\n",
              "      <th>4</th>\n",
              "      <td>N</td>\n",
              "      <td>N</td>\n",
              "      <td>No</td>\n",
              "      <td>N</td>\n",
              "      <td>N</td>\n",
              "    </tr>\n",
              "  </tbody>\n",
              "</table>\n",
              "</div>\n",
              "      <button class=\"colab-df-convert\" onclick=\"convertToInteractive('df-74224ba4-5559-4f38-94d4-1b873ce9e365')\"\n",
              "              title=\"Convert this dataframe to an interactive table.\"\n",
              "              style=\"display:none;\">\n",
              "        \n",
              "  <svg xmlns=\"http://www.w3.org/2000/svg\" height=\"24px\"viewBox=\"0 0 24 24\"\n",
              "       width=\"24px\">\n",
              "    <path d=\"M0 0h24v24H0V0z\" fill=\"none\"/>\n",
              "    <path d=\"M18.56 5.44l.94 2.06.94-2.06 2.06-.94-2.06-.94-.94-2.06-.94 2.06-2.06.94zm-11 1L8.5 8.5l.94-2.06 2.06-.94-2.06-.94L8.5 2.5l-.94 2.06-2.06.94zm10 10l.94 2.06.94-2.06 2.06-.94-2.06-.94-.94-2.06-.94 2.06-2.06.94z\"/><path d=\"M17.41 7.96l-1.37-1.37c-.4-.4-.92-.59-1.43-.59-.52 0-1.04.2-1.43.59L10.3 9.45l-7.72 7.72c-.78.78-.78 2.05 0 2.83L4 21.41c.39.39.9.59 1.41.59.51 0 1.02-.2 1.41-.59l7.78-7.78 2.81-2.81c.8-.78.8-2.07 0-2.86zM5.41 20L4 18.59l7.72-7.72 1.47 1.35L5.41 20z\"/>\n",
              "  </svg>\n",
              "      </button>\n",
              "      \n",
              "  <style>\n",
              "    .colab-df-container {\n",
              "      display:flex;\n",
              "      flex-wrap:wrap;\n",
              "      gap: 12px;\n",
              "    }\n",
              "\n",
              "    .colab-df-convert {\n",
              "      background-color: #E8F0FE;\n",
              "      border: none;\n",
              "      border-radius: 50%;\n",
              "      cursor: pointer;\n",
              "      display: none;\n",
              "      fill: #1967D2;\n",
              "      height: 32px;\n",
              "      padding: 0 0 0 0;\n",
              "      width: 32px;\n",
              "    }\n",
              "\n",
              "    .colab-df-convert:hover {\n",
              "      background-color: #E2EBFA;\n",
              "      box-shadow: 0px 1px 2px rgba(60, 64, 67, 0.3), 0px 1px 3px 1px rgba(60, 64, 67, 0.15);\n",
              "      fill: #174EA6;\n",
              "    }\n",
              "\n",
              "    [theme=dark] .colab-df-convert {\n",
              "      background-color: #3B4455;\n",
              "      fill: #D2E3FC;\n",
              "    }\n",
              "\n",
              "    [theme=dark] .colab-df-convert:hover {\n",
              "      background-color: #434B5C;\n",
              "      box-shadow: 0px 1px 3px 1px rgba(0, 0, 0, 0.15);\n",
              "      filter: drop-shadow(0px 1px 2px rgba(0, 0, 0, 0.3));\n",
              "      fill: #FFFFFF;\n",
              "    }\n",
              "  </style>\n",
              "\n",
              "      <script>\n",
              "        const buttonEl =\n",
              "          document.querySelector('#df-74224ba4-5559-4f38-94d4-1b873ce9e365 button.colab-df-convert');\n",
              "        buttonEl.style.display =\n",
              "          google.colab.kernel.accessAllowed ? 'block' : 'none';\n",
              "\n",
              "        async function convertToInteractive(key) {\n",
              "          const element = document.querySelector('#df-74224ba4-5559-4f38-94d4-1b873ce9e365');\n",
              "          const dataTable =\n",
              "            await google.colab.kernel.invokeFunction('convertToInteractive',\n",
              "                                                     [key], {});\n",
              "          if (!dataTable) return;\n",
              "\n",
              "          const docLinkHtml = 'Like what you see? Visit the ' +\n",
              "            '<a target=\"_blank\" href=https://colab.research.google.com/notebooks/data_table.ipynb>data table notebook</a>'\n",
              "            + ' to learn more about interactive tables.';\n",
              "          element.innerHTML = '';\n",
              "          dataTable['output_type'] = 'display_data';\n",
              "          await google.colab.output.renderOutput(dataTable, element);\n",
              "          const docLink = document.createElement('div');\n",
              "          docLink.innerHTML = docLinkHtml;\n",
              "          element.appendChild(docLink);\n",
              "        }\n",
              "      </script>\n",
              "    </div>\n",
              "  </div>\n",
              "  "
            ]
          },
          "metadata": {},
          "execution_count": 3
        }
      ],
      "source": [
        "df = pd.read_csv('flu.csv')\n",
        "df.head()"
      ]
    },
    {
      "cell_type": "markdown",
      "metadata": {
        "id": "jJt9HuRwem_B"
      },
      "source": [
        "**▶  We can see that:**\n",
        "\n",
        "\n",
        "we have 4 features that will predict if the person has the Swine Flu or not."
      ]
    },
    {
      "cell_type": "markdown",
      "source": [
        "\n",
        "\n",
        "---\n",
        "\n"
      ],
      "metadata": {
        "id": "sVGbJ3jBj4W5"
      }
    },
    {
      "cell_type": "markdown",
      "metadata": {
        "id": "y69c9g1wfz7I"
      },
      "source": [
        "Let's check the shape of our data."
      ]
    },
    {
      "cell_type": "code",
      "execution_count": 4,
      "metadata": {
        "colab": {
          "base_uri": "https://localhost:8080/"
        },
        "id": "vt-IgNONfzcR",
        "outputId": "3ce338b1-3eda-4786-af33-a486e54f7bf8"
      },
      "outputs": [
        {
          "output_type": "execute_result",
          "data": {
            "text/plain": [
              "(8, 5)"
            ]
          },
          "metadata": {},
          "execution_count": 4
        }
      ],
      "source": [
        "#checking the shape of our data\n",
        "df.shape"
      ]
    },
    {
      "cell_type": "markdown",
      "metadata": {
        "id": "q7APX_Rvf53o"
      },
      "source": [
        "**▶ We can see that:**\n",
        "\n",
        "8 examples in this dataset (A small one! Will be good enough for our demonstration purposes)."
      ]
    },
    {
      "cell_type": "markdown",
      "source": [
        "\n",
        "\n",
        "---\n",
        "\n"
      ],
      "metadata": {
        "id": "afs53OpgkX-T"
      }
    },
    {
      "cell_type": "code",
      "execution_count": 5,
      "metadata": {
        "colab": {
          "base_uri": "https://localhost:8080/"
        },
        "id": "vRB5c4jfgdsf",
        "outputId": "d0de8c33-8d0e-4b85-96e1-d0bcef5d66ed"
      },
      "outputs": [
        {
          "output_type": "stream",
          "name": "stdout",
          "text": [
            "<class 'pandas.core.frame.DataFrame'>\n",
            "RangeIndex: 8 entries, 0 to 7\n",
            "Data columns (total 5 columns):\n",
            " #   Column      Non-Null Count  Dtype \n",
            "---  ------      --------------  ----- \n",
            " 0   Chills      8 non-null      object\n",
            " 1   runny nose  8 non-null      object\n",
            " 2   head ache   8 non-null      object\n",
            " 3   fever       8 non-null      object\n",
            " 4   Flu         8 non-null      object\n",
            "dtypes: object(5)\n",
            "memory usage: 448.0+ bytes\n"
          ]
        }
      ],
      "source": [
        "df.info()"
      ]
    },
    {
      "cell_type": "markdown",
      "metadata": {
        "id": "TQagSolzMHfK"
      },
      "source": [
        "**▶ We can see that:**\n",
        "\n",
        "No missing values. However, all our features and target variables are of data type object which we can't feed to the model, so we need to clean those."
      ]
    },
    {
      "cell_type": "markdown",
      "source": [],
      "metadata": {
        "id": "SxOTe10Nkk_M"
      }
    },
    {
      "cell_type": "markdown",
      "metadata": {
        "id": "i_NAc27IfwVJ"
      },
      "source": [
        "#Dataset Preprocessing"
      ]
    },
    {
      "cell_type": "markdown",
      "metadata": {
        "id": "j_y0yDQSf9kQ"
      },
      "source": [
        "## Converting Categorical Features to Numerical"
      ]
    },
    {
      "cell_type": "markdown",
      "metadata": {
        "id": "uyO94JZRgEDy"
      },
      "source": [
        "We need to change the categorical features to Numerical, in order to feed them to the algorithm so we are able to run the classification."
      ]
    },
    {
      "cell_type": "code",
      "execution_count": 6,
      "metadata": {
        "colab": {
          "base_uri": "https://localhost:8080/",
          "height": 0
        },
        "id": "yDE3JD06fvp7",
        "outputId": "ba2ccbd1-5ef7-4147-9a08-7c30458c8f02"
      },
      "outputs": [
        {
          "output_type": "execute_result",
          "data": {
            "text/plain": [
              "   Chills  runny nose  head ache  fever  Flu\n",
              "0       1           0          0      1    0\n",
              "1       1           1          1      0    1\n",
              "2       1           0          2      1    1\n",
              "3       0           1          0      1    1\n",
              "4       0           0          1      0    0\n",
              "5       0           1          2      1    1\n",
              "6       0           1          2      0    0\n",
              "7       1           1          0      1    1"
            ],
            "text/html": [
              "\n",
              "  <div id=\"df-c25abbbe-b37d-4003-9925-3e4260ccb7b7\">\n",
              "    <div class=\"colab-df-container\">\n",
              "      <div>\n",
              "<style scoped>\n",
              "    .dataframe tbody tr th:only-of-type {\n",
              "        vertical-align: middle;\n",
              "    }\n",
              "\n",
              "    .dataframe tbody tr th {\n",
              "        vertical-align: top;\n",
              "    }\n",
              "\n",
              "    .dataframe thead th {\n",
              "        text-align: right;\n",
              "    }\n",
              "</style>\n",
              "<table border=\"1\" class=\"dataframe\">\n",
              "  <thead>\n",
              "    <tr style=\"text-align: right;\">\n",
              "      <th></th>\n",
              "      <th>Chills</th>\n",
              "      <th>runny nose</th>\n",
              "      <th>head ache</th>\n",
              "      <th>fever</th>\n",
              "      <th>Flu</th>\n",
              "    </tr>\n",
              "  </thead>\n",
              "  <tbody>\n",
              "    <tr>\n",
              "      <th>0</th>\n",
              "      <td>1</td>\n",
              "      <td>0</td>\n",
              "      <td>0</td>\n",
              "      <td>1</td>\n",
              "      <td>0</td>\n",
              "    </tr>\n",
              "    <tr>\n",
              "      <th>1</th>\n",
              "      <td>1</td>\n",
              "      <td>1</td>\n",
              "      <td>1</td>\n",
              "      <td>0</td>\n",
              "      <td>1</td>\n",
              "    </tr>\n",
              "    <tr>\n",
              "      <th>2</th>\n",
              "      <td>1</td>\n",
              "      <td>0</td>\n",
              "      <td>2</td>\n",
              "      <td>1</td>\n",
              "      <td>1</td>\n",
              "    </tr>\n",
              "    <tr>\n",
              "      <th>3</th>\n",
              "      <td>0</td>\n",
              "      <td>1</td>\n",
              "      <td>0</td>\n",
              "      <td>1</td>\n",
              "      <td>1</td>\n",
              "    </tr>\n",
              "    <tr>\n",
              "      <th>4</th>\n",
              "      <td>0</td>\n",
              "      <td>0</td>\n",
              "      <td>1</td>\n",
              "      <td>0</td>\n",
              "      <td>0</td>\n",
              "    </tr>\n",
              "    <tr>\n",
              "      <th>5</th>\n",
              "      <td>0</td>\n",
              "      <td>1</td>\n",
              "      <td>2</td>\n",
              "      <td>1</td>\n",
              "      <td>1</td>\n",
              "    </tr>\n",
              "    <tr>\n",
              "      <th>6</th>\n",
              "      <td>0</td>\n",
              "      <td>1</td>\n",
              "      <td>2</td>\n",
              "      <td>0</td>\n",
              "      <td>0</td>\n",
              "    </tr>\n",
              "    <tr>\n",
              "      <th>7</th>\n",
              "      <td>1</td>\n",
              "      <td>1</td>\n",
              "      <td>0</td>\n",
              "      <td>1</td>\n",
              "      <td>1</td>\n",
              "    </tr>\n",
              "  </tbody>\n",
              "</table>\n",
              "</div>\n",
              "      <button class=\"colab-df-convert\" onclick=\"convertToInteractive('df-c25abbbe-b37d-4003-9925-3e4260ccb7b7')\"\n",
              "              title=\"Convert this dataframe to an interactive table.\"\n",
              "              style=\"display:none;\">\n",
              "        \n",
              "  <svg xmlns=\"http://www.w3.org/2000/svg\" height=\"24px\"viewBox=\"0 0 24 24\"\n",
              "       width=\"24px\">\n",
              "    <path d=\"M0 0h24v24H0V0z\" fill=\"none\"/>\n",
              "    <path d=\"M18.56 5.44l.94 2.06.94-2.06 2.06-.94-2.06-.94-.94-2.06-.94 2.06-2.06.94zm-11 1L8.5 8.5l.94-2.06 2.06-.94-2.06-.94L8.5 2.5l-.94 2.06-2.06.94zm10 10l.94 2.06.94-2.06 2.06-.94-2.06-.94-.94-2.06-.94 2.06-2.06.94z\"/><path d=\"M17.41 7.96l-1.37-1.37c-.4-.4-.92-.59-1.43-.59-.52 0-1.04.2-1.43.59L10.3 9.45l-7.72 7.72c-.78.78-.78 2.05 0 2.83L4 21.41c.39.39.9.59 1.41.59.51 0 1.02-.2 1.41-.59l7.78-7.78 2.81-2.81c.8-.78.8-2.07 0-2.86zM5.41 20L4 18.59l7.72-7.72 1.47 1.35L5.41 20z\"/>\n",
              "  </svg>\n",
              "      </button>\n",
              "      \n",
              "  <style>\n",
              "    .colab-df-container {\n",
              "      display:flex;\n",
              "      flex-wrap:wrap;\n",
              "      gap: 12px;\n",
              "    }\n",
              "\n",
              "    .colab-df-convert {\n",
              "      background-color: #E8F0FE;\n",
              "      border: none;\n",
              "      border-radius: 50%;\n",
              "      cursor: pointer;\n",
              "      display: none;\n",
              "      fill: #1967D2;\n",
              "      height: 32px;\n",
              "      padding: 0 0 0 0;\n",
              "      width: 32px;\n",
              "    }\n",
              "\n",
              "    .colab-df-convert:hover {\n",
              "      background-color: #E2EBFA;\n",
              "      box-shadow: 0px 1px 2px rgba(60, 64, 67, 0.3), 0px 1px 3px 1px rgba(60, 64, 67, 0.15);\n",
              "      fill: #174EA6;\n",
              "    }\n",
              "\n",
              "    [theme=dark] .colab-df-convert {\n",
              "      background-color: #3B4455;\n",
              "      fill: #D2E3FC;\n",
              "    }\n",
              "\n",
              "    [theme=dark] .colab-df-convert:hover {\n",
              "      background-color: #434B5C;\n",
              "      box-shadow: 0px 1px 3px 1px rgba(0, 0, 0, 0.15);\n",
              "      filter: drop-shadow(0px 1px 2px rgba(0, 0, 0, 0.3));\n",
              "      fill: #FFFFFF;\n",
              "    }\n",
              "  </style>\n",
              "\n",
              "      <script>\n",
              "        const buttonEl =\n",
              "          document.querySelector('#df-c25abbbe-b37d-4003-9925-3e4260ccb7b7 button.colab-df-convert');\n",
              "        buttonEl.style.display =\n",
              "          google.colab.kernel.accessAllowed ? 'block' : 'none';\n",
              "\n",
              "        async function convertToInteractive(key) {\n",
              "          const element = document.querySelector('#df-c25abbbe-b37d-4003-9925-3e4260ccb7b7');\n",
              "          const dataTable =\n",
              "            await google.colab.kernel.invokeFunction('convertToInteractive',\n",
              "                                                     [key], {});\n",
              "          if (!dataTable) return;\n",
              "\n",
              "          const docLinkHtml = 'Like what you see? Visit the ' +\n",
              "            '<a target=\"_blank\" href=https://colab.research.google.com/notebooks/data_table.ipynb>data table notebook</a>'\n",
              "            + ' to learn more about interactive tables.';\n",
              "          element.innerHTML = '';\n",
              "          dataTable['output_type'] = 'display_data';\n",
              "          await google.colab.output.renderOutput(dataTable, element);\n",
              "          const docLink = document.createElement('div');\n",
              "          docLink.innerHTML = docLinkHtml;\n",
              "          element.appendChild(docLink);\n",
              "        }\n",
              "      </script>\n",
              "    </div>\n",
              "  </div>\n",
              "  "
            ]
          },
          "metadata": {},
          "execution_count": 6
        }
      ],
      "source": [
        "#encoding the values using the LabelEncoder tool provided by scikit learn\n",
        "\n",
        "encoder = preprocessing.LabelEncoder()\n",
        "df['Chills'] = encoder.fit_transform(df['Chills'])\n",
        "df['runny nose'] = encoder.fit_transform(df['runny nose'])\n",
        "df['head ache'] = encoder.fit_transform(df['head ache'])\n",
        "df['fever'] = encoder.fit_transform(df['fever'])\n",
        "df['Flu'] = encoder.fit_transform(df['Flu'])\n",
        "\n",
        "df.head(8)"
      ]
    },
    {
      "cell_type": "markdown",
      "source": [
        "\n",
        "\n",
        "---\n",
        "\n"
      ],
      "metadata": {
        "id": "mzRVZ33LlW3E"
      }
    },
    {
      "cell_type": "markdown",
      "metadata": {
        "id": "HBjy0aDYkvbL"
      },
      "source": [
        "#Naive Bayes"
      ]
    },
    {
      "cell_type": "markdown",
      "metadata": {
        "id": "lqh3vsZdkxGZ"
      },
      "source": [
        "Now we will implement a Naive Bayes Model from scratch to classify if a person has the flu or not given that he/she is experiencing some symptoms."
      ]
    },
    {
      "cell_type": "markdown",
      "metadata": {
        "id": "Gc17RS0bmjyj"
      },
      "source": [
        "In our case, we have:\n",
        "* **F1:** Chills\n",
        "* **F2:** runny nose\n",
        "* **F3:** headache\n",
        "* **F4:** Fever\n",
        "* **Class:** Flu or No Flu\n",
        " <br> "
      ]
    },
    {
      "cell_type": "markdown",
      "metadata": {
        "id": "j4ORaYPFoVJF"
      },
      "source": [
        "So, given a set of features, what we do is calculate P1 and P2, which are P(Flu) and P(No Flu), respectively.  Finally, the larger between them is chosen to be the predicted class for the given data sample.<br> <br>\n",
        "<img src=\"https://equatio-api.texthelp.com/svg/P_1%3DP%5Cleft(%5Ctextcolor%7B%23E94D40%7D%7BF_1%7D%5Cmid%5Ctextcolor%7B%232B7FBB%7D%7BFlu%3DYES%7D%5Cright)%5Ccdot%20P%5Cleft(%5Ctextcolor%7B%23E94D40%7D%7BF_2%7D%5Cmid%5Ctextcolor%7B%232B7FBB%7D%7BFlu%3DYES%7D%5Cright)%5Ccdot%20P%5Cleft(%5Ctextcolor%7B%23E94D40%7D%7BF_3%7D%5Cmid%5Ctextcolor%7B%232B7FBB%7D%7BFlu%3DYES%7D%5Cright)%5Ccdot%20P%5Cleft(%5Ctextcolor%7B%23E94D40%7D%7BF_4%7D%5Cmid%5Ctextcolor%7B%232B7FBB%7D%7BFlu%3DYES%7D%5Cright)%5Ccdot%20P(%5Ctextcolor%7B%232B7FBB%7D%7BFlu%3DYES%7D)%5C%20%5Cpropto%20P%5Cleft(%5Ctextcolor%7B%232B7FBB%7D%7BFlu%3DYES%7D%5Cmid%5Ctextcolor%7B%23E94D40%7D%7BF_1%2CF_2%2CF_3%2CF_4%7D%5Cright)\" alt=\"P sub 1 equals P of open paren F sub 1 divides F of l u equals Y E S close paren times P of open paren F sub 2 divides F of l u equals Y E S close paren times P of open paren F sub 3 divides F of l u equals Y E S close paren times P of open paren F sub 4 divides F of l u equals Y E S close paren times P of open paren F of l u equals Y E S close paren proportional to P of open paren F of l u equals Y E S divides F sub 1 comma F sub 2 comma F sub 3 comma F sub 4 close paren\">\n",
        "<br>\n",
        "<img src=\"https://equatio-api.texthelp.com/svg/P_2%3DP%5Cleft(%5Ctextcolor%7B%23E94D40%7D%7BF_1%7D%5Cmid%5Ctextcolor%7B%232B7FBB%7D%7BFlu%3DNO%7D%5Cright)%5Ccdot%20P%5Cleft(%5Ctextcolor%7B%23E94D40%7D%7BF_2%7D%5Cmid%5Ctextcolor%7B%232B7FBB%7D%7BFlu%3DNO%7D%5Cright)%5Ccdot%20P%5Cleft(%5Ctextcolor%7B%23E94D40%7D%7BF_3%7D%5Cmid%5Ctextcolor%7B%232B7FBB%7D%7BFlu%3DNO%7D%5Cright)%5Ccdot%20P%5Cleft(%5Ctextcolor%7B%23E94D40%7D%7BF_4%7D%5Cmid%5Ctextcolor%7B%232B7FBB%7D%7BFlu%3DNO%7D%5Cright)%5Ccdot%20P(%5Ctextcolor%7B%232B7FBB%7D%7BFlu%3DNO%7D)%5C%20%5Cpropto%20P%5Cleft(%5Ctextcolor%7B%232B7FBB%7D%7BFlu%3DNO%7D%5Cmid%5Ctextcolor%7B%23E94D40%7D%7BF_1%2CF_2%2CF_3%2CF_4%7D%5Cright)\" alt=\"P sub 2 equals P of open paren F sub 1 divides F of l u equals N O close paren times P of open paren F sub 2 divides F of l u equals N O close paren times P of open paren F sub 3 divides F of l u equals N O close paren times P of open paren F sub 4 divides F of l u equals N O close paren times P of open paren F of l u equals N O close paren proportional to P of open paren F of l u equals N O divides F sub 1 comma F sub 2 comma F sub 3 comma F sub 4 close paren\">\n",
        "<br>\n"
      ]
    },
    {
      "cell_type": "markdown",
      "metadata": {
        "id": "npm8dKTTWVU6"
      },
      "source": [
        "* If P1>P2 --> The Person has the flu\n",
        "* If P1<P2 --> The person does not have the flu"
      ]
    },
    {
      "cell_type": "markdown",
      "metadata": {
        "id": "vyMqwvo1orjF"
      },
      "source": [
        "## Naive Bayes from Scracth\n",
        "\n"
      ]
    },
    {
      "cell_type": "code",
      "execution_count": 7,
      "metadata": {
        "id": "GZQ52GaFpYEg"
      },
      "outputs": [],
      "source": [
        "def naive_bayes (data, features, target_name):\n",
        "  #We assume the user will give a numpy array of fetaures\n",
        "  n_examples = len(data)\n",
        "  n_features = features.shape[0]\n",
        "\n",
        "  #Seperating the dataset samples depending on the target value\n",
        "  target_yes = data [data[target_name] == 1] # samples for YES\n",
        "  target_no = data[data[target_name] == 0] # samples for NO\n",
        "\n",
        "  #Computing independent probabilities of class YES and No\n",
        "  p_target_yes = len(target_yes)/float(n_examples) # P(Flu=YES)\n",
        "  p_target_no = len(target_no)/float(n_examples) # P(Flu=NO)\n",
        "\n",
        "  #For each feature F, we need to compute the conditional probabilities: P(Features | flu=YES) and P(Features | flu=NO)\n",
        "  #We create two lists that will hold the probabilities of each feature conditioned upon the class (P(F1 | flu), P(F2 | flu),..)\n",
        "\n",
        "  p_feature_given_target_yes = []\n",
        "  p_feature_given_target_no = []\n",
        "\n",
        "  for i in range (features.shape[0]): #Loop through all 4 features\n",
        "\n",
        "    #Calculate P(F/Target=yes)\n",
        "    p_f_given_t_y = len(target_yes[target_yes.iloc[:,i] == features[i]])/float(len(target_yes))\n",
        "    p_feature_given_target_yes.append(p_f_given_t_y) #Append probabilities of all features conditioned on class Flu=YES\n",
        "\n",
        "    #Calculate P(F/Target=no)\n",
        "    p_f_given_t_n = len(target_no[target_no.iloc[:,i] == features[i]])/float(len(target_no))\n",
        "    p_feature_given_target_no.append(p_f_given_t_n) #Append probabilities of all features conditioned on class Flu=NO\n",
        "\n",
        "  #Finally, we need to apply Bayes' rule formula\n",
        "  #Note that np.prod multiplies all the elements of a list\n",
        "  \n",
        "  p1 = np.prod(p_feature_given_target_yes)*p_target_yes\n",
        "  p2 = np.prod(p_feature_given_target_no)*p_target_no\n",
        "\n",
        "  return [p1>p2] #Will return a Boolean on whether the condition is satisfied or not"
      ]
    },
    {
      "cell_type": "markdown",
      "metadata": {
        "id": "0JJYqCTq4BvU"
      },
      "source": [
        "### Make a Prediction"
      ]
    },
    {
      "cell_type": "markdown",
      "metadata": {
        "id": "td-77Ryp4Y5S"
      },
      "source": [
        "We will consider the following features for our person.\n",
        "* **Chills:** Yes (1)\n",
        "* **runny nose:** Yes (1)\n",
        "* **headache:** Mild (1)\n",
        "* **Fever:** Yes (1)"
      ]
    },
    {
      "cell_type": "code",
      "execution_count": 8,
      "metadata": {
        "colab": {
          "base_uri": "https://localhost:8080/"
        },
        "id": "L4T-onC_4ApW",
        "outputId": "1b5f4cc8-b5ba-48df-c038-09fb1f28cb00"
      },
      "outputs": [
        {
          "output_type": "stream",
          "name": "stdout",
          "text": [
            "[True]\n"
          ]
        }
      ],
      "source": [
        "features = np.array([1, 1, 1, 1])\n",
        "target_name = 'Flu'\n",
        "result = naive_bayes(df, features, target_name)\n",
        "\n",
        "print(result)"
      ]
    },
    {
      "cell_type": "markdown",
      "metadata": {
        "id": "XFEFzQvxebHp"
      },
      "source": [
        "**▶  We can say that:**\n",
        "\n",
        "Given that p1 is greater than p2, then we can predict the person HAS the flu. "
      ]
    },
    {
      "cell_type": "markdown",
      "source": [
        "\n",
        "\n",
        "---\n",
        "\n"
      ],
      "metadata": {
        "id": "7KBPTHz-nShs"
      }
    },
    {
      "cell_type": "markdown",
      "metadata": {
        "id": "66SUQ2rnUFH2"
      },
      "source": [
        "## Naive Bayes in Scikit learn"
      ]
    },
    {
      "cell_type": "code",
      "execution_count": 9,
      "metadata": {
        "colab": {
          "base_uri": "https://localhost:8080/"
        },
        "id": "bmu_NuSqUK_8",
        "outputId": "3770b1cb-90d8-4f13-b702-2b371807946d"
      },
      "outputs": [
        {
          "output_type": "stream",
          "name": "stdout",
          "text": [
            "[1]\n",
            "[[0.14938211 0.85061789]]\n"
          ]
        },
        {
          "output_type": "stream",
          "name": "stderr",
          "text": [
            "/usr/local/lib/python3.7/dist-packages/sklearn/base.py:451: UserWarning: X does not have valid feature names, but CategoricalNB was fitted with feature names\n",
            "  \"X does not have valid feature names, but\"\n",
            "/usr/local/lib/python3.7/dist-packages/sklearn/base.py:451: UserWarning: X does not have valid feature names, but CategoricalNB was fitted with feature names\n",
            "  \"X does not have valid feature names, but\"\n"
          ]
        }
      ],
      "source": [
        "from sklearn.naive_bayes import CategoricalNB\n",
        "\n",
        "X = df.drop('Flu', axis=1)\n",
        "Y = df['Flu']\n",
        "\n",
        "clf = CategoricalNB()\n",
        "clf.fit(X, Y)\n",
        "\n",
        "result = clf.predict([[1,1,1,1]])\n",
        "print(result)\n",
        "\n",
        "#We can predict the probability of the class here.\n",
        "print(clf.predict_proba([[1,1,1,1]]))"
      ]
    },
    {
      "cell_type": "markdown",
      "metadata": {
        "id": "BbfQ6lMfflIK"
      },
      "source": [
        "**▶  We can say that:**\n",
        "\n",
        "class 1 has a higher probability, which means the person HAS the flu - which is a similar result from what we got with our NB algorithm built from scratch!"
      ]
    },
    {
      "cell_type": "markdown",
      "metadata": {
        "id": "DyR3R0b9PxD3"
      },
      "source": [
        "\n",
        "\n",
        "---\n",
        "\n",
        "#Decision Trees"
      ]
    },
    {
      "cell_type": "markdown",
      "metadata": {
        "id": "oPFklmQeP4AW"
      },
      "source": [
        "Now, we will try to solve the same problem but using decision trees."
      ]
    },
    {
      "cell_type": "code",
      "execution_count": 10,
      "metadata": {
        "colab": {
          "base_uri": "https://localhost:8080/"
        },
        "id": "LYCJwq4R9IFG",
        "outputId": "bd460d97-fd7b-4d50-c516-3435c0a0bb43"
      },
      "outputs": [
        {
          "output_type": "execute_result",
          "data": {
            "text/plain": [
              "DecisionTreeClassifier(max_leaf_nodes=10)"
            ]
          },
          "metadata": {},
          "execution_count": 10
        }
      ],
      "source": [
        "from sklearn.tree import DecisionTreeClassifier\n",
        "\n",
        "X = df.drop('Flu', axis=1)\n",
        "Y = df['Flu']\n",
        "\n",
        "decision_tree_classifier = DecisionTreeClassifier(max_leaf_nodes= 10)\n",
        "decision_tree_classifier.fit(X,Y)"
      ]
    },
    {
      "cell_type": "markdown",
      "metadata": {
        "id": "Xl1l_sH9TmFy"
      },
      "source": [
        "##Printing Text Structure of the tree"
      ]
    },
    {
      "cell_type": "code",
      "execution_count": 11,
      "metadata": {
        "colab": {
          "base_uri": "https://localhost:8080/"
        },
        "id": "mzRf8M8XTo3W",
        "outputId": "5fcb8bac-5c19-4486-b1fe-ef977a634265"
      },
      "outputs": [
        {
          "output_type": "stream",
          "name": "stdout",
          "text": [
            "|--- Fever <= 0.50\n",
            "|   |--- Chills <= 0.50\n",
            "|   |   |--- class: 0\n",
            "|   |--- Chills >  0.50\n",
            "|   |   |--- class: 1\n",
            "|--- Fever >  0.50\n",
            "|   |--- Runny Nose <= 0.50\n",
            "|   |   |--- Headache <= 1.00\n",
            "|   |   |   |--- class: 0\n",
            "|   |   |--- Headache >  1.00\n",
            "|   |   |   |--- class: 1\n",
            "|   |--- Runny Nose >  0.50\n",
            "|   |   |--- class: 1\n",
            "\n"
          ]
        }
      ],
      "source": [
        "from sklearn import tree\n",
        "\n",
        "text_representation = tree.export_text(decision_tree_classifier, feature_names=['Chills', 'Runny Nose', 'Headache', 'Fever'])\n",
        "print(text_representation)"
      ]
    },
    {
      "cell_type": "markdown",
      "metadata": {
        "id": "p2ylgKJBRUC_"
      },
      "source": [
        "##Plotting the tree to see its structure"
      ]
    },
    {
      "cell_type": "code",
      "execution_count": 12,
      "metadata": {
        "colab": {
          "base_uri": "https://localhost:8080/",
          "height": 575
        },
        "id": "a3htzrgkQ5ZF",
        "outputId": "5790559c-39c7-4fa5-d7cf-889a6a2eaff6"
      },
      "outputs": [
        {
          "output_type": "display_data",
          "data": {
            "text/plain": [
              "<Figure size 720x720 with 1 Axes>"
            ],
            "image/png": "[encoded data removed]"
          },
          "metadata": {
            "needs_background": "light"
          }
        }
      ],
      "source": [
        "from sklearn import tree\n",
        "\n",
        "fig = plt.figure(figsize=(10,10))\n",
        "tree.plot_tree(decision_tree_classifier, feature_names=X.columns, class_names=['No Flu', 'Flu'])\n",
        "plt.show()"
      ]
    },
    {
      "cell_type": "markdown",
      "metadata": {
        "id": "1dXzXR04U6vo"
      },
      "source": [
        "##Predicting using a Decision Tree"
      ]
    },
    {
      "cell_type": "code",
      "execution_count": 15,
      "metadata": {
        "colab": {
          "base_uri": "https://localhost:8080/"
        },
        "id": "zuv3z00uRuwn",
        "outputId": "421a350c-c8b1-49c4-cd31-9656d1b4f2d5"
      },
      "outputs": [
        {
          "output_type": "stream",
          "name": "stdout",
          "text": [
            "This person has the flue: [1]\n"
          ]
        },
        {
          "output_type": "stream",
          "name": "stderr",
          "text": [
            "/usr/local/lib/python3.7/dist-packages/sklearn/base.py:451: UserWarning: X does not have valid feature names, but DecisionTreeClassifier was fitted with feature names\n",
            "  \"X does not have valid feature names, but\"\n"
          ]
        }
      ],
      "source": [
        "features = np.array([1,1,1,1])\n",
        "\n",
        "result = decision_tree_classifier.predict([features])\n",
        "print(\"This person has the flue:\", result)"
      ]
    },
    {
      "cell_type": "markdown",
      "metadata": {
        "id": "sNVfax5SghoK"
      },
      "source": [
        "Once again, we get the same result from our DT as our NB algorithm."
      ]
    }
  ],
  "metadata": {
    "colab": {
      "collapsed_sections": [],
      "name": "M03-Swine Flu Disease prediction.ipynb",
      "provenance": [],
      "toc_visible": true,
      "include_colab_link": true
    },
    "kernelspec": {
      "display_name": "Python 3",
      "name": "python3"
    },
    "language_info": {
      "name": "python"
    }
  },
  "nbformat": 4,
  "nbformat_minor": 0
}